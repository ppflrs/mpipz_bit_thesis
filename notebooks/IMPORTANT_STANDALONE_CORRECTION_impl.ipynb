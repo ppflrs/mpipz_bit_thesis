{
 "cells": [
  {
   "cell_type": "markdown",
   "metadata": {},
   "source": [
    "# Standalone Correction Function Implementation\n",
    "\n",
    "### Quickly obtrain a corrected value for a predicted [B] given the predicted [C]"
   ]
  },
  {
   "cell_type": "code",
   "execution_count": 1,
   "metadata": {},
   "outputs": [],
   "source": [
    "import numpy as np\n",
    "import pandas as pd\n",
    "import os\n",
    "import scipy\n",
    "\n",
    "import matplotlib.pyplot as plt\n",
    "\n",
    "import matplotlib.gridspec as gridspec\n",
    "\n",
    "import seaborn as sns\n",
    "sns.set(style='whitegrid')\n",
    "\n",
    "from os.path import join as pjoin\n",
    "\n",
    "import itertools as it\n",
    "\n",
    "%config InteractiveShell.ast_node_interactivity='all'\n",
    "%config InlineBackend.figure_format = 'svg'"
   ]
  },
  {
   "cell_type": "code",
   "execution_count": 2,
   "metadata": {},
   "outputs": [],
   "source": [
    "# Correct and Model\n",
    "\n",
    "# Corrected\n",
    "\n",
    "# Import Correction Data\n",
    "# Create Correction Models\n",
    "# Both Data has to be Corrected\n",
    "\n",
    "# path of the correction factor parameters\n",
    "path = '../data_o/calibration/community_calibration/created_models/reqd_corr_funcs_parameters.csv'\n",
    "\n",
    "def get_corr_params(file_loc, model='A680_A750_560'):\n",
    "    \n",
    "    print(model)\n",
    "    \n",
    "    df = pd.read_csv(path, index_col=0)\n",
    "    \n",
    "    return df.loc[model].values\n",
    "\n",
    "def  corr_func_Bsc(pB, pC, parameters, which_a2=None):\n",
    "    \n",
    "    # There are 3 options about which a2 to use,\n",
    "    # a2 refers to the breadth of the correcting\n",
    "    # parabola. These are either the:\n",
    "        # mean\n",
    "        # median\n",
    "        # a2 @ [B]= 0 (Row12)\n",
    "    \n",
    "    \n",
    "    a2s = parameters[:-2]\n",
    "    hfit = parameters[-2:]\n",
    "    # WHICH Parabolic BREADTH to use for correction\n",
    "    if which_a2 =='mean':\n",
    "        a2 = np.mean(a2s) # this is the mean\n",
    "        \n",
    "    elif which_a2 =='median':\n",
    "        a2 = np.median(a2s) # this should be more robust to outliers\n",
    "    \n",
    "    # set as default\n",
    "    else:\n",
    "        a2 = -0.499525586 #global over 3 models \n",
    "\n",
    "    # given the fitted line avove, use poly1d to create a \n",
    "    # prediction function\n",
    "    htor = np.poly1d(hfit)\n",
    "    \n",
    "    # takes in the predicted pB and spits out h in (h, k) the parabola\n",
    "    # that lives at this pB... i.e. vertex is at (h,pB)\n",
    "    lH = htor(pB)\n",
    "    \n",
    "    \n",
    "    # IMPORTANT #\n",
    "    # this is from an algebraic manipulation of the parabolic function\n",
    "    # in polynomial and parabolic form where h = -b/2*a2 --- since we\n",
    "    # \"know: a2 and p_h is dependant on the concetration of B we \n",
    "    # estimate the value of b in f(x) = a2*x^2 + b*x + c\n",
    "    b = np.multiply(-2*lH,a2 )    \n",
    "    cv_tor = np.poly1d([a2, b, 0])\n",
    "    \n",
    "    return cv_tor(pC)"
   ]
  },
  {
   "cell_type": "markdown",
   "metadata": {},
   "source": [
    "# Input Values or Toy Examples"
   ]
  },
  {
   "cell_type": "code",
   "execution_count": 11,
   "metadata": {},
   "outputs": [],
   "source": [
    "# predicted values\n",
    "pB = 0.1443\n",
    "pC = 0.5124"
   ]
  },
  {
   "cell_type": "code",
   "execution_count": 12,
   "metadata": {},
   "outputs": [
    {
     "name": "stdout",
     "output_type": "stream",
     "text": [
      "A680_A720_560\n"
     ]
    }
   ],
   "source": [
    "parameters = get_corr_params(path, 'A680_A720_560')"
   ]
  },
  {
   "cell_type": "code",
   "execution_count": 13,
   "metadata": {},
   "outputs": [
    {
     "data": {
      "text/plain": [
       "0.02595096357340132"
      ]
     },
     "execution_count": 13,
     "metadata": {},
     "output_type": "execute_result"
    }
   ],
   "source": [
    "corr_func_Bsc(pB, pC, parameters, None)"
   ]
  },
  {
   "cell_type": "code",
   "execution_count": 14,
   "metadata": {},
   "outputs": [
    {
     "data": {
      "text/plain": [
       "0.17025096357340133"
      ]
     },
     "execution_count": 14,
     "metadata": {},
     "output_type": "execute_result"
    }
   ],
   "source": [
    "# Corrected pB\n",
    "\n",
    "pB + corr_func_Bsc(pB, pC, parameters, None)"
   ]
  },
  {
   "cell_type": "code",
   "execution_count": null,
   "metadata": {},
   "outputs": [],
   "source": []
  }
 ],
 "metadata": {
  "kernelspec": {
   "display_name": "Python 3",
   "language": "python",
   "name": "python3"
  },
  "language_info": {
   "codemirror_mode": {
    "name": "ipython",
    "version": 3
   },
   "file_extension": ".py",
   "mimetype": "text/x-python",
   "name": "python",
   "nbconvert_exporter": "python",
   "pygments_lexer": "ipython3",
   "version": "3.7.3"
  }
 },
 "nbformat": 4,
 "nbformat_minor": 4
}
