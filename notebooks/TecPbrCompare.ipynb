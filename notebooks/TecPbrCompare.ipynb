{
 "cells": [
  {
   "cell_type": "code",
   "execution_count": 12,
   "metadata": {},
   "outputs": [],
   "source": [
    "import numpy as np\n",
    "import pandas as pd\n",
    "import os\n",
    "import scipy\n",
    "\n",
    "from sklearn import preprocessing\n",
    "\n",
    "import matplotlib.pyplot as plt\n",
    "import matplotlib.gridspec as gridspec\n",
    "\n",
    "import seaborn as sns\n",
    "sns.set(style='whitegrid')\n",
    "\n",
    "from os.path import join as pjoin\n",
    "\n",
    "import glob\n",
    "\n",
    "import itertools as it\n",
    "\n",
    "%config InteractiveShell.ast_node_interactivity='all'\n"
   ]
  },
  {
   "cell_type": "markdown",
   "metadata": {},
   "source": [
    "# Helper Functions"
   ]
  },
  {
   "cell_type": "code",
   "execution_count": 13,
   "metadata": {},
   "outputs": [],
   "source": [
    "def extract_pbr_at_time(df, extract_time, time_delta='30min', return_single=False):\n",
    "    \"\"\"\n",
    "    This function returns a time specific portion of the PBR DataFrame consisting\n",
    "    of the previous 16min (as default) of the input extract_time and the post 5min.\n",
    "    If return_single=True, a resampled mean of that portion is returned as single \n",
    "    row DF\n",
    "    \"\"\"\n",
    "    \n",
    "    # ensure that the arguments are in the proper format for manipulation\n",
    "    st = pd.to_datetime(extract_time)\n",
    "    td = pd.to_timedelta(time_delta)\n",
    "\n",
    "    # create mask from relevant dates\n",
    "    mask = (df.index > st) & (df.index < st+td)\n",
    "    \n",
    "    # extracted dates DF\n",
    "    ext =  df.loc[mask]\n",
    "    #print(ext)\n",
    "    if not return_single:\n",
    "        \n",
    "        return ext.dropna(how='any')\n",
    "    \n",
    "    else:\n",
    "        # down sample the extracted dates to 5min buckets and return the row\n",
    "        # that is closest in time with the requested 'extract_time' parameter\n",
    "        ext = ext.resample('15min', label='right').mean().dropna(how='any')\n",
    "        \n",
    "        # index of 'nearest' to requested time\n",
    "        idx = ext.index.get_loc(st, method='nearest')#get index date\n",
    "        \n",
    "        # Series needs to be transformed for posterity\n",
    "        single_row = pd.DataFrame(ext.iloc[idx]).T\n",
    "        \n",
    "        return single_row\n"
   ]
  },
  {
   "cell_type": "markdown",
   "metadata": {},
   "source": [
    "# Data"
   ]
  },
  {
   "cell_type": "code",
   "execution_count": 14,
   "metadata": {},
   "outputs": [],
   "source": [
    "pbr_path='../data_o/pbr/pbr_exp_preprocessed'\n",
    "locs = []\n",
    "for root, dirs, files in os.walk(pbr_path):\n",
    "    for name in files:\n",
    "        if 'daily' not in name and 'matching' not in name:\n",
    "            locs.append(pjoin(root, name))\n",
    "\n",
    "locs =  [locs[2], locs[1], locs[0], locs[3]]\n",
    "\n"
   ]
  },
  {
   "cell_type": "markdown",
   "metadata": {},
   "source": [
    "# Relevant Dates"
   ]
  },
  {
   "cell_type": "code",
   "execution_count": 15,
   "metadata": {},
   "outputs": [],
   "source": [
    "### these are the dates we need to extract\n",
    "\n",
    "exp2_dates = ['2019-04-17 21:00:00', '2019-04-18 17:30:00',\n",
    "               '2019-04-19 12:30:00', '2019-04-20 16:45:00',\n",
    "               '2019-04-21 20:00:00', '2019-04-22 14:00:00',\n",
    "               '2019-04-23 15:30:00', '2019-04-24 17:30:00',\n",
    "               '2019-04-25 16:30:00', '2019-04-26 17:45:00',\n",
    "               '2019-04-27 18:15:00', '2019-04-28 18:45:00',\n",
    "               '2019-04-29 17:45:00']\n",
    "\n",
    "exp3_dates = ['2019-05-11 19:00:00', '2019-05-12 19:30:00',\n",
    "               '2019-05-13 19:45:00', '2019-05-14 20:30:00',\n",
    "               '2019-05-15 17:15:00', '2019-05-16 16:45:00',\n",
    "               '2019-05-17 14:30:00', '2019-05-20 15:15:00',\n",
    "               '2019-05-21 14:45:00', '2019-05-22 15:15:00',\n",
    "               '2019-05-23 15:00:00', '2019-05-24 16:45:00']\n",
    "\n",
    "\n",
    "\n",
    "\n",
    "\n",
    "# comparison 1\n",
    "# Extract the above dates from the the PBR respective exp # datasets using the date extraction tool\n",
    "# Apply Old & New model to PBR data and see how these compare against each other\n",
    "\n",
    "\n",
    "# comparison 2\n",
    "# Create a tool which extracts the datetime row from the raw CC data files\n",
    "# these dates will then be used to extract absorbance readings from their\n",
    "# respective pbr data, depending on how comparison1 fares we could then\n",
    "# say something about what we should have expected on exp4"
   ]
  },
  {
   "cell_type": "code",
   "execution_count": 16,
   "metadata": {},
   "outputs": [],
   "source": [
    "# use too glob library to extract from each day's T1, the time at which it was\n",
    "# measured, this will give you a list of datetime which you can then extract from\n",
    "# the pbr preprocessed data.... \n",
    "\n",
    "# having done the comparison above: i.e. compara how the tecan measurements compare\n",
    "# against the pbr data\n",
    "path0 = '../data_o/pbr/exp?/cell_counter/*d?_t1_01.#m4' # this works\n",
    "path1 = '../data_o/pbr/exp?/cell_counter/*_d??_t1_01.#m4'"
   ]
  },
  {
   "cell_type": "code",
   "execution_count": 17,
   "metadata": {},
   "outputs": [],
   "source": [
    "# global dataframe\n",
    "\n",
    "date_times = {'xp1':{},\n",
    "              'xp2':{},\n",
    "              'xp3':{},\n",
    "              'xp4':{}}"
   ]
  },
  {
   "cell_type": "code",
   "execution_count": 18,
   "metadata": {},
   "outputs": [],
   "source": [
    "for path in [path0, path1]:\n",
    "    for path_str in glob.iglob(path):\n",
    "        #path_str\n",
    "\n",
    "        splt = path_str.split(sep='_') \n",
    "        xpN = splt[-4]\n",
    "        xpD = splt[-3]\n",
    "\n",
    "        # load files\n",
    "        f = open(path_str)\n",
    "        lines = f.readlines()[31]\n",
    "\n",
    "        # the files are standardized thus in the 32nd line\n",
    "        # we selected the True values which encompass the\n",
    "        # time at which these measurements were made, this\n",
    "        # only works with numpy arrays, however\n",
    "        try:\n",
    "\n",
    "            selector = [False, False, False, True, False, True, True, True]\n",
    "            #lines.strip('\\n').split(' ')\n",
    "            asarray = np.array(lines.strip('\\n').split(' '))[selector]\n",
    "\n",
    "        except:\n",
    "            selector = [False, False, False, True, False, False, True, True, True]\n",
    "            #lines.strip('\\n').split(' ')\n",
    "            asarray = np.array(lines.strip('\\n').split(' '))[selector]\n",
    "\n",
    "        # join the datetime informatio and convert to pd.datetime obj\n",
    "        datetime = ' '.join([*asarray][::-1])\n",
    "        datetime = pd.to_datetime(datetime)\n",
    "\n",
    "        # append to dictionary\n",
    "        date_times[xpN][xpD] = datetime\n",
    "        "
   ]
  },
  {
   "cell_type": "code",
   "execution_count": 22,
   "metadata": {},
   "outputs": [
    {
     "data": {
      "text/plain": [
       "{'xp1': {'d49': Timestamp('2019-04-15 12:30:57'),\n",
       "  'd42': Timestamp('2019-04-08 16:58:00'),\n",
       "  'd29': Timestamp('2019-03-26 11:01:41')},\n",
       " 'xp2': {'d2': Timestamp('2019-04-19 12:37:03'),\n",
       "  'd5': Timestamp('2019-04-22 14:13:04'),\n",
       "  'd9': Timestamp('2019-04-26 18:16:21'),\n",
       "  'd7': Timestamp('2019-04-24 17:45:10'),\n",
       "  'd1': Timestamp('2019-04-18 17:54:31'),\n",
       "  'd6': Timestamp('2019-04-23 21:30:02'),\n",
       "  'd8': Timestamp('2019-04-25 16:57:48'),\n",
       "  'd3': Timestamp('2019-04-20 16:58:22'),\n",
       "  'd4': Timestamp('2019-04-21 20:09:19'),\n",
       "  'd0': Timestamp('2019-04-17 21:42:57'),\n",
       "  'd10': Timestamp('2019-04-27 18:44:26'),\n",
       "  'd11': Timestamp('2019-04-28 19:12:12'),\n",
       "  'd12': Timestamp('2019-04-29 18:23:05')},\n",
       " 'xp3': {'d5': Timestamp('2019-05-16 17:07:26'),\n",
       "  'd4': Timestamp('2019-05-15 17:48:28'),\n",
       "  'd8': Timestamp('2019-05-20 15:45:43'),\n",
       "  'd7': Timestamp('2019-05-17 14:38:21'),\n",
       "  'd3': Timestamp('2019-05-14 20:44:34'),\n",
       "  'd0': Timestamp('2019-05-11 19:12:01'),\n",
       "  'd9': Timestamp('2019-05-21 15:12:13'),\n",
       "  'd1': Timestamp('2019-05-12 19:44:34'),\n",
       "  'd2': Timestamp('2019-05-13 19:51:46'),\n",
       "  'd11': Timestamp('2019-05-23 15:34:09'),\n",
       "  'd12': Timestamp('2019-05-24 16:47:29'),\n",
       "  'd10': Timestamp('2019-05-22 15:38:42')},\n",
       " 'xp4': {'d7': Timestamp('2019-07-08 17:29:58'),\n",
       "  'd3': Timestamp('2019-07-04 17:34:08'),\n",
       "  'd0': Timestamp('2019-07-01 22:47:16'),\n",
       "  'd4': Timestamp('2019-07-05 17:33:54'),\n",
       "  'd2': Timestamp('2019-07-03 16:58:05'),\n",
       "  'd5': Timestamp('2019-07-06 18:57:12'),\n",
       "  'd1': Timestamp('2019-07-02 16:13:13'),\n",
       "  'd6': Timestamp('2019-07-07 19:54:39'),\n",
       "  'd8': Timestamp('2019-07-09 18:46:46'),\n",
       "  'd18': Timestamp('2019-07-19 11:47:27'),\n",
       "  'd16': Timestamp('2019-07-17 17:43:51'),\n",
       "  'd17': Timestamp('2019-07-18 17:42:23'),\n",
       "  'd15': Timestamp('2019-07-16 19:21:27'),\n",
       "  'd23': Timestamp('2019-07-24 17:28:57'),\n",
       "  'd14': Timestamp('2019-07-15 18:43:16'),\n",
       "  'd11': Timestamp('2019-07-12 16:05:26'),\n",
       "  'd36': Timestamp('2019-08-06 11:31:54'),\n",
       "  'd10': Timestamp('2019-07-11 17:55:11'),\n",
       "  'd21': Timestamp('2019-07-22 18:17:27'),\n",
       "  'd22': Timestamp('2019-07-23 13:28:49')}}"
      ]
     },
     "execution_count": 22,
     "metadata": {},
     "output_type": "execute_result"
    }
   ],
   "source": [
    "date_times"
   ]
  },
  {
   "cell_type": "code",
   "execution_count": 23,
   "metadata": {},
   "outputs": [],
   "source": [
    "# The dates also exist in the all cellcounts datasheet, compare\n",
    "\n",
    "#date_times\n",
    "\n",
    "# cell counts are made roughly 1/2 hour after the tecan measurements\n",
    "# which was the usual case when actually collecting the data\n",
    "\n"
   ]
  },
  {
   "cell_type": "code",
   "execution_count": 24,
   "metadata": {},
   "outputs": [],
   "source": [
    "# Once you have done this ask pepe for other tecan-measured data if he has it for exp4"
   ]
  },
  {
   "cell_type": "markdown",
   "metadata": {},
   "source": [
    "# load TecMeasd Modeled Data"
   ]
  },
  {
   "cell_type": "code",
   "execution_count": 25,
   "metadata": {},
   "outputs": [
    {
     "data": {
      "text/html": [
       "<div>\n",
       "<style scoped>\n",
       "    .dataframe tbody tr th:only-of-type {\n",
       "        vertical-align: middle;\n",
       "    }\n",
       "\n",
       "    .dataframe tbody tr th {\n",
       "        vertical-align: top;\n",
       "    }\n",
       "\n",
       "    .dataframe thead th {\n",
       "        text-align: right;\n",
       "    }\n",
       "</style>\n",
       "<table border=\"1\" class=\"dataframe\">\n",
       "  <thead>\n",
       "    <tr style=\"text-align: right;\">\n",
       "      <th></th>\n",
       "      <th>tBv1</th>\n",
       "      <th>tCv1</th>\n",
       "      <th>tBv2</th>\n",
       "      <th>tCv2</th>\n",
       "      <th>tBv3</th>\n",
       "      <th>tCv3</th>\n",
       "      <th>tBv4</th>\n",
       "      <th>tCv4</th>\n",
       "      <th>tBv5</th>\n",
       "      <th>tCv5</th>\n",
       "      <th>tBv6</th>\n",
       "      <th>tCv6</th>\n",
       "      <th>tBv7</th>\n",
       "      <th>tCv7</th>\n",
       "      <th>tBv8</th>\n",
       "      <th>tCv8</th>\n",
       "    </tr>\n",
       "    <tr>\n",
       "      <th>date_time</th>\n",
       "      <th></th>\n",
       "      <th></th>\n",
       "      <th></th>\n",
       "      <th></th>\n",
       "      <th></th>\n",
       "      <th></th>\n",
       "      <th></th>\n",
       "      <th></th>\n",
       "      <th></th>\n",
       "      <th></th>\n",
       "      <th></th>\n",
       "      <th></th>\n",
       "      <th></th>\n",
       "      <th></th>\n",
       "      <th></th>\n",
       "      <th></th>\n",
       "    </tr>\n",
       "  </thead>\n",
       "  <tbody>\n",
       "    <tr>\n",
       "      <th>2019-04-17 20:55:00</th>\n",
       "      <td>0.000836</td>\n",
       "      <td>0.022213</td>\n",
       "      <td>-0.001026</td>\n",
       "      <td>0.024319</td>\n",
       "      <td>0.001900</td>\n",
       "      <td>0.017826</td>\n",
       "      <td>0.005855</td>\n",
       "      <td>0.016180</td>\n",
       "      <td>0.004028</td>\n",
       "      <td>0.016438</td>\n",
       "      <td>0.006126</td>\n",
       "      <td>0.016652</td>\n",
       "      <td>0.004638</td>\n",
       "      <td>0.021193</td>\n",
       "      <td>-0.005713</td>\n",
       "      <td>0.027620</td>\n",
       "    </tr>\n",
       "    <tr>\n",
       "      <th>2019-04-18 17:25:00</th>\n",
       "      <td>0.093958</td>\n",
       "      <td>0.017285</td>\n",
       "      <td>0.111519</td>\n",
       "      <td>0.014753</td>\n",
       "      <td>0.100815</td>\n",
       "      <td>0.025022</td>\n",
       "      <td>0.103945</td>\n",
       "      <td>0.015191</td>\n",
       "      <td>0.109838</td>\n",
       "      <td>0.029399</td>\n",
       "      <td>0.000792</td>\n",
       "      <td>0.017170</td>\n",
       "      <td>0.002260</td>\n",
       "      <td>0.020999</td>\n",
       "      <td>-0.002806</td>\n",
       "      <td>0.029497</td>\n",
       "    </tr>\n",
       "    <tr>\n",
       "      <th>2019-04-19 12:25:00</th>\n",
       "      <td>0.033724</td>\n",
       "      <td>0.024084</td>\n",
       "      <td>0.041284</td>\n",
       "      <td>0.024386</td>\n",
       "      <td>0.093359</td>\n",
       "      <td>0.033943</td>\n",
       "      <td>0.075040</td>\n",
       "      <td>0.024839</td>\n",
       "      <td>0.092674</td>\n",
       "      <td>0.033132</td>\n",
       "      <td>-0.012924</td>\n",
       "      <td>0.053013</td>\n",
       "      <td>-0.005327</td>\n",
       "      <td>0.044082</td>\n",
       "      <td>-0.017054</td>\n",
       "      <td>0.071163</td>\n",
       "    </tr>\n",
       "    <tr>\n",
       "      <th>2019-04-20 16:40:00</th>\n",
       "      <td>0.036231</td>\n",
       "      <td>0.010238</td>\n",
       "      <td>0.030562</td>\n",
       "      <td>0.013612</td>\n",
       "      <td>0.071383</td>\n",
       "      <td>0.010958</td>\n",
       "      <td>0.047569</td>\n",
       "      <td>0.010752</td>\n",
       "      <td>0.066213</td>\n",
       "      <td>0.010233</td>\n",
       "      <td>-0.002688</td>\n",
       "      <td>0.037979</td>\n",
       "      <td>0.001369</td>\n",
       "      <td>0.023650</td>\n",
       "      <td>-0.017500</td>\n",
       "      <td>0.043261</td>\n",
       "    </tr>\n",
       "    <tr>\n",
       "      <th>2019-04-21 19:55:00</th>\n",
       "      <td>0.038799</td>\n",
       "      <td>0.007833</td>\n",
       "      <td>0.028137</td>\n",
       "      <td>0.015883</td>\n",
       "      <td>0.092639</td>\n",
       "      <td>-0.008953</td>\n",
       "      <td>-0.011920</td>\n",
       "      <td>0.066475</td>\n",
       "      <td>0.069209</td>\n",
       "      <td>0.007427</td>\n",
       "      <td>0.016285</td>\n",
       "      <td>0.020207</td>\n",
       "      <td>0.011783</td>\n",
       "      <td>0.013895</td>\n",
       "      <td>0.012601</td>\n",
       "      <td>0.015065</td>\n",
       "    </tr>\n",
       "  </tbody>\n",
       "</table>\n",
       "</div>"
      ],
      "text/plain": [
       "                         tBv1      tCv1      tBv2      tCv2      tBv3  \\\n",
       "date_time                                                               \n",
       "2019-04-17 20:55:00  0.000836  0.022213 -0.001026  0.024319  0.001900   \n",
       "2019-04-18 17:25:00  0.093958  0.017285  0.111519  0.014753  0.100815   \n",
       "2019-04-19 12:25:00  0.033724  0.024084  0.041284  0.024386  0.093359   \n",
       "2019-04-20 16:40:00  0.036231  0.010238  0.030562  0.013612  0.071383   \n",
       "2019-04-21 19:55:00  0.038799  0.007833  0.028137  0.015883  0.092639   \n",
       "\n",
       "                         tCv3      tBv4      tCv4      tBv5      tCv5  \\\n",
       "date_time                                                               \n",
       "2019-04-17 20:55:00  0.017826  0.005855  0.016180  0.004028  0.016438   \n",
       "2019-04-18 17:25:00  0.025022  0.103945  0.015191  0.109838  0.029399   \n",
       "2019-04-19 12:25:00  0.033943  0.075040  0.024839  0.092674  0.033132   \n",
       "2019-04-20 16:40:00  0.010958  0.047569  0.010752  0.066213  0.010233   \n",
       "2019-04-21 19:55:00 -0.008953 -0.011920  0.066475  0.069209  0.007427   \n",
       "\n",
       "                         tBv6      tCv6      tBv7      tCv7      tBv8  \\\n",
       "date_time                                                               \n",
       "2019-04-17 20:55:00  0.006126  0.016652  0.004638  0.021193 -0.005713   \n",
       "2019-04-18 17:25:00  0.000792  0.017170  0.002260  0.020999 -0.002806   \n",
       "2019-04-19 12:25:00 -0.012924  0.053013 -0.005327  0.044082 -0.017054   \n",
       "2019-04-20 16:40:00 -0.002688  0.037979  0.001369  0.023650 -0.017500   \n",
       "2019-04-21 19:55:00  0.016285  0.020207  0.011783  0.013895  0.012601   \n",
       "\n",
       "                         tCv8  \n",
       "date_time                      \n",
       "2019-04-17 20:55:00  0.027620  \n",
       "2019-04-18 17:25:00  0.029497  \n",
       "2019-04-19 12:25:00  0.071163  \n",
       "2019-04-20 16:40:00  0.043261  \n",
       "2019-04-21 19:55:00  0.015065  "
      ]
     },
     "execution_count": 25,
     "metadata": {},
     "output_type": "execute_result"
    }
   ],
   "source": [
    "# for these exact experiemts x2 x3\n",
    "# pull the PBR abs measurements for these experiments dates\n",
    "# apply the model and compare them against each other,\n",
    "# how closely do they align... is it regressable, if regressable, there is a high degree\n",
    "# of correlation OR they match exactly  along the 1:1 LINE, this would mean the models\n",
    "# are 'perfect'\n",
    "# \n",
    "path = '../data_o/pbr/pbr_modeled_output_data'\n",
    "\n",
    "tcx2= pd.read_csv(pjoin(path,'tec_measd_exp2_modeled_output.csv'),index_col=0)\n",
    "tcx3= pd.read_csv(pjoin(path,'tec_measd_exp3_modeled_output.csv'),index_col=0)\n",
    "\n",
    "\n",
    "tcx2.head()\n",
    "\n",
    "\n",
    "\n",
    "# load PBR data\n",
    "#pbr1 = pd.read_csv(locs[0],index_col=0,parse_dates=['date_time'])\n",
    "pbr2 = pd.read_csv(locs[1],index_col=0,parse_dates=['time'])\n",
    "pbr3 = pd.read_csv(locs[2],index_col=0,parse_dates=['time'])\n",
    "#pbr4 = pd.read_csv(locs[3],index_col=0,parse_dates=['date_time'])\n",
    "\n",
    "\n",
    "\n",
    "\n",
    "\n",
    "# extract dates from pbr_cell counts data because its more complete than what you extracted\n",
    "# above for exp4, (above extracted dates should match).... you need to extract these dates\n",
    "# so that you can:\n",
    "    # 1. check the measurements given by PEPE with the averages extracted by your function\n",
    "            # they should be very close\n",
    "    # 2. apply the a680_a720 model to those dates rows\n",
    "    # 3. IF the first analysis of tecmesd data values\n",
    "    # match along the 1:1 style.background_gradientline then its likely that these \n",
    "    # measurements in the tubes are fairly truthful (depending on the ratio analysis)\n",
    "    # if there is a HIGH Degree of Correlation (which is what I'm thinking) then\n",
    "    # do a regression and obtain kT, this kT is another coversion factor to the PBR\n",
    "    # data, if this is the case can we ignore the other constants\n",
    "    \n",
    "path = '../data_o/pbr'\n",
    "fname = 'all_pbr_cell_counter_results.csv'\n",
    "\n",
    "\n",
    "# apply model extracted dates data to pbr\n",
    "# compare\n",
    "\n",
    "# apply the new models to the old calibration data"
   ]
  },
  {
   "cell_type": "code",
   "execution_count": 26,
   "metadata": {},
   "outputs": [],
   "source": [
    "# build a table using the first timestamp\n",
    "pbxdf2 = extract_pbr_at_time(pbr2, extract_time=exp2_dates[0], time_delta='20min', return_single=True)\n",
    "for d in exp2_dates[1:]:\n",
    "    # append new extractions\n",
    "    pbxdf2 = pd.concat([pbxdf2, extract_pbr_at_time(pbr2, extract_time=d, time_delta='5min', return_single=True)])\n",
    "#pbxdf2.columns = ['T'+i[-1]+i[1:4] for i in pbxdf2.columns.values]"
   ]
  },
  {
   "cell_type": "code",
   "execution_count": 27,
   "metadata": {},
   "outputs": [],
   "source": [
    "pbxdf3 = extract_pbr_at_time(pbr3, extract_time=exp3_dates[0], time_delta='5min', return_single=True)\n",
    "for d in exp3_dates[1:]:\n",
    "    #d\n",
    "    #pbr2.head()\n",
    "    pbxdf3 = pd.concat([pbxdf3, extract_pbr_at_time(pbr3, extract_time=d, time_delta='5min', return_single=True)])\n",
    "#pbxdf3.columns = ['T'+i[-1]+i[1:4] for i in pbxdf3.columns.values]"
   ]
  },
  {
   "cell_type": "code",
   "execution_count": 28,
   "metadata": {},
   "outputs": [],
   "source": [
    "#### TO THIS DATA apply the models models and compare the values to the actual\n",
    "#### tecan measured valeus"
   ]
  },
  {
   "cell_type": "code",
   "execution_count": 29,
   "metadata": {},
   "outputs": [
    {
     "data": {
      "text/plain": [
       "['T1680',\n",
       " 'T1720',\n",
       " 'T2680',\n",
       " 'T2720',\n",
       " 'T3680',\n",
       " 'T3720',\n",
       " 'T4680',\n",
       " 'T4720',\n",
       " 'T5680',\n",
       " 'T5720',\n",
       " 'T6680',\n",
       " 'T6720',\n",
       " 'T7680',\n",
       " 'T7720',\n",
       " 'T8680',\n",
       " 'T8720']"
      ]
     },
     "execution_count": 29,
     "metadata": {},
     "output_type": "execute_result"
    }
   ],
   "source": [
    "rename = ['T'+i[-1]+i[1:4] for i in pbxdf2.columns.values]\n",
    "\n",
    "rename"
   ]
  },
  {
   "cell_type": "code",
   "execution_count": null,
   "metadata": {},
   "outputs": [],
   "source": [
    "# tecan already has predicted values save only the \n",
    "tcx2 = tcx2[[i for i in tcx2.columns.values if 'p680_720_560' in i]]\n",
    "tcx2\n",
    "path ='../data_o/pbr/pbr_exp_preprocessed'\n",
    "\n",
    "\n",
    "# pbxdf2.to_csv(pjoin(path,'pbr_matching_dates_to_tecan_x2_5mins.csv'))"
   ]
  },
  {
   "cell_type": "code",
   "execution_count": 30,
   "metadata": {},
   "outputs": [],
   "source": [
    "tcx3 = tcx3[[i for i in tcx2.columns.values if 'p680_720_560' in i]]"
   ]
  },
  {
   "cell_type": "code",
   "execution_count": 31,
   "metadata": {},
   "outputs": [],
   "source": [
    "# pbxdf3.to_csv(pjoin(path,'pbr_matching_dates_to_tecan_x3_5mins.csv'))"
   ]
  },
  {
   "cell_type": "code",
   "execution_count": 32,
   "metadata": {},
   "outputs": [],
   "source": [
    "# Visualize Data"
   ]
  },
  {
   "cell_type": "code",
   "execution_count": 33,
   "metadata": {},
   "outputs": [],
   "source": [
    "tcx2.columns = [i[0:3] for i in tcx2.columns.values]\n",
    "tcx3.columns = [i[0:3] for i in tcx3.columns.values]"
   ]
  },
  {
   "cell_type": "code",
   "execution_count": 34,
   "metadata": {},
   "outputs": [],
   "source": [
    "# load\n",
    "path = '../data_o/pbr/pbr_modeled_output_data'\n",
    "pbx2 = pd.read_csv(pjoin(path,'pbr_w_tec_dates_x2.csv'), index_col=0)\n",
    "pbx3 = pd.read_csv(pjoin(path,'pbr_w_tec_dates_x3.csv'), index_col=0)"
   ]
  },
  {
   "cell_type": "code",
   "execution_count": 35,
   "metadata": {},
   "outputs": [],
   "source": [
    "pbx2 = pbx2[[i for i in pbx2.columns.values if '_' not in i]]\n",
    "pbx3 = pbx3[[i for i in pbx3.columns.values if '_' not in i]]"
   ]
  },
  {
   "cell_type": "code",
   "execution_count": 36,
   "metadata": {},
   "outputs": [],
   "source": [
    "c1 = tcx2.columns\n",
    "c2 = pbx2.columns"
   ]
  },
  {
   "cell_type": "code",
   "execution_count": null,
   "metadata": {},
   "outputs": [],
   "source": [
    "\n",
    "\n"
   ]
  },
  {
   "cell_type": "code",
   "execution_count": 37,
   "metadata": {},
   "outputs": [
    {
     "data": {
      "text/plain": [
       "Index(['tBv', 'tCv', 'tBv', 'tCv', 'tBv', 'tCv', 'tBv', 'tCv', 'tBv', 'tCv',\n",
       "       'tBv', 'tCv', 'tBv', 'tCv', 'tBv', 'tCv'],\n",
       "      dtype='object')"
      ]
     },
     "execution_count": 37,
     "metadata": {},
     "output_type": "execute_result"
    },
    {
     "data": {
      "text/plain": [
       "Index(['Bv1', 'Cv1', 'Bv2', 'Cv2', 'Bv3', 'Cv3', 'Bv4', 'Cv4', 'Bv5', 'Cv5',\n",
       "       'Bv6', 'Cv6', 'Bv7', 'Cv7', 'Bv8', 'Cv8'],\n",
       "      dtype='object')"
      ]
     },
     "execution_count": 37,
     "metadata": {},
     "output_type": "execute_result"
    }
   ],
   "source": [
    "c1\n",
    "c2\n",
    "g = zip(c1, c2)\n"
   ]
  },
  {
   "cell_type": "code",
   "execution_count": 38,
   "metadata": {},
   "outputs": [
    {
     "data": {
      "text/plain": [
       "('tBv', 'Bv1')"
      ]
     },
     "execution_count": 38,
     "metadata": {},
     "output_type": "execute_result"
    },
    {
     "ename": "ValueError",
     "evalue": "x and y must be the same size",
     "output_type": "error",
     "traceback": [
      "\u001b[0;31m---------------------------------------------------------------------------\u001b[0m",
      "\u001b[0;31mValueError\u001b[0m                                Traceback (most recent call last)",
      "\u001b[0;32m<ipython-input-38-e5de0ba5c489>\u001b[0m in \u001b[0;36m<module>\u001b[0;34m\u001b[0m\n\u001b[1;32m      6\u001b[0m     \u001b[0mb2\u001b[0m \u001b[0;34m=\u001b[0m \u001b[0mpbx2\u001b[0m\u001b[0;34m[\u001b[0m\u001b[0mj\u001b[0m\u001b[0;34m]\u001b[0m\u001b[0;34m.\u001b[0m\u001b[0mvalues\u001b[0m\u001b[0;34m.\u001b[0m\u001b[0mreshape\u001b[0m\u001b[0;34m(\u001b[0m\u001b[0;34m-\u001b[0m\u001b[0;36m1\u001b[0m\u001b[0;34m,\u001b[0m\u001b[0;36m1\u001b[0m\u001b[0;34m)\u001b[0m\u001b[0;34m\u001b[0m\u001b[0;34m\u001b[0m\u001b[0m\n\u001b[1;32m      7\u001b[0m \u001b[0;34m\u001b[0m\u001b[0m\n\u001b[0;32m----> 8\u001b[0;31m     \u001b[0mplt\u001b[0m\u001b[0;34m.\u001b[0m\u001b[0mscatter\u001b[0m\u001b[0;34m(\u001b[0m\u001b[0mb1\u001b[0m\u001b[0;34m,\u001b[0m \u001b[0mb2\u001b[0m\u001b[0;34m)\u001b[0m\u001b[0;34m\u001b[0m\u001b[0;34m\u001b[0m\u001b[0m\n\u001b[0m\u001b[1;32m      9\u001b[0m \u001b[0;34m\u001b[0m\u001b[0m\n\u001b[1;32m     10\u001b[0m     \u001b[0;31m#plt.show()\u001b[0m\u001b[0;34m\u001b[0m\u001b[0;34m\u001b[0m\u001b[0;34m\u001b[0m\u001b[0m\n",
      "\u001b[0;32m~/program_files/anaconda3/envs/fluxy/lib/python3.7/site-packages/matplotlib/pyplot.py\u001b[0m in \u001b[0;36mscatter\u001b[0;34m(x, y, s, c, marker, cmap, norm, vmin, vmax, alpha, linewidths, verts, edgecolors, plotnonfinite, data, **kwargs)\u001b[0m\n\u001b[1;32m   2839\u001b[0m         \u001b[0mverts\u001b[0m\u001b[0;34m=\u001b[0m\u001b[0mverts\u001b[0m\u001b[0;34m,\u001b[0m \u001b[0medgecolors\u001b[0m\u001b[0;34m=\u001b[0m\u001b[0medgecolors\u001b[0m\u001b[0;34m,\u001b[0m\u001b[0;34m\u001b[0m\u001b[0;34m\u001b[0m\u001b[0m\n\u001b[1;32m   2840\u001b[0m         plotnonfinite=plotnonfinite, **({\"data\": data} if data is not\n\u001b[0;32m-> 2841\u001b[0;31m         None else {}), **kwargs)\n\u001b[0m\u001b[1;32m   2842\u001b[0m     \u001b[0msci\u001b[0m\u001b[0;34m(\u001b[0m\u001b[0m__ret\u001b[0m\u001b[0;34m)\u001b[0m\u001b[0;34m\u001b[0m\u001b[0;34m\u001b[0m\u001b[0m\n\u001b[1;32m   2843\u001b[0m     \u001b[0;32mreturn\u001b[0m \u001b[0m__ret\u001b[0m\u001b[0;34m\u001b[0m\u001b[0;34m\u001b[0m\u001b[0m\n",
      "\u001b[0;32m~/program_files/anaconda3/envs/fluxy/lib/python3.7/site-packages/matplotlib/__init__.py\u001b[0m in \u001b[0;36minner\u001b[0;34m(ax, data, *args, **kwargs)\u001b[0m\n\u001b[1;32m   1587\u001b[0m     \u001b[0;32mdef\u001b[0m \u001b[0minner\u001b[0m\u001b[0;34m(\u001b[0m\u001b[0max\u001b[0m\u001b[0;34m,\u001b[0m \u001b[0;34m*\u001b[0m\u001b[0margs\u001b[0m\u001b[0;34m,\u001b[0m \u001b[0mdata\u001b[0m\u001b[0;34m=\u001b[0m\u001b[0;32mNone\u001b[0m\u001b[0;34m,\u001b[0m \u001b[0;34m**\u001b[0m\u001b[0mkwargs\u001b[0m\u001b[0;34m)\u001b[0m\u001b[0;34m:\u001b[0m\u001b[0;34m\u001b[0m\u001b[0;34m\u001b[0m\u001b[0m\n\u001b[1;32m   1588\u001b[0m         \u001b[0;32mif\u001b[0m \u001b[0mdata\u001b[0m \u001b[0;32mis\u001b[0m \u001b[0;32mNone\u001b[0m\u001b[0;34m:\u001b[0m\u001b[0;34m\u001b[0m\u001b[0;34m\u001b[0m\u001b[0m\n\u001b[0;32m-> 1589\u001b[0;31m             \u001b[0;32mreturn\u001b[0m \u001b[0mfunc\u001b[0m\u001b[0;34m(\u001b[0m\u001b[0max\u001b[0m\u001b[0;34m,\u001b[0m \u001b[0;34m*\u001b[0m\u001b[0mmap\u001b[0m\u001b[0;34m(\u001b[0m\u001b[0msanitize_sequence\u001b[0m\u001b[0;34m,\u001b[0m \u001b[0margs\u001b[0m\u001b[0;34m)\u001b[0m\u001b[0;34m,\u001b[0m \u001b[0;34m**\u001b[0m\u001b[0mkwargs\u001b[0m\u001b[0;34m)\u001b[0m\u001b[0;34m\u001b[0m\u001b[0;34m\u001b[0m\u001b[0m\n\u001b[0m\u001b[1;32m   1590\u001b[0m \u001b[0;34m\u001b[0m\u001b[0m\n\u001b[1;32m   1591\u001b[0m         \u001b[0mbound\u001b[0m \u001b[0;34m=\u001b[0m \u001b[0mnew_sig\u001b[0m\u001b[0;34m.\u001b[0m\u001b[0mbind\u001b[0m\u001b[0;34m(\u001b[0m\u001b[0max\u001b[0m\u001b[0;34m,\u001b[0m \u001b[0;34m*\u001b[0m\u001b[0margs\u001b[0m\u001b[0;34m,\u001b[0m \u001b[0;34m**\u001b[0m\u001b[0mkwargs\u001b[0m\u001b[0;34m)\u001b[0m\u001b[0;34m\u001b[0m\u001b[0;34m\u001b[0m\u001b[0m\n",
      "\u001b[0;32m~/program_files/anaconda3/envs/fluxy/lib/python3.7/site-packages/matplotlib/axes/_axes.py\u001b[0m in \u001b[0;36mscatter\u001b[0;34m(self, x, y, s, c, marker, cmap, norm, vmin, vmax, alpha, linewidths, verts, edgecolors, plotnonfinite, **kwargs)\u001b[0m\n\u001b[1;32m   4434\u001b[0m         \u001b[0my\u001b[0m \u001b[0;34m=\u001b[0m \u001b[0mnp\u001b[0m\u001b[0;34m.\u001b[0m\u001b[0mma\u001b[0m\u001b[0;34m.\u001b[0m\u001b[0mravel\u001b[0m\u001b[0;34m(\u001b[0m\u001b[0my\u001b[0m\u001b[0;34m)\u001b[0m\u001b[0;34m\u001b[0m\u001b[0;34m\u001b[0m\u001b[0m\n\u001b[1;32m   4435\u001b[0m         \u001b[0;32mif\u001b[0m \u001b[0mx\u001b[0m\u001b[0;34m.\u001b[0m\u001b[0msize\u001b[0m \u001b[0;34m!=\u001b[0m \u001b[0my\u001b[0m\u001b[0;34m.\u001b[0m\u001b[0msize\u001b[0m\u001b[0;34m:\u001b[0m\u001b[0;34m\u001b[0m\u001b[0;34m\u001b[0m\u001b[0m\n\u001b[0;32m-> 4436\u001b[0;31m             \u001b[0;32mraise\u001b[0m \u001b[0mValueError\u001b[0m\u001b[0;34m(\u001b[0m\u001b[0;34m\"x and y must be the same size\"\u001b[0m\u001b[0;34m)\u001b[0m\u001b[0;34m\u001b[0m\u001b[0;34m\u001b[0m\u001b[0m\n\u001b[0m\u001b[1;32m   4437\u001b[0m \u001b[0;34m\u001b[0m\u001b[0m\n\u001b[1;32m   4438\u001b[0m         \u001b[0;32mif\u001b[0m \u001b[0ms\u001b[0m \u001b[0;32mis\u001b[0m \u001b[0;32mNone\u001b[0m\u001b[0;34m:\u001b[0m\u001b[0;34m\u001b[0m\u001b[0;34m\u001b[0m\u001b[0m\n",
      "\u001b[0;31mValueError\u001b[0m: x and y must be the same size"
     ]
    },
    {
     "data": {
      "image/png": "[encoded data removed]",
      "text/plain": [
       "<Figure size 432x288 with 1 Axes>"
      ]
     },
     "metadata": {},
     "output_type": "display_data"
    }
   ],
   "source": [
    "\n",
    "g = zip(c1, c2)\n",
    "\n",
    "for i, j in g:\n",
    "    i,j\n",
    "    b1 = tcx2[i].values.reshape(-1,1)\n",
    "    b2 = pbx2[j].values.reshape(-1,1)\n",
    "    \n",
    "    plt.scatter(b1, b2)\n",
    "    \n",
    "    #plt.show()"
   ]
  },
  {
   "cell_type": "code",
   "execution_count": 301,
   "metadata": {},
   "outputs": [
    {
     "data": {
      "text/plain": [
       "<matplotlib.collections.PathCollection at 0x7f94a3b26550>"
      ]
     },
     "execution_count": 301,
     "metadata": {},
     "output_type": "execute_result"
    },
    {
     "data": {
      "image/png": "[encoded data removed]",
      "text/plain": [
       "<Figure size 432x288 with 1 Axes>"
      ]
     },
     "metadata": {},
     "output_type": "display_data"
    }
   ],
   "source": [
    "b1 = tcx2['T1B'].values.reshape(-1,1)\n",
    "b2 = pbx2['Bv1'].values.reshape(-1,1)\n",
    "plt.scatter(b1, b2)"
   ]
  },
  {
   "cell_type": "code",
   "execution_count": 297,
   "metadata": {},
   "outputs": [
    {
     "data": {
      "text/plain": [
       "<matplotlib.collections.PathCollection at 0x7f94a34350f0>"
      ]
     },
     "execution_count": 297,
     "metadata": {},
     "output_type": "execute_result"
    },
    {
     "data": {
      "image/png": "[encoded data removed]",
      "text/plain": [
       "<Figure size 432x288 with 1 Axes>"
      ]
     },
     "metadata": {},
     "output_type": "display_data"
    }
   ],
   "source": [
    "plt.scatter(c1, c2)"
   ]
  },
  {
   "cell_type": "code",
   "execution_count": null,
   "metadata": {},
   "outputs": [],
   "source": []
  }
 ],
 "metadata": {
  "kernelspec": {
   "display_name": "Python 3",
   "language": "python",
   "name": "python3"
  },
  "language_info": {
   "codemirror_mode": {
    "name": "ipython",
    "version": 3
   },
   "file_extension": ".py",
   "mimetype": "text/x-python",
   "name": "python",
   "nbconvert_exporter": "python",
   "pygments_lexer": "ipython3",
   "version": "3.7.3"
  }
 },
 "nbformat": 4,
 "nbformat_minor": 4
}
