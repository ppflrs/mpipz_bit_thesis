{
 "cells": [
  {
   "cell_type": "markdown",
   "metadata": {},
   "source": [
    "# Imports"
   ]
  },
  {
   "cell_type": "code",
   "execution_count": 2,
   "metadata": {},
   "outputs": [],
   "source": [
    "import numpy as np\n",
    "import pandas as pd\n",
    "import cobra\n",
    "\n",
    "import os\n",
    "\n",
    "import matplotlib.pyplot as plt\n",
    "%matplotlib inline\n",
    "\n",
    "import seaborn as sns\n",
    "sns.set(style='whitegrid')\n",
    "\n",
    "%config InteractiveShell.ast_node_interactivity='all'\n",
    "%config InlineBackend.figure_format = 'svg'"
   ]
  },
  {
   "cell_type": "code",
   "execution_count": 3,
   "metadata": {},
   "outputs": [],
   "source": [
    "# relevant path to data\n",
    "models_directory = \"/home/rdmtinez/Documents/B-IT MS Program/Masters Thesis/models/\"\n"
   ]
  },
  {
   "cell_type": "code",
   "execution_count": 9,
   "metadata": {},
   "outputs": [
    {
     "data": {
      "text/plain": [
       "['iRC1080.xml', 'BMID000000140487_copy.xml', 'BMID000000140487.xml']"
      ]
     },
     "execution_count": 9,
     "metadata": {},
     "output_type": "execute_result"
    }
   ],
   "source": [
    "models = [model for model in os.listdir(models_directory) if 'xml' in model]\n",
    "models"
   ]
  },
  {
   "cell_type": "code",
   "execution_count": 5,
   "metadata": {},
   "outputs": [],
   "source": [
    "chlamy = cobra.io.read_sbml_model(models_directory+models[0])"
   ]
  },
  {
   "cell_type": "code",
   "execution_count": 15,
   "metadata": {},
   "outputs": [
    {
     "data": {
      "text/plain": [
       "{'EX_h_e': 10.0,\n",
       " 'EX_h2o_e': 10.0,\n",
       " 'EX_pi_e': 10.0,\n",
       " 'EX_nh4_e': 10.0,\n",
       " 'EX_no3_e': 10.0,\n",
       " 'EX_so4_e': 10.0,\n",
       " 'EX_fe2_e': 10.0,\n",
       " 'EX_fe3_e': 10.0,\n",
       " 'EX_mg2_e': 10.0,\n",
       " 'EX_na1_e': 10.0,\n",
       " 'EX_photonVis_e': 2000.0,\n",
       " 'EX_o2_e': 10.0,\n",
       " 'EX_co2_e': 11.16,\n",
       " 'EX_ac_e': 10.0}"
      ]
     },
     "execution_count": 15,
     "metadata": {},
     "output_type": "execute_result"
    }
   ],
   "source": [
    "# note these compounds are those that are exchanged with the \n",
    "# extracellular environment\n",
    "\n",
    "\n",
    "# an SBML model is composed of the following main namespaces (compartments):\n",
    "    # cytoplasm [c]\n",
    "        #--within this compartment every intracellular molecule\n",
    "        #--and reaction along with enzyme is imparted onto the model\n",
    "        \n",
    "    # extra-cellular [e]\n",
    "        #--within this compartment the medium on which the 'cell'\n",
    "        #--lives off of in its aqueous environment is defined\n",
    "    \n",
    "    # periplasm [p]\n",
    "        #--this namespace is dependent on the model and is not defined\n",
    "        #--for Chlamydomonas reinhardtii\n",
    "    \n",
    "    # TR (transport) reactions\n",
    "        #--these are enzymes/functions which bring or take out molecules\n",
    "        #--to and from the cytoplasm from either [e] or [p]\n",
    "        \n",
    "    # EX (exchange) reactions are also taken account of\n",
    "        #--these are reactions that leave the [e] environment into\n",
    "        #--the universe or are input back into the [e] environment\n",
    "        #--from the universe\n",
    "        \n",
    "    #NOTE other subsystems are often included in these models as well\n",
    "        \n",
    "# units:\n",
    "    # mmol / gDW * hr-1\n",
    "    \n",
    "\n",
    "chlamy.medium"
   ]
  },
  {
   "cell_type": "code",
   "execution_count": 13,
   "metadata": {},
   "outputs": [],
   "source": [
    "# biomodels chlammy not working\n",
    "\n",
    "#chlamy2 = cobra.io.read_sbml_model(models_directory+\"BMID000000140487.input\")"
   ]
  },
  {
   "cell_type": "code",
   "execution_count": null,
   "metadata": {},
   "outputs": [],
   "source": []
  }
 ],
 "metadata": {
  "kernelspec": {
   "display_name": "Python 3",
   "language": "python",
   "name": "python3"
  },
  "language_info": {
   "codemirror_mode": {
    "name": "ipython",
    "version": 3
   },
   "file_extension": ".py",
   "mimetype": "text/x-python",
   "name": "python",
   "nbconvert_exporter": "python",
   "pygments_lexer": "ipython3",
   "version": "3.7.3"
  }
 },
 "nbformat": 4,
 "nbformat_minor": 2
}
