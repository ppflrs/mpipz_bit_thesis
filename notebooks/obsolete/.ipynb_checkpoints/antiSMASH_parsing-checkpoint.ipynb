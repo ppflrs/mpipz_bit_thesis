{
 "cells": [
  {
   "cell_type": "markdown",
   "metadata": {},
   "source": [
    "# antiSMASH Parsing"
   ]
  },
  {
   "cell_type": "markdown",
   "metadata": {},
   "source": [
    "# Imports\n"
   ]
  },
  {
   "cell_type": "code",
   "execution_count": 3,
   "metadata": {},
   "outputs": [],
   "source": [
    "import numpy as np\n",
    "import pandas as pd\n",
    "import os\n",
    "\n",
    "import matplotlib.pyplot as plt\n",
    "%matplotlib inline\n",
    "\n",
    "import matplotlib.gridspec as gridspec\n",
    "\n",
    "import seaborn as sns\n",
    "sns.set(style='whitegrid')\n",
    "import glob\n",
    "\n",
    "import itertools as it\n",
    "\n",
    "from collections import Counter\n",
    "\n",
    "%config InteractiveShell.ast_node_interactivity='all'\n",
    "%config InlineBackend.figure_format = 'svg'\n",
    "\n",
    "pd.set_option('display.max_columns', 40)\n",
    "pd.set_option('display.max_rows', 410)\n",
    "\n",
    "\n",
    "from os.path import join as pjoin"
   ]
  },
  {
   "cell_type": "markdown",
   "metadata": {},
   "source": [
    "# Get Data\n",
    "    \n",
    "#### !!! Once you have the counts data from the antiSMASH runs, this part shouldn't need to be run again !!!"
   ]
  },
  {
   "cell_type": "code",
   "execution_count": null,
   "metadata": {},
   "outputs": [],
   "source": [
    "# NETWORK FOLDER HAS TO BE CONNECTED since the data is too big \n",
    "# to store locally without depleting significant storage space\n",
    "\n",
    "path = '/media/mphome/projects/data/chlamy_sphere/as_output/*/*.xls'"
   ]
  },
  {
   "cell_type": "code",
   "execution_count": null,
   "metadata": {},
   "outputs": [],
   "source": [
    "#def counter(lst):\n",
    "#    count_dict = {}\n",
    "#    \n",
    "#    for item in lst:\n",
    "#        if item not in count_dict:\n",
    "#            count_dict[item] = 1\n",
    "#        else:\n",
    "#            count_dict[item] +=1\n",
    "#    \n",
    "#    return count_dict"
   ]
  },
  {
   "cell_type": "code",
   "execution_count": null,
   "metadata": {},
   "outputs": [],
   "source": [
    "## global dataframe\n",
    "\n",
    "#clust_type_counts = {}\n",
    "#clust_set = set()\n",
    "#names = []\n",
    "#for file in glob.iglob(path):\n",
    "\n",
    "#    name = os.path.split(file)[0][52:]\n",
    "#    names.append(name)\n",
    "\n",
    "#    df = pd.read_excel(file, header=0)\n",
    "#    \n",
    "#    vals = df['Gene cluster type'].values\n",
    "#    \n",
    "#    clust_type_counts[name] = counter(vals)\n",
    "#    \n",
    "#    "
   ]
  },
  {
   "cell_type": "code",
   "execution_count": null,
   "metadata": {},
   "outputs": [],
   "source": [
    "#gdf = pd.DataFrame(clust_type_counts)\n",
    "#gdf = gdf.transpose()\n",
    "#gdf.index.name = 'alsphere_ID'\n",
    "\n",
    "#sorted_cols=gdf.isna().sum().sort_values().index\n",
    "\n",
    "#gdf = gdf[sorted_cols]\n",
    "\n",
    "#sorted_rows = gdf.isna().sum(1).sort_values().index\n",
    "\n",
    "#gdf = gdf.reindex(labels=sorted_rows)\n",
    "#gdf.head() "
   ]
  },
  {
   "cell_type": "markdown",
   "metadata": {},
   "source": [
    "# Save Data\n",
    "    \n",
    "    Once the data is saved you can load it locally.... the data is just counts"
   ]
  },
  {
   "cell_type": "code",
   "execution_count": 1,
   "metadata": {},
   "outputs": [],
   "source": [
    "# to csv\n",
    "#path = '/home/rdmtinez/Desktop/MScThesis/data_o/antismash'\n",
    "#fname= 'biosynthetic_gene_clusters_counts.csv'"
   ]
  },
  {
   "cell_type": "code",
   "execution_count": null,
   "metadata": {},
   "outputs": [],
   "source": [
    "# un-hash to resave\n",
    "# gdf.to_csv(os.path.join(path,fname))"
   ]
  },
  {
   "cell_type": "markdown",
   "metadata": {},
   "source": [
    "# Reload Processed Data"
   ]
  },
  {
   "cell_type": "code",
   "execution_count": 4,
   "metadata": {},
   "outputs": [
    {
     "data": {
      "text/html": [
       "<div>\n",
       "<style scoped>\n",
       "    .dataframe tbody tr th:only-of-type {\n",
       "        vertical-align: middle;\n",
       "    }\n",
       "\n",
       "    .dataframe tbody tr th {\n",
       "        vertical-align: top;\n",
       "    }\n",
       "\n",
       "    .dataframe thead th {\n",
       "        text-align: right;\n",
       "    }\n",
       "</style>\n",
       "<table border=\"1\" class=\"dataframe\">\n",
       "  <thead>\n",
       "    <tr style=\"text-align: right;\">\n",
       "      <th></th>\n",
       "      <th>terpene</th>\n",
       "      <th>other</th>\n",
       "      <th>bacteriocin</th>\n",
       "      <th>siderophore</th>\n",
       "      <th>arylpolyene</th>\n",
       "      <th>nrps</th>\n",
       "      <th>hserlactone</th>\n",
       "      <th>phenazine</th>\n",
       "      <th>t3pks</th>\n",
       "      <th>phosphonate</th>\n",
       "      <th>arylpolyene-ladderane</th>\n",
       "      <th>t1pks-nrps</th>\n",
       "      <th>ladderane</th>\n",
       "      <th>lantipeptide</th>\n",
       "      <th>microviridin</th>\n",
       "      <th>arylpolyene-resorcinol</th>\n",
       "      <th>t1pks-otherks</th>\n",
       "      <th>arylpolyene-nrps</th>\n",
       "      <th>lassopeptide</th>\n",
       "      <th>resorcinol</th>\n",
       "      <th>acyl_amino_acids-siderophore</th>\n",
       "      <th>t1pks</th>\n",
       "      <th>thiopeptide</th>\n",
       "      <th>terpene-nrps</th>\n",
       "      <th>siderophore-nrps</th>\n",
       "      <th>ectoine</th>\n",
       "      <th>butyrolactone</th>\n",
       "      <th>otherks</th>\n",
       "      <th>sactipeptide-head_to_tail</th>\n",
       "      <th>lantipeptide-t1pks-nrps</th>\n",
       "    </tr>\n",
       "    <tr>\n",
       "      <th>alsphere_ID</th>\n",
       "      <th></th>\n",
       "      <th></th>\n",
       "      <th></th>\n",
       "      <th></th>\n",
       "      <th></th>\n",
       "      <th></th>\n",
       "      <th></th>\n",
       "      <th></th>\n",
       "      <th></th>\n",
       "      <th></th>\n",
       "      <th></th>\n",
       "      <th></th>\n",
       "      <th></th>\n",
       "      <th></th>\n",
       "      <th></th>\n",
       "      <th></th>\n",
       "      <th></th>\n",
       "      <th></th>\n",
       "      <th></th>\n",
       "      <th></th>\n",
       "      <th></th>\n",
       "      <th></th>\n",
       "      <th></th>\n",
       "      <th></th>\n",
       "      <th></th>\n",
       "      <th></th>\n",
       "      <th></th>\n",
       "      <th></th>\n",
       "      <th></th>\n",
       "      <th></th>\n",
       "    </tr>\n",
       "  </thead>\n",
       "  <tbody>\n",
       "    <tr>\n",
       "      <td>Chlamy10</td>\n",
       "      <td>4.0</td>\n",
       "      <td>2.0</td>\n",
       "      <td>4.0</td>\n",
       "      <td>1.0</td>\n",
       "      <td>1.0</td>\n",
       "      <td>9.0</td>\n",
       "      <td>NaN</td>\n",
       "      <td>NaN</td>\n",
       "      <td>NaN</td>\n",
       "      <td>NaN</td>\n",
       "      <td>NaN</td>\n",
       "      <td>1.0</td>\n",
       "      <td>1.0</td>\n",
       "      <td>2.0</td>\n",
       "      <td>1.0</td>\n",
       "      <td>1.0</td>\n",
       "      <td>1.0</td>\n",
       "      <td>1.0</td>\n",
       "      <td>NaN</td>\n",
       "      <td>NaN</td>\n",
       "      <td>NaN</td>\n",
       "      <td>NaN</td>\n",
       "      <td>NaN</td>\n",
       "      <td>1.0</td>\n",
       "      <td>NaN</td>\n",
       "      <td>NaN</td>\n",
       "      <td>NaN</td>\n",
       "      <td>NaN</td>\n",
       "      <td>NaN</td>\n",
       "      <td>NaN</td>\n",
       "    </tr>\n",
       "    <tr>\n",
       "      <td>Chlamy15</td>\n",
       "      <td>6.0</td>\n",
       "      <td>2.0</td>\n",
       "      <td>1.0</td>\n",
       "      <td>3.0</td>\n",
       "      <td>4.0</td>\n",
       "      <td>7.0</td>\n",
       "      <td>NaN</td>\n",
       "      <td>1.0</td>\n",
       "      <td>NaN</td>\n",
       "      <td>1.0</td>\n",
       "      <td>1.0</td>\n",
       "      <td>NaN</td>\n",
       "      <td>1.0</td>\n",
       "      <td>NaN</td>\n",
       "      <td>1.0</td>\n",
       "      <td>NaN</td>\n",
       "      <td>NaN</td>\n",
       "      <td>NaN</td>\n",
       "      <td>NaN</td>\n",
       "      <td>1.0</td>\n",
       "      <td>NaN</td>\n",
       "      <td>1.0</td>\n",
       "      <td>NaN</td>\n",
       "      <td>NaN</td>\n",
       "      <td>NaN</td>\n",
       "      <td>NaN</td>\n",
       "      <td>NaN</td>\n",
       "      <td>1.0</td>\n",
       "      <td>NaN</td>\n",
       "      <td>NaN</td>\n",
       "    </tr>\n",
       "    <tr>\n",
       "      <td>Chlamy186</td>\n",
       "      <td>3.0</td>\n",
       "      <td>1.0</td>\n",
       "      <td>1.0</td>\n",
       "      <td>1.0</td>\n",
       "      <td>NaN</td>\n",
       "      <td>7.0</td>\n",
       "      <td>NaN</td>\n",
       "      <td>NaN</td>\n",
       "      <td>1.0</td>\n",
       "      <td>NaN</td>\n",
       "      <td>NaN</td>\n",
       "      <td>NaN</td>\n",
       "      <td>1.0</td>\n",
       "      <td>2.0</td>\n",
       "      <td>1.0</td>\n",
       "      <td>1.0</td>\n",
       "      <td>1.0</td>\n",
       "      <td>NaN</td>\n",
       "      <td>2.0</td>\n",
       "      <td>1.0</td>\n",
       "      <td>NaN</td>\n",
       "      <td>NaN</td>\n",
       "      <td>NaN</td>\n",
       "      <td>NaN</td>\n",
       "      <td>NaN</td>\n",
       "      <td>NaN</td>\n",
       "      <td>NaN</td>\n",
       "      <td>NaN</td>\n",
       "      <td>NaN</td>\n",
       "      <td>NaN</td>\n",
       "    </tr>\n",
       "    <tr>\n",
       "      <td>Chlamy203</td>\n",
       "      <td>4.0</td>\n",
       "      <td>1.0</td>\n",
       "      <td>1.0</td>\n",
       "      <td>1.0</td>\n",
       "      <td>NaN</td>\n",
       "      <td>7.0</td>\n",
       "      <td>1.0</td>\n",
       "      <td>NaN</td>\n",
       "      <td>NaN</td>\n",
       "      <td>NaN</td>\n",
       "      <td>NaN</td>\n",
       "      <td>1.0</td>\n",
       "      <td>1.0</td>\n",
       "      <td>2.0</td>\n",
       "      <td>1.0</td>\n",
       "      <td>1.0</td>\n",
       "      <td>1.0</td>\n",
       "      <td>1.0</td>\n",
       "      <td>NaN</td>\n",
       "      <td>NaN</td>\n",
       "      <td>NaN</td>\n",
       "      <td>NaN</td>\n",
       "      <td>NaN</td>\n",
       "      <td>NaN</td>\n",
       "      <td>NaN</td>\n",
       "      <td>NaN</td>\n",
       "      <td>NaN</td>\n",
       "      <td>NaN</td>\n",
       "      <td>NaN</td>\n",
       "      <td>NaN</td>\n",
       "    </tr>\n",
       "    <tr>\n",
       "      <td>Chlamy197</td>\n",
       "      <td>4.0</td>\n",
       "      <td>1.0</td>\n",
       "      <td>1.0</td>\n",
       "      <td>1.0</td>\n",
       "      <td>NaN</td>\n",
       "      <td>7.0</td>\n",
       "      <td>1.0</td>\n",
       "      <td>NaN</td>\n",
       "      <td>NaN</td>\n",
       "      <td>NaN</td>\n",
       "      <td>NaN</td>\n",
       "      <td>1.0</td>\n",
       "      <td>1.0</td>\n",
       "      <td>2.0</td>\n",
       "      <td>1.0</td>\n",
       "      <td>1.0</td>\n",
       "      <td>1.0</td>\n",
       "      <td>1.0</td>\n",
       "      <td>NaN</td>\n",
       "      <td>NaN</td>\n",
       "      <td>NaN</td>\n",
       "      <td>NaN</td>\n",
       "      <td>NaN</td>\n",
       "      <td>NaN</td>\n",
       "      <td>NaN</td>\n",
       "      <td>NaN</td>\n",
       "      <td>NaN</td>\n",
       "      <td>NaN</td>\n",
       "      <td>NaN</td>\n",
       "      <td>NaN</td>\n",
       "    </tr>\n",
       "  </tbody>\n",
       "</table>\n",
       "</div>"
      ],
      "text/plain": [
       "             terpene  other  bacteriocin  siderophore  arylpolyene  nrps  \\\n",
       "alsphere_ID                                                                \n",
       "Chlamy10         4.0    2.0          4.0          1.0          1.0   9.0   \n",
       "Chlamy15         6.0    2.0          1.0          3.0          4.0   7.0   \n",
       "Chlamy186        3.0    1.0          1.0          1.0          NaN   7.0   \n",
       "Chlamy203        4.0    1.0          1.0          1.0          NaN   7.0   \n",
       "Chlamy197        4.0    1.0          1.0          1.0          NaN   7.0   \n",
       "\n",
       "             hserlactone  phenazine  t3pks  phosphonate  \\\n",
       "alsphere_ID                                               \n",
       "Chlamy10             NaN        NaN    NaN          NaN   \n",
       "Chlamy15             NaN        1.0    NaN          1.0   \n",
       "Chlamy186            NaN        NaN    1.0          NaN   \n",
       "Chlamy203            1.0        NaN    NaN          NaN   \n",
       "Chlamy197            1.0        NaN    NaN          NaN   \n",
       "\n",
       "             arylpolyene-ladderane  t1pks-nrps  ladderane  lantipeptide  \\\n",
       "alsphere_ID                                                               \n",
       "Chlamy10                       NaN         1.0        1.0           2.0   \n",
       "Chlamy15                       1.0         NaN        1.0           NaN   \n",
       "Chlamy186                      NaN         NaN        1.0           2.0   \n",
       "Chlamy203                      NaN         1.0        1.0           2.0   \n",
       "Chlamy197                      NaN         1.0        1.0           2.0   \n",
       "\n",
       "             microviridin  arylpolyene-resorcinol  t1pks-otherks  \\\n",
       "alsphere_ID                                                        \n",
       "Chlamy10              1.0                     1.0            1.0   \n",
       "Chlamy15              1.0                     NaN            NaN   \n",
       "Chlamy186             1.0                     1.0            1.0   \n",
       "Chlamy203             1.0                     1.0            1.0   \n",
       "Chlamy197             1.0                     1.0            1.0   \n",
       "\n",
       "             arylpolyene-nrps  lassopeptide  resorcinol  \\\n",
       "alsphere_ID                                               \n",
       "Chlamy10                  1.0           NaN         NaN   \n",
       "Chlamy15                  NaN           NaN         1.0   \n",
       "Chlamy186                 NaN           2.0         1.0   \n",
       "Chlamy203                 1.0           NaN         NaN   \n",
       "Chlamy197                 1.0           NaN         NaN   \n",
       "\n",
       "             acyl_amino_acids-siderophore  t1pks  thiopeptide  terpene-nrps  \\\n",
       "alsphere_ID                                                                   \n",
       "Chlamy10                              NaN    NaN          NaN           1.0   \n",
       "Chlamy15                              NaN    1.0          NaN           NaN   \n",
       "Chlamy186                             NaN    NaN          NaN           NaN   \n",
       "Chlamy203                             NaN    NaN          NaN           NaN   \n",
       "Chlamy197                             NaN    NaN          NaN           NaN   \n",
       "\n",
       "             siderophore-nrps  ectoine  butyrolactone  otherks  \\\n",
       "alsphere_ID                                                      \n",
       "Chlamy10                  NaN      NaN            NaN      NaN   \n",
       "Chlamy15                  NaN      NaN            NaN      1.0   \n",
       "Chlamy186                 NaN      NaN            NaN      NaN   \n",
       "Chlamy203                 NaN      NaN            NaN      NaN   \n",
       "Chlamy197                 NaN      NaN            NaN      NaN   \n",
       "\n",
       "             sactipeptide-head_to_tail  lantipeptide-t1pks-nrps  \n",
       "alsphere_ID                                                      \n",
       "Chlamy10                           NaN                      NaN  \n",
       "Chlamy15                           NaN                      NaN  \n",
       "Chlamy186                          NaN                      NaN  \n",
       "Chlamy203                          NaN                      NaN  \n",
       "Chlamy197                          NaN                      NaN  "
      ]
     },
     "execution_count": 4,
     "metadata": {},
     "output_type": "execute_result"
    }
   ],
   "source": [
    "# ensure path to file is correct\n",
    "path = '/home/rdmtinez/Desktop/MScThesis/data_o/antismash'\n",
    "fname= 'biosynthetic_gene_clusters_counts.csv'\n",
    "gdf = pd.read_csv(pjoin(path,fname), index_col=0)\n",
    "gdf.indexname = 'alsphere_ID'\n",
    "gdf.head()"
   ]
  },
  {
   "cell_type": "code",
   "execution_count": null,
   "metadata": {},
   "outputs": [],
   "source": [
    "# THESE MAPPINGS ARE AMBIGOUS, REQUEST UNAMBIGOUS MAPPINGS\n",
    "# merge with the counts data\n",
    "fname = 'taxonomy_16S_clean.txt'\n",
    "\n",
    "taxo_df = pd.read_csv(pjoin(path,fname), sep='\\t', index_col=0).drop_duplicates()\n",
    "taxo_df.index.name = 'alsphere_ID'\n",
    "taxo_df.head()"
   ]
  },
  {
   "cell_type": "code",
   "execution_count": null,
   "metadata": {},
   "outputs": [],
   "source": [
    "mdf = pd.concat([taxo_df, gdf], axis=1, sort=False) \n",
    "mdf"
   ]
  },
  {
   "cell_type": "code",
   "execution_count": null,
   "metadata": {},
   "outputs": [],
   "source": [
    "mdf = mdf.rename({'alsphere_ID':'strain'}, axis=1)"
   ]
  },
  {
   "cell_type": "code",
   "execution_count": null,
   "metadata": {},
   "outputs": [],
   "source": [
    "mdf"
   ]
  },
  {
   "cell_type": "code",
   "execution_count": null,
   "metadata": {},
   "outputs": [],
   "source": [
    "gbg = mdf[mdf['siderophore']>=1].groupby(by='Genus')\n",
    "gbf = mdf[mdf['siderophore']>=1].groupby(by='Family')\n",
    "gbo = mdf[mdf['siderophore']>=1].groupby(by='Order')\n",
    "gbc = mdf[mdf['siderophore']>=1].groupby(by='Class')"
   ]
  },
  {
   "cell_type": "code",
   "execution_count": null,
   "metadata": {},
   "outputs": [],
   "source": [
    "gbg = mdf.groupby(by='Genus')\n",
    "gbf = mdf.groupby(by='Family')\n",
    "gbo = mdf.groupby(by='Order')\n",
    "\n"
   ]
  },
  {
   "cell_type": "code",
   "execution_count": null,
   "metadata": {},
   "outputs": [],
   "source": [
    "gbg.sum().plot(y='siderophore', kind='bar')\n",
    "gbf.sum().plot(y='siderophore', kind='bar')\n",
    "#gbo.sum().plot(y='siderophore', kind='bar')\n",
    "#gbc.sum().plot(y='siderophore', kind='bar')\n",
    "#gbp.sum().plot(y='siderophore', kind='bar')"
   ]
  },
  {
   "cell_type": "code",
   "execution_count": null,
   "metadata": {},
   "outputs": [],
   "source": [
    "gbg.sum().plot(y='bacteriocin', kind='bar')"
   ]
  },
  {
   "cell_type": "code",
   "execution_count": null,
   "metadata": {},
   "outputs": [],
   "source": [
    "# list of strains that are chryseobacterium\n",
    "mdf[(mdf['Genus']=='Chryseobacterium') & mdf['siderophore']>=1].index\n",
    "mdf[(mdf['Genus']=='Cupriavidus') & mdf['siderophore']>=1].index"
   ]
  },
  {
   "cell_type": "code",
   "execution_count": null,
   "metadata": {},
   "outputs": [],
   "source": [
    "syncom = '/biodata/dep_psl/grp_rgo/chlamy/data/chlamy_007_SynCom.txt'\n"
   ]
  },
  {
   "cell_type": "code",
   "execution_count": null,
   "metadata": {},
   "outputs": [],
   "source": [
    "sdf = pd.read_csv(syncom, sep=\"\"'\\t'\"\")"
   ]
  },
  {
   "cell_type": "code",
   "execution_count": null,
   "metadata": {},
   "outputs": [],
   "source": [
    "sdf = sdf.set_index(keys='strain', drop=True)\n",
    "sdf.index.name = 'alsphere_ID'"
   ]
  },
  {
   "cell_type": "code",
   "execution_count": null,
   "metadata": {},
   "outputs": [],
   "source": [
    "#sdf.sort_index()"
   ]
  },
  {
   "cell_type": "code",
   "execution_count": null,
   "metadata": {},
   "outputs": [],
   "source": [
    "mdf[mdf.index.isin(sdf.index)].sort_index().to_csv('syncom_007_composition.csv')"
   ]
  },
  {
   "cell_type": "code",
   "execution_count": null,
   "metadata": {},
   "outputs": [],
   "source": [
    "sdf = sdf.drop(labels=['host', 'primers', 'NA'], axis=1)"
   ]
  },
  {
   "cell_type": "code",
   "execution_count": null,
   "metadata": {},
   "outputs": [],
   "source": [
    "#sdf.reset_index().to_csv('syncom_007_composition.csv')"
   ]
  },
  {
   "cell_type": "code",
   "execution_count": null,
   "metadata": {},
   "outputs": [],
   "source": [
    "detected = np.array(['Chlamy125','Chlamy74','Chlamy123',\n",
    "            'Chlamy87','Chlamy149','Chlamy24',\n",
    "            'Chlamy107','Chlamy19','Chlamy25',\n",
    "            'Chlamy176','Chlamy23','Chlamy40'])\n"
   ]
  },
  {
   "cell_type": "code",
   "execution_count": null,
   "metadata": {},
   "outputs": [],
   "source": [
    "mdf[mdf.index.isin(detected)].to_csv('detected_syncom_007.csv')"
   ]
  },
  {
   "cell_type": "code",
   "execution_count": null,
   "metadata": {},
   "outputs": [],
   "source": [
    "mdf[mdf.index.isin(detected)]"
   ]
  },
  {
   "cell_type": "markdown",
   "metadata": {},
   "source": [
    "# Taxonomy Pre-Processing\n",
    "    \n",
    "    Save as ICL_taxonomic_mapping.csv and replace the obsolete one. Rerun, script to remove old errors.\n",
    "    "
   ]
  },
  {
   "cell_type": "code",
   "execution_count": null,
   "metadata": {},
   "outputs": [],
   "source": [
    "chlamy_icl_taxa = pd.read_csv(pjoin(path, 'ICL_taxonomic_mapping.tsv'), sep='\\t')\n",
    "chlamy_icl_taxa.sort_values(by='alsphere_ID').drop_duplicates()\n",
    "chlamy_icl_taxa."
   ]
  },
  {
   "cell_type": "code",
   "execution_count": null,
   "metadata": {},
   "outputs": [],
   "source": []
  }
 ],
 "metadata": {
  "kernelspec": {
   "display_name": "Python 3",
   "language": "python",
   "name": "python3"
  },
  "language_info": {
   "codemirror_mode": {
    "name": "ipython",
    "version": 3
   },
   "file_extension": ".py",
   "mimetype": "text/x-python",
   "name": "python",
   "nbconvert_exporter": "python",
   "pygments_lexer": "ipython3",
   "version": "3.7.4"
  }
 },
 "nbformat": 4,
 "nbformat_minor": 4
}
