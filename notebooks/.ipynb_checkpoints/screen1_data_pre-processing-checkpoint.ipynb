{
 "cells": [
  {
   "cell_type": "markdown",
   "metadata": {},
   "source": [
    "# Screen 1 Preprocessing\n",
    "    \n",
    "    The media is the main point of change in this experiement\n",
    "    \n",
    "    There are 4 types of media, these dictate what should grow and\n",
    "    what shouldn't grow"
   ]
  },
  {
   "cell_type": "markdown",
   "metadata": {},
   "source": [
    "\n",
    "# Imports"
   ]
  },
  {
   "cell_type": "code",
   "execution_count": 2,
   "metadata": {},
   "outputs": [],
   "source": [
    "import numpy as np\n",
    "import pandas as pd\n",
    "import os\n",
    "import scipy\n",
    "\n",
    "import pandas_profiling\n",
    "\n",
    "import matplotlib.pyplot as plt\n",
    "%matplotlib inline\n",
    "\n",
    "import matplotlib.gridspec as gridspec\n",
    "\n",
    "from os.path import join as pjoin \n",
    "\n",
    "import seaborn as sns\n",
    "sns.set(style='whitegrid')\n",
    "\n",
    "%config InteractiveShell.ast_node_interactivity='all'\n",
    "%config InlineBackend.figure_format = 'svg'\n",
    "import warnings; warnings.simplefilter('ignore')"
   ]
  },
  {
   "cell_type": "code",
   "execution_count": 3,
   "metadata": {},
   "outputs": [],
   "source": [
    "pd.set_option('max_rows', 300)"
   ]
  },
  {
   "cell_type": "markdown",
   "metadata": {},
   "source": [
    "# Data Pre-Processing"
   ]
  },
  {
   "cell_type": "code",
   "execution_count": 4,
   "metadata": {},
   "outputs": [],
   "source": [
    "path = '../data_o/screens/sc1'\n",
    "fname=  'screen_1_w_gene_info.tsv'"
   ]
  },
  {
   "cell_type": "code",
   "execution_count": 5,
   "metadata": {},
   "outputs": [],
   "source": [
    "filepath = os.path.join(path, fname)\n",
    "data = pd.read_csv(filepath, sep='\\t')"
   ]
  },
  {
   "cell_type": "code",
   "execution_count": 33,
   "metadata": {},
   "outputs": [
    {
     "data": {
      "text/html": [
       "<div>\n",
       "<style scoped>\n",
       "    .dataframe tbody tr th:only-of-type {\n",
       "        vertical-align: middle;\n",
       "    }\n",
       "\n",
       "    .dataframe tbody tr th {\n",
       "        vertical-align: top;\n",
       "    }\n",
       "\n",
       "    .dataframe thead th {\n",
       "        text-align: right;\n",
       "    }\n",
       "</style>\n",
       "<table border=\"1\" class=\"dataframe\">\n",
       "  <thead>\n",
       "    <tr style=\"text-align: right;\">\n",
       "      <th></th>\n",
       "      <th>Sampling_date</th>\n",
       "      <th>Media</th>\n",
       "      <th>Condition</th>\n",
       "      <th>Plate</th>\n",
       "      <th>Strain_id</th>\n",
       "      <th>Measurement_type</th>\n",
       "      <th>Wavelength</th>\n",
       "      <th>Row</th>\n",
       "      <th>Column</th>\n",
       "      <th>t (h)</th>\n",
       "      <th>Measurement</th>\n",
       "      <th>Measurement_blank_average</th>\n",
       "      <th>Measurement_fixed</th>\n",
       "    </tr>\n",
       "  </thead>\n",
       "  <tbody>\n",
       "    <tr>\n",
       "      <th>0</th>\n",
       "      <td>14.12.2018</td>\n",
       "      <td>tpn</td>\n",
       "      <td>b</td>\n",
       "      <td>1</td>\n",
       "      <td>204</td>\n",
       "      <td>Absorbance</td>\n",
       "      <td>750_nm</td>\n",
       "      <td>A</td>\n",
       "      <td>1</td>\n",
       "      <td>210.0</td>\n",
       "      <td>0.0949</td>\n",
       "      <td>0.097194</td>\n",
       "      <td>-0.002294</td>\n",
       "    </tr>\n",
       "    <tr>\n",
       "      <th>1</th>\n",
       "      <td>14.12.2018</td>\n",
       "      <td>tpn</td>\n",
       "      <td>b</td>\n",
       "      <td>1</td>\n",
       "      <td>161B</td>\n",
       "      <td>Absorbance</td>\n",
       "      <td>750_nm</td>\n",
       "      <td>B</td>\n",
       "      <td>1</td>\n",
       "      <td>210.0</td>\n",
       "      <td>0.0944</td>\n",
       "      <td>0.097194</td>\n",
       "      <td>-0.002794</td>\n",
       "    </tr>\n",
       "    <tr>\n",
       "      <th>2</th>\n",
       "      <td>14.12.2018</td>\n",
       "      <td>tpn</td>\n",
       "      <td>b</td>\n",
       "      <td>1</td>\n",
       "      <td>202B</td>\n",
       "      <td>Absorbance</td>\n",
       "      <td>750_nm</td>\n",
       "      <td>C</td>\n",
       "      <td>1</td>\n",
       "      <td>210.0</td>\n",
       "      <td>0.1016</td>\n",
       "      <td>0.097194</td>\n",
       "      <td>0.004406</td>\n",
       "    </tr>\n",
       "    <tr>\n",
       "      <th>3</th>\n",
       "      <td>14.12.2018</td>\n",
       "      <td>tpn</td>\n",
       "      <td>b</td>\n",
       "      <td>1</td>\n",
       "      <td>BLANK</td>\n",
       "      <td>Absorbance</td>\n",
       "      <td>750_nm</td>\n",
       "      <td>D</td>\n",
       "      <td>1</td>\n",
       "      <td>210.0</td>\n",
       "      <td>0.0938</td>\n",
       "      <td>0.097194</td>\n",
       "      <td>-0.003394</td>\n",
       "    </tr>\n",
       "    <tr>\n",
       "      <th>34</th>\n",
       "      <td>14.12.2018</td>\n",
       "      <td>tpn</td>\n",
       "      <td>b</td>\n",
       "      <td>1</td>\n",
       "      <td>129A</td>\n",
       "      <td>Absorbance</td>\n",
       "      <td>750_nm</td>\n",
       "      <td>E</td>\n",
       "      <td>1</td>\n",
       "      <td>210.0</td>\n",
       "      <td>0.1004</td>\n",
       "      <td>0.097194</td>\n",
       "      <td>0.003206</td>\n",
       "    </tr>\n",
       "  </tbody>\n",
       "</table>\n",
       "</div>"
      ],
      "text/plain": [
       "   Sampling_date Media Condition  Plate Strain_id Measurement_type Wavelength  \\\n",
       "0     14.12.2018   tpn         b      1       204       Absorbance     750_nm   \n",
       "1     14.12.2018   tpn         b      1      161B       Absorbance     750_nm   \n",
       "2     14.12.2018   tpn         b      1      202B       Absorbance     750_nm   \n",
       "3     14.12.2018   tpn         b      1     BLANK       Absorbance     750_nm   \n",
       "34    14.12.2018   tpn         b      1      129A       Absorbance     750_nm   \n",
       "\n",
       "   Row  Column  t (h)  Measurement  Measurement_blank_average  \\\n",
       "0    A       1  210.0       0.0949                   0.097194   \n",
       "1    B       1  210.0       0.0944                   0.097194   \n",
       "2    C       1  210.0       0.1016                   0.097194   \n",
       "3    D       1  210.0       0.0938                   0.097194   \n",
       "34   E       1  210.0       0.1004                   0.097194   \n",
       "\n",
       "    Measurement_fixed  \n",
       "0           -0.002294  \n",
       "1           -0.002794  \n",
       "2            0.004406  \n",
       "3           -0.003394  \n",
       "34           0.003206  "
      ]
     },
     "execution_count": 33,
     "metadata": {},
     "output_type": "execute_result"
    },
    {
     "data": {
      "text/plain": [
       "(51840, 13)"
      ]
     },
     "execution_count": 33,
     "metadata": {},
     "output_type": "execute_result"
    },
    {
     "data": {
      "text/html": [
       "<div>\n",
       "<style scoped>\n",
       "    .dataframe tbody tr th:only-of-type {\n",
       "        vertical-align: middle;\n",
       "    }\n",
       "\n",
       "    .dataframe tbody tr th {\n",
       "        vertical-align: top;\n",
       "    }\n",
       "\n",
       "    .dataframe thead th {\n",
       "        text-align: right;\n",
       "    }\n",
       "</style>\n",
       "<table border=\"1\" class=\"dataframe\">\n",
       "  <thead>\n",
       "    <tr style=\"text-align: right;\">\n",
       "      <th></th>\n",
       "      <th>samp_day</th>\n",
       "      <th>media</th>\n",
       "      <th>condition</th>\n",
       "      <th>plate</th>\n",
       "      <th>content</th>\n",
       "      <th>measurement_type</th>\n",
       "      <th>wavelength</th>\n",
       "      <th>t(h)</th>\n",
       "      <th>measure</th>\n",
       "      <th>blank_measure_mean</th>\n",
       "      <th>corrected_measure</th>\n",
       "      <th>well</th>\n",
       "    </tr>\n",
       "  </thead>\n",
       "  <tbody>\n",
       "    <tr>\n",
       "      <th>0</th>\n",
       "      <td>2018-12-05</td>\n",
       "      <td>tap</td>\n",
       "      <td>b</td>\n",
       "      <td>1</td>\n",
       "      <td>204</td>\n",
       "      <td>absorbance</td>\n",
       "      <td>600_nm</td>\n",
       "      <td>1</td>\n",
       "      <td>0.1177</td>\n",
       "      <td>0.120141</td>\n",
       "      <td>-0.002441</td>\n",
       "      <td>A1</td>\n",
       "    </tr>\n",
       "    <tr>\n",
       "      <th>1</th>\n",
       "      <td>2018-12-05</td>\n",
       "      <td>tap</td>\n",
       "      <td>b</td>\n",
       "      <td>1</td>\n",
       "      <td>161B</td>\n",
       "      <td>absorbance</td>\n",
       "      <td>600_nm</td>\n",
       "      <td>1</td>\n",
       "      <td>0.1104</td>\n",
       "      <td>0.120141</td>\n",
       "      <td>-0.009741</td>\n",
       "      <td>B1</td>\n",
       "    </tr>\n",
       "    <tr>\n",
       "      <th>2</th>\n",
       "      <td>2018-12-05</td>\n",
       "      <td>tap</td>\n",
       "      <td>b</td>\n",
       "      <td>1</td>\n",
       "      <td>202B</td>\n",
       "      <td>absorbance</td>\n",
       "      <td>600_nm</td>\n",
       "      <td>1</td>\n",
       "      <td>0.1114</td>\n",
       "      <td>0.120141</td>\n",
       "      <td>-0.008741</td>\n",
       "      <td>C1</td>\n",
       "    </tr>\n",
       "    <tr>\n",
       "      <th>3</th>\n",
       "      <td>2018-12-05</td>\n",
       "      <td>tap</td>\n",
       "      <td>b</td>\n",
       "      <td>1</td>\n",
       "      <td>BLANK</td>\n",
       "      <td>absorbance</td>\n",
       "      <td>600_nm</td>\n",
       "      <td>1</td>\n",
       "      <td>0.1129</td>\n",
       "      <td>0.120141</td>\n",
       "      <td>-0.007241</td>\n",
       "      <td>D1</td>\n",
       "    </tr>\n",
       "    <tr>\n",
       "      <th>4</th>\n",
       "      <td>2018-12-05</td>\n",
       "      <td>tap</td>\n",
       "      <td>b</td>\n",
       "      <td>1</td>\n",
       "      <td>129A</td>\n",
       "      <td>absorbance</td>\n",
       "      <td>600_nm</td>\n",
       "      <td>1</td>\n",
       "      <td>0.1165</td>\n",
       "      <td>0.120141</td>\n",
       "      <td>-0.003641</td>\n",
       "      <td>E1</td>\n",
       "    </tr>\n",
       "  </tbody>\n",
       "</table>\n",
       "</div>"
      ],
      "text/plain": [
       "    samp_day media condition plate content measurement_type wavelength  t(h)  \\\n",
       "0 2018-12-05   tap         b     1     204       absorbance     600_nm     1   \n",
       "1 2018-12-05   tap         b     1    161B       absorbance     600_nm     1   \n",
       "2 2018-12-05   tap         b     1    202B       absorbance     600_nm     1   \n",
       "3 2018-12-05   tap         b     1   BLANK       absorbance     600_nm     1   \n",
       "4 2018-12-05   tap         b     1    129A       absorbance     600_nm     1   \n",
       "\n",
       "   measure  blank_measure_mean  corrected_measure well  \n",
       "0   0.1177            0.120141          -0.002441   A1  \n",
       "1   0.1104            0.120141          -0.009741   B1  \n",
       "2   0.1114            0.120141          -0.008741   C1  \n",
       "3   0.1129            0.120141          -0.007241   D1  \n",
       "4   0.1165            0.120141          -0.003641   E1  "
      ]
     },
     "execution_count": 33,
     "metadata": {},
     "output_type": "execute_result"
    },
    {
     "data": {
      "text/plain": [
       "(51840, 12)"
      ]
     },
     "execution_count": 33,
     "metadata": {},
     "output_type": "execute_result"
    }
   ],
   "source": [
    "# The original dataframe is such that it contains many duplicate samples,\n",
    "# its length (1063792) is 20x bigger than expected for the raw files which\n",
    "# were originally parsed by a colleague, thus a drop_duplicates function\n",
    "# is called to remove this unneeded data.\n",
    "\n",
    "# original dataframe has a lot of columns not needed for this specific work\n",
    "keep_cols = ['Sampling_date', 'Media', 'Condition', 'Plate', 'Strain_id',\n",
    "             'Measurement_type', 'Wavelength', 'Row', 'Column', 't (h)', \n",
    "             'Measurement', 'Measurement_blank_average', 'Measurement_fixed']\n",
    "dfscr = data[keep_cols]\n",
    "\n",
    "# This drop duplicates removes many more after its called post-removal of the \n",
    "# columns not withing in the keep_columns list mention above this statement\n",
    "dfscr = dfscr.drop_duplicates()\n",
    "dfscr.head()\n",
    "dfscr.shape # 51840\n",
    "\n",
    "# lowercase all columns\n",
    "dfscr.columns = map(str.lower, dfscr.columns)\n",
    "\n",
    "# rename columns\n",
    "rename_cols =  {'strain_id':'content', 't (h)':'t(h)','measurement':'measure', \n",
    "                'measurement_blank_average':'blank_measure_mean',\n",
    "                'sampling_date':'samp_day',\n",
    "                'measurement_fixed':'corrected_measure'}\n",
    "\n",
    "dfscr = dfscr.rename(rename_cols, axis=1)\n",
    "#rename and lowercase meas. type values\n",
    "type_rename = {'Fluorescence Bottom Reading': 'fluorescence', 'Absorbance':'absorbance'}\n",
    "dfscr['measurement_type'] = dfscr['measurement_type'].map(type_rename)\n",
    "\n",
    "# rename and lowercase wavelength values\n",
    "wave_rename = {'Ex:440_nm/Em:680_nm':'680_nm', '750_nm':'750_nm', '600_nm':'600_nm'}\n",
    "dfscr['wavelength'] = dfscr['wavelength'].map(wave_rename)\n",
    "\n",
    "# convert categorical int values to string types\n",
    "dfscr['plate'] = dfscr['plate'].map(str)\n",
    "dfscr['column'] = dfscr['column'].map(str)\n",
    "dfscr['t(h)'] = dfscr['t(h)'].map(int)\n",
    "\n",
    "# create well column to replace row & column \n",
    "dfscr['well'] = dfscr['row']+dfscr['column']\n",
    "\n",
    "# drop columns\n",
    "dfscr =  dfscr.drop(labels=['row', 'column'], axis=1)\n",
    "\n",
    "# convert to datetime\n",
    "dfscr['samp_day'] = pd.to_datetime(dfscr['samp_day'], dayfirst=True)\n",
    "\n",
    "# sort values by using the measurement times\n",
    "dfscr = dfscr.sort_values(by=['samp_day', 'media', 'condition', 'plate',\n",
    "                              'measurement_type'])\n",
    "dfscr = dfscr.reset_index(drop=True)\n",
    "\n",
    "dfscr.head()\n",
    "dfscr.shape"
   ]
  },
  {
   "cell_type": "markdown",
   "metadata": {},
   "source": [
    "## Correct Values Using 'BLANK'"
   ]
  },
  {
   "cell_type": "code",
   "execution_count": 6,
   "metadata": {},
   "outputs": [],
   "source": [
    "# It was noticed that the data for screen_1 did not have BLANK measurements for the condition 'bc' at any \n",
    "# of the media labels. Only when the condition was 'b' were blank measurements taken. To correct for this\n",
    "# the daily average of the 3 replicates per media of condition 'b' were used to correct the signal of \n",
    "# condition 'bc'. Its also worth mentioning that the varaince of the blank measurements per media have some \n",
    "# strong outliers as noted by the 'max' values below. After to talking to my colleage it was determined\n",
    "# that evaporation and condesation was probably the main culprits and that perhaps only the initial BLANK\n",
    "# mesurements should be considered....\n",
    "\n",
    "# I'll consider both cases and see if any significant difference arise in the analysis\n",
    "    \n",
    "# To complicate matters more, blank fluorescence measuremnts were taken only before 08.12.2018  data and only\n",
    "# when the condition was 'b' as previoiusly mentioned. Recall that these values were then averaged and input \n",
    "# onto 'blank_measure_mean' column for when the condition is 'bc'. To correct for the data post 08.12 the \n",
    "# 'blank' average for a given media used will be applied to the days not having a blank measurement. \n",
    "\n",
    "\n",
    "\n",
    "# in this particular case we will get the average blank measurement of condition 'b'\n",
    "# (as it is the only one that has blank measurements) over each day, media, wavelen\n",
    "# and plate, and apply it to all conditions, to ensure that all values are changed\n",
    "# accordingly we will remove all the 'measurement_blank_mean' values and check the\n",
    "# then resulting dataframe\n",
    "\n",
    "\n",
    "####### BLANK means ##########\n",
    "#blank_means\n",
    "\n",
    "# After samp_day == 2018-12-08 the there are no more 'b' only replicates for fluorescence values\n",
    "# and therefore there does not exist anymore blank measurements as only the plates with 'b' \n",
    "# conditions were fitted with blanks. Therefore the last blank measurement mean will be used to \n",
    "# fill in the blanks of those replicaftes. Furthermore, those blank measurements tend to be\n",
    "# whole numbers so the mean value will be rounded to the neearest whole number, or to median\n",
    "\n",
    "        \n",
    "        # changes the NaN values of the blank mean to last known blank mean\n",
    "        # irrespective of date and on a per media and plate basis, although\n",
    "        # these last two conditions should not matter much it is set this \n",
    "        # way for thuroughness\n"
   ]
  },
  {
   "cell_type": "code",
   "execution_count": 7,
   "metadata": {},
   "outputs": [
    {
     "data": {
      "text/plain": [
       "('tap', '600_nm')"
      ]
     },
     "execution_count": 7,
     "metadata": {},
     "output_type": "execute_result"
    },
    {
     "data": {
      "text/plain": [
       "0.11966893178166695"
      ]
     },
     "execution_count": 7,
     "metadata": {},
     "output_type": "execute_result"
    },
    {
     "data": {
      "text/plain": [
       "('tap', '680_nm')"
      ]
     },
     "execution_count": 7,
     "metadata": {},
     "output_type": "execute_result"
    },
    {
     "data": {
      "text/plain": [
       "2.6990291262135924"
      ]
     },
     "execution_count": 7,
     "metadata": {},
     "output_type": "execute_result"
    },
    {
     "data": {
      "text/plain": [
       "('tap', '750_nm')"
      ]
     },
     "execution_count": 7,
     "metadata": {},
     "output_type": "execute_result"
    },
    {
     "data": {
      "text/plain": [
       "0.11733495096847849"
      ]
     },
     "execution_count": 7,
     "metadata": {},
     "output_type": "execute_result"
    },
    {
     "data": {
      "text/plain": [
       "('tapn', '600_nm')"
      ]
     },
     "execution_count": 7,
     "metadata": {},
     "output_type": "execute_result"
    },
    {
     "data": {
      "text/plain": [
       "0.11803009715473768"
      ]
     },
     "execution_count": 7,
     "metadata": {},
     "output_type": "execute_result"
    },
    {
     "data": {
      "text/plain": [
       "('tapn', '680_nm')"
      ]
     },
     "execution_count": 7,
     "metadata": {},
     "output_type": "execute_result"
    },
    {
     "data": {
      "text/plain": [
       "3.262135922330097"
      ]
     },
     "execution_count": 7,
     "metadata": {},
     "output_type": "execute_result"
    },
    {
     "data": {
      "text/plain": [
       "('tapn', '750_nm')"
      ]
     },
     "execution_count": 7,
     "metadata": {},
     "output_type": "execute_result"
    },
    {
     "data": {
      "text/plain": [
       "0.11649611613993506"
      ]
     },
     "execution_count": 7,
     "metadata": {},
     "output_type": "execute_result"
    },
    {
     "data": {
      "text/plain": [
       "('tp', '600_nm')"
      ]
     },
     "execution_count": 7,
     "metadata": {},
     "output_type": "execute_result"
    },
    {
     "data": {
      "text/plain": [
       "0.14495922342955486"
      ]
     },
     "execution_count": 7,
     "metadata": {},
     "output_type": "execute_result"
    },
    {
     "data": {
      "text/plain": [
       "('tp', '680_nm')"
      ]
     },
     "execution_count": 7,
     "metadata": {},
     "output_type": "execute_result"
    },
    {
     "data": {
      "text/plain": [
       "3.0388349514563107"
      ]
     },
     "execution_count": 7,
     "metadata": {},
     "output_type": "execute_result"
    },
    {
     "data": {
      "text/plain": [
       "('tp', '750_nm')"
      ]
     },
     "execution_count": 7,
     "metadata": {},
     "output_type": "execute_result"
    },
    {
     "data": {
      "text/plain": [
       "0.1374310676767988"
      ]
     },
     "execution_count": 7,
     "metadata": {},
     "output_type": "execute_result"
    },
    {
     "data": {
      "text/plain": [
       "('tpn', '600_nm')"
      ]
     },
     "execution_count": 7,
     "metadata": {},
     "output_type": "execute_result"
    },
    {
     "data": {
      "text/plain": [
       "0.11881262136315837"
      ]
     },
     "execution_count": 7,
     "metadata": {},
     "output_type": "execute_result"
    },
    {
     "data": {
      "text/plain": [
       "('tpn', '680_nm')"
      ]
     },
     "execution_count": 7,
     "metadata": {},
     "output_type": "execute_result"
    },
    {
     "data": {
      "text/plain": [
       "3.0388349514563107"
      ]
     },
     "execution_count": 7,
     "metadata": {},
     "output_type": "execute_result"
    },
    {
     "data": {
      "text/plain": [
       "('tpn', '750_nm')"
      ]
     },
     "execution_count": 7,
     "metadata": {},
     "output_type": "execute_result"
    },
    {
     "data": {
      "text/plain": [
       "0.11742135911311918"
      ]
     },
     "execution_count": 7,
     "metadata": {},
     "output_type": "execute_result"
    }
   ],
   "source": [
    "# use the first days averages of blanks as the value by which to correct all subsequent days\n",
    "gb = dfscr[(dfscr['samp_day']=='2018-12-05') & (dfscr['content']=='BLANK')].groupby(['media', 'wavelength'])\n",
    "\n",
    "correcting_dict = {}\n",
    "for name,group in gb:\n",
    "    correcting_dict[name] = group['measure'].mean()\n",
    "\n",
    "    \n",
    "\n",
    "gb = dfscr.groupby(['media', 'wavelength'])\n",
    "\n",
    "groups = []\n",
    "for name,group in gb:\n",
    "    group = group.copy()\n",
    "    group['blank_measure_mean'] = correcting_dict[name]\n",
    "    group['corrected_measure'] = group['measure'] - group['blank_measure_mean']\n",
    "    groups.append(group)\n",
    "\n",
    "dfscr=pd.concat(groups)\n"
   ]
  },
  {
   "cell_type": "code",
   "execution_count": 8,
   "metadata": {},
   "outputs": [
    {
     "data": {
      "text/html": [
       "<div>\n",
       "<style scoped>\n",
       "    .dataframe tbody tr th:only-of-type {\n",
       "        vertical-align: middle;\n",
       "    }\n",
       "\n",
       "    .dataframe tbody tr th {\n",
       "        vertical-align: top;\n",
       "    }\n",
       "\n",
       "    .dataframe thead th {\n",
       "        text-align: right;\n",
       "    }\n",
       "</style>\n",
       "<table border=\"1\" class=\"dataframe\">\n",
       "  <thead>\n",
       "    <tr style=\"text-align: right;\">\n",
       "      <th></th>\n",
       "      <th>samp_day</th>\n",
       "      <th>media</th>\n",
       "      <th>condition</th>\n",
       "      <th>plate</th>\n",
       "      <th>content</th>\n",
       "      <th>measurement_type</th>\n",
       "      <th>wavelength</th>\n",
       "      <th>t(h)</th>\n",
       "      <th>measure</th>\n",
       "      <th>blank_measure_mean</th>\n",
       "      <th>corrected_measure</th>\n",
       "      <th>well</th>\n",
       "    </tr>\n",
       "  </thead>\n",
       "  <tbody>\n",
       "  </tbody>\n",
       "</table>\n",
       "</div>"
      ],
      "text/plain": [
       "Empty DataFrame\n",
       "Columns: [samp_day, media, condition, plate, content, measurement_type, wavelength, t(h), measure, blank_measure_mean, corrected_measure, well]\n",
       "Index: []"
      ]
     },
     "execution_count": 8,
     "metadata": {},
     "output_type": "execute_result"
    },
    {
     "data": {
      "text/html": [
       "<div>\n",
       "<style scoped>\n",
       "    .dataframe tbody tr th:only-of-type {\n",
       "        vertical-align: middle;\n",
       "    }\n",
       "\n",
       "    .dataframe tbody tr th {\n",
       "        vertical-align: top;\n",
       "    }\n",
       "\n",
       "    .dataframe thead th {\n",
       "        text-align: right;\n",
       "    }\n",
       "</style>\n",
       "<table border=\"1\" class=\"dataframe\">\n",
       "  <thead>\n",
       "    <tr style=\"text-align: right;\">\n",
       "      <th></th>\n",
       "      <th>samp_day</th>\n",
       "      <th>media</th>\n",
       "      <th>condition</th>\n",
       "      <th>plate</th>\n",
       "      <th>content</th>\n",
       "      <th>measurement_type</th>\n",
       "      <th>wavelength</th>\n",
       "      <th>t(h)</th>\n",
       "      <th>measure</th>\n",
       "      <th>blank_measure_mean</th>\n",
       "      <th>corrected_measure</th>\n",
       "      <th>well</th>\n",
       "    </tr>\n",
       "  </thead>\n",
       "  <tbody>\n",
       "  </tbody>\n",
       "</table>\n",
       "</div>"
      ],
      "text/plain": [
       "Empty DataFrame\n",
       "Columns: [samp_day, media, condition, plate, content, measurement_type, wavelength, t(h), measure, blank_measure_mean, corrected_measure, well]\n",
       "Index: []"
      ]
     },
     "execution_count": 8,
     "metadata": {},
     "output_type": "execute_result"
    }
   ],
   "source": [
    "# are there any null values\n",
    "dfscr.loc[dfscr.isnull().any(axis=1)]\n",
    "dfscr.loc[dfscr.isna().any(axis=1)]"
   ]
  },
  {
   "cell_type": "markdown",
   "metadata": {},
   "source": [
    "# Save to Disk"
   ]
  },
  {
   "cell_type": "code",
   "execution_count": 9,
   "metadata": {},
   "outputs": [],
   "source": [
    "# # once the ambiguity has been removed save to disk\n",
    " fname =  'screen_1_parsed_data.tsv'\n",
    "\n",
    "    \n",
    "# save_to = os.path.join(path, fname)\n",
    "# dfscr.to_csv(save_to, sep='\\t', index=False)"
   ]
  },
  {
   "cell_type": "markdown",
   "metadata": {},
   "source": [
    "# Segregate by Condition and Media\n",
    "\n",
    "    A600 data was collected for only six days, after this the data became too noisy and was no longer\n",
    "    measured. A750 was measured over 10 days along with Fluorescence.\n",
    "    \n",
    "    # Note:\n",
    "\n",
    "    Since the Models DO NOT include Fluorescence as a parameter \n",
    "    it is not merged onto later dataframes for visualization, nor\n",
    "    do the concatenation need to include the latter 4 days given \n",
    "    that no models using A750 and F680 are made. These models\n",
    "    dot have very good predictive power so they are ignored "
   ]
  },
  {
   "cell_type": "code",
   "execution_count": 10,
   "metadata": {},
   "outputs": [
    {
     "data": {
      "text/html": [
       "<div>\n",
       "<style scoped>\n",
       "    .dataframe tbody tr th:only-of-type {\n",
       "        vertical-align: middle;\n",
       "    }\n",
       "\n",
       "    .dataframe tbody tr th {\n",
       "        vertical-align: top;\n",
       "    }\n",
       "\n",
       "    .dataframe thead th {\n",
       "        text-align: right;\n",
       "    }\n",
       "</style>\n",
       "<table border=\"1\" class=\"dataframe\">\n",
       "  <thead>\n",
       "    <tr style=\"text-align: right;\">\n",
       "      <th></th>\n",
       "      <th>samp_day</th>\n",
       "      <th>media</th>\n",
       "      <th>condition</th>\n",
       "      <th>plate</th>\n",
       "      <th>content</th>\n",
       "      <th>measurement_type</th>\n",
       "      <th>wavelength</th>\n",
       "      <th>t(h)</th>\n",
       "      <th>measure</th>\n",
       "      <th>blank_measure_mean</th>\n",
       "      <th>corrected_measure</th>\n",
       "      <th>well</th>\n",
       "    </tr>\n",
       "  </thead>\n",
       "  <tbody>\n",
       "    <tr>\n",
       "      <th>0</th>\n",
       "      <td>2018-12-05</td>\n",
       "      <td>tap</td>\n",
       "      <td>b</td>\n",
       "      <td>1</td>\n",
       "      <td>204</td>\n",
       "      <td>absorbance</td>\n",
       "      <td>600_nm</td>\n",
       "      <td>1</td>\n",
       "      <td>0.1177</td>\n",
       "      <td>0.119669</td>\n",
       "      <td>-0.001969</td>\n",
       "      <td>A1</td>\n",
       "    </tr>\n",
       "    <tr>\n",
       "      <th>1</th>\n",
       "      <td>2018-12-05</td>\n",
       "      <td>tap</td>\n",
       "      <td>b</td>\n",
       "      <td>1</td>\n",
       "      <td>161B</td>\n",
       "      <td>absorbance</td>\n",
       "      <td>600_nm</td>\n",
       "      <td>1</td>\n",
       "      <td>0.1104</td>\n",
       "      <td>0.119669</td>\n",
       "      <td>-0.009269</td>\n",
       "      <td>B1</td>\n",
       "    </tr>\n",
       "    <tr>\n",
       "      <th>2</th>\n",
       "      <td>2018-12-05</td>\n",
       "      <td>tap</td>\n",
       "      <td>b</td>\n",
       "      <td>1</td>\n",
       "      <td>202B</td>\n",
       "      <td>absorbance</td>\n",
       "      <td>600_nm</td>\n",
       "      <td>1</td>\n",
       "      <td>0.1114</td>\n",
       "      <td>0.119669</td>\n",
       "      <td>-0.008269</td>\n",
       "      <td>C1</td>\n",
       "    </tr>\n",
       "    <tr>\n",
       "      <th>3</th>\n",
       "      <td>2018-12-05</td>\n",
       "      <td>tap</td>\n",
       "      <td>b</td>\n",
       "      <td>1</td>\n",
       "      <td>BLANK</td>\n",
       "      <td>absorbance</td>\n",
       "      <td>600_nm</td>\n",
       "      <td>1</td>\n",
       "      <td>0.1129</td>\n",
       "      <td>0.119669</td>\n",
       "      <td>-0.006769</td>\n",
       "      <td>D1</td>\n",
       "    </tr>\n",
       "    <tr>\n",
       "      <th>4</th>\n",
       "      <td>2018-12-05</td>\n",
       "      <td>tap</td>\n",
       "      <td>b</td>\n",
       "      <td>1</td>\n",
       "      <td>129A</td>\n",
       "      <td>absorbance</td>\n",
       "      <td>600_nm</td>\n",
       "      <td>1</td>\n",
       "      <td>0.1165</td>\n",
       "      <td>0.119669</td>\n",
       "      <td>-0.003169</td>\n",
       "      <td>E1</td>\n",
       "    </tr>\n",
       "  </tbody>\n",
       "</table>\n",
       "</div>"
      ],
      "text/plain": [
       "    samp_day media condition plate content measurement_type wavelength  t(h)  \\\n",
       "0 2018-12-05   tap         b     1     204       absorbance     600_nm     1   \n",
       "1 2018-12-05   tap         b     1    161B       absorbance     600_nm     1   \n",
       "2 2018-12-05   tap         b     1    202B       absorbance     600_nm     1   \n",
       "3 2018-12-05   tap         b     1   BLANK       absorbance     600_nm     1   \n",
       "4 2018-12-05   tap         b     1    129A       absorbance     600_nm     1   \n",
       "\n",
       "   measure  blank_measure_mean  corrected_measure well  \n",
       "0   0.1177            0.119669          -0.001969   A1  \n",
       "1   0.1104            0.119669          -0.009269   B1  \n",
       "2   0.1114            0.119669          -0.008269   C1  \n",
       "3   0.1129            0.119669          -0.006769   D1  \n",
       "4   0.1165            0.119669          -0.003169   E1  "
      ]
     },
     "execution_count": 10,
     "metadata": {},
     "output_type": "execute_result"
    }
   ],
   "source": [
    "dfscr.head()"
   ]
  },
  {
   "cell_type": "markdown",
   "metadata": {},
   "source": [
    "# CONDITION: B+C \n",
    "    \n",
    "    Bacteria + Chlamy"
   ]
  },
  {
   "cell_type": "markdown",
   "metadata": {},
   "source": [
    "### A600 Partion"
   ]
  },
  {
   "cell_type": "code",
   "execution_count": 11,
   "metadata": {},
   "outputs": [
    {
     "data": {
      "text/plain": [
       "(13824, 12)"
      ]
     },
     "execution_count": 11,
     "metadata": {},
     "output_type": "execute_result"
    }
   ],
   "source": [
    "A600 = dfscr[(dfscr['measurement_type']=='absorbance')&\n",
    "             (dfscr['wavelength']=='600_nm')]\n",
    "A600.shape"
   ]
  },
  {
   "cell_type": "code",
   "execution_count": 12,
   "metadata": {},
   "outputs": [
    {
     "data": {
      "text/plain": [
       "array(['2018-12-05T00:00:00.000000000', '2018-12-06T00:00:00.000000000',\n",
       "       '2018-12-07T00:00:00.000000000', '2018-12-08T00:00:00.000000000',\n",
       "       '2018-12-09T00:00:00.000000000', '2018-12-10T00:00:00.000000000'],\n",
       "      dtype='datetime64[ns]')"
      ]
     },
     "execution_count": 12,
     "metadata": {},
     "output_type": "execute_result"
    }
   ],
   "source": [
    "A600['samp_day'].unique() # note that its collected for only six days"
   ]
  },
  {
   "cell_type": "code",
   "execution_count": 13,
   "metadata": {},
   "outputs": [],
   "source": [
    "# media-partioned A600 data: condition = 'bc'\n",
    "df_tap = A600[(A600['media']=='tap')&(A600['condition'] == 'bc')]\n",
    "df_tapn = A600[(A600['media']=='tapn')&(A600['condition'] == 'bc')]\n",
    "df_tp = A600[(A600['media']=='tp')&(A600['condition'] == 'bc')]\n",
    "df_tpn = A600[(A600['media']=='tpn')&(A600['condition'] == 'bc')]"
   ]
  },
  {
   "cell_type": "code",
   "execution_count": 14,
   "metadata": {},
   "outputs": [],
   "source": [
    "# there are 6 DFs in the lists below, each houses 3 different sets of strains ('plates')\n",
    "daily_tap_reps_dfs_600 = []\n",
    "daily_tapn_reps_dfs_600 = []\n",
    "daily_tp_reps_dfs_600 = []\n",
    "daily_tpn_reps_dfs_600 = []\n",
    "for day in A600['samp_day'].unique():\n",
    "    \n",
    "    keep_cols = ['t(h)', 'well', 'plate', 'content', 'measure', 'corrected_measure']\n",
    "    tap = df_tap[(df_tap['samp_day']==day)][keep_cols].reset_index(drop=True)\n",
    "    tapn = df_tapn[(df_tapn['samp_day']==day)][keep_cols].reset_index(drop=True)\n",
    "    tp = df_tp[(df_tp['samp_day']==day)][keep_cols].reset_index(drop=True)\n",
    "    tpn = df_tpn[(df_tpn['samp_day']==day)][keep_cols].reset_index(drop=True)\n",
    "    \n",
    "    \n",
    "    # ensure that the daily replicates have a mean 't(h)' column\n",
    "    for df in  [tap, tapn, tp, tpn]:\n",
    "        df['t(h)'] = int(df['t(h)'].mean())\n",
    "    \n",
    "    \n",
    "    tap = tap.rename({'measure':'A600', 'corrected_measure':'A600c'}, axis=1)\n",
    "    tapn = tapn.rename({'measure':'A600', 'corrected_measure':'A600c'}, axis=1)\n",
    "    tp = tp.rename({'measure':'A600', 'corrected_measure':'A600c'}, axis=1)\n",
    "    tpn = tpn.rename({'measure':'A600', 'corrected_measure':'A600c'}, axis=1)\n",
    "\n",
    "    daily_tap_reps_dfs_600.append(tap)\n",
    "    daily_tapn_reps_dfs_600.append(tapn)\n",
    "    daily_tp_reps_dfs_600.append(tp)\n",
    "    daily_tpn_reps_dfs_600.append(tpn)"
   ]
  },
  {
   "cell_type": "code",
   "execution_count": 15,
   "metadata": {},
   "outputs": [
    {
     "data": {
      "text/plain": [
       "6"
      ]
     },
     "execution_count": 15,
     "metadata": {},
     "output_type": "execute_result"
    },
    {
     "data": {
      "text/html": [
       "<div>\n",
       "<style scoped>\n",
       "    .dataframe tbody tr th:only-of-type {\n",
       "        vertical-align: middle;\n",
       "    }\n",
       "\n",
       "    .dataframe tbody tr th {\n",
       "        vertical-align: top;\n",
       "    }\n",
       "\n",
       "    .dataframe thead th {\n",
       "        text-align: right;\n",
       "    }\n",
       "</style>\n",
       "<table border=\"1\" class=\"dataframe\">\n",
       "  <thead>\n",
       "    <tr style=\"text-align: right;\">\n",
       "      <th></th>\n",
       "      <th>t(h)</th>\n",
       "      <th>well</th>\n",
       "      <th>plate</th>\n",
       "      <th>content</th>\n",
       "      <th>A600</th>\n",
       "      <th>A600c</th>\n",
       "    </tr>\n",
       "  </thead>\n",
       "  <tbody>\n",
       "    <tr>\n",
       "      <th>0</th>\n",
       "      <td>0</td>\n",
       "      <td>A1</td>\n",
       "      <td>1</td>\n",
       "      <td>204</td>\n",
       "      <td>0.1306</td>\n",
       "      <td>0.010931</td>\n",
       "    </tr>\n",
       "    <tr>\n",
       "      <th>1</th>\n",
       "      <td>0</td>\n",
       "      <td>B1</td>\n",
       "      <td>1</td>\n",
       "      <td>161B</td>\n",
       "      <td>0.1297</td>\n",
       "      <td>0.010031</td>\n",
       "    </tr>\n",
       "    <tr>\n",
       "      <th>2</th>\n",
       "      <td>0</td>\n",
       "      <td>C1</td>\n",
       "      <td>1</td>\n",
       "      <td>202B</td>\n",
       "      <td>0.1266</td>\n",
       "      <td>0.006931</td>\n",
       "    </tr>\n",
       "    <tr>\n",
       "      <th>3</th>\n",
       "      <td>0</td>\n",
       "      <td>D1</td>\n",
       "      <td>1</td>\n",
       "      <td>Chlamy</td>\n",
       "      <td>0.1289</td>\n",
       "      <td>0.009231</td>\n",
       "    </tr>\n",
       "    <tr>\n",
       "      <th>4</th>\n",
       "      <td>0</td>\n",
       "      <td>E1</td>\n",
       "      <td>1</td>\n",
       "      <td>129A</td>\n",
       "      <td>0.1241</td>\n",
       "      <td>0.004431</td>\n",
       "    </tr>\n",
       "  </tbody>\n",
       "</table>\n",
       "</div>"
      ],
      "text/plain": [
       "   t(h) well plate content    A600     A600c\n",
       "0     0   A1     1     204  0.1306  0.010931\n",
       "1     0   B1     1    161B  0.1297  0.010031\n",
       "2     0   C1     1    202B  0.1266  0.006931\n",
       "3     0   D1     1  Chlamy  0.1289  0.009231\n",
       "4     0   E1     1    129A  0.1241  0.004431"
      ]
     },
     "execution_count": 15,
     "metadata": {},
     "output_type": "execute_result"
    }
   ],
   "source": [
    "len(daily_tapn_reps_dfs_600)\n",
    "for df in daily_tap_reps_dfs_600:\n",
    "    df.head()\n",
    "    break"
   ]
  },
  {
   "cell_type": "markdown",
   "metadata": {},
   "source": [
    "## A750 Partition"
   ]
  },
  {
   "cell_type": "code",
   "execution_count": 16,
   "metadata": {},
   "outputs": [
    {
     "data": {
      "text/plain": [
       "(23040, 12)"
      ]
     },
     "execution_count": 16,
     "metadata": {},
     "output_type": "execute_result"
    }
   ],
   "source": [
    "A750 = dfscr[(dfscr['measurement_type']=='absorbance')&\n",
    "             (dfscr['wavelength']=='750_nm')]\n",
    "A750.shape"
   ]
  },
  {
   "cell_type": "code",
   "execution_count": 17,
   "metadata": {},
   "outputs": [
    {
     "data": {
      "text/plain": [
       "array(['2018-12-05T00:00:00.000000000', '2018-12-06T00:00:00.000000000',\n",
       "       '2018-12-07T00:00:00.000000000', '2018-12-08T00:00:00.000000000',\n",
       "       '2018-12-09T00:00:00.000000000', '2018-12-10T00:00:00.000000000',\n",
       "       '2018-12-11T00:00:00.000000000', '2018-12-12T00:00:00.000000000',\n",
       "       '2018-12-13T00:00:00.000000000', '2018-12-14T00:00:00.000000000'],\n",
       "      dtype='datetime64[ns]')"
      ]
     },
     "execution_count": 17,
     "metadata": {},
     "output_type": "execute_result"
    }
   ],
   "source": [
    "# days when this dataset was collected --- Note, that unlike A600, the A750 data\n",
    "# were collected over the 10 days the experiment was conducted. I believe it was\n",
    "# determined at some point that that the A600 signal was too noisy\n",
    "A750[(A750['media']=='tap')&(A750['condition'] == 'bc')]['samp_day'].unique()"
   ]
  },
  {
   "cell_type": "code",
   "execution_count": 18,
   "metadata": {},
   "outputs": [],
   "source": [
    "# media-partioned absorbance dfs: condition 'bc'\n",
    "df_tap = A750[(A750['media']=='tap')&(A750['condition'] == 'bc')]\n",
    "df_tapn = A750[(A750['media']=='tapn')&(A750['condition'] == 'bc')]\n",
    "df_tp = A750[(A750['media']=='tp')&(A750['condition'] == 'bc')]\n",
    "df_tpn = A750[(A750['media']=='tpn')&(A750['condition'] == 'bc')]"
   ]
  },
  {
   "cell_type": "code",
   "execution_count": 19,
   "metadata": {},
   "outputs": [],
   "source": [
    "# there are 12 DFs in the lists below, each houses 3 different sets of strains ('plates')\n",
    "\n",
    "daily_tap_reps_dfs_750 = []\n",
    "daily_tapn_reps_dfs_750 = []\n",
    "daily_tp_reps_dfs_750 = []\n",
    "daily_tpn_reps_dfs_750 = []\n",
    "for day in A750['samp_day'].unique():\n",
    "    \n",
    "    keep_cols = ['t(h)', 'well', 'plate', 'content', 'measure', 'corrected_measure']\n",
    "    tap = df_tap[(df_tap['samp_day']==day)][keep_cols].reset_index(drop=True)\n",
    "    tapn = df_tapn[(df_tapn['samp_day']==day)][keep_cols].reset_index(drop=True)\n",
    "    tp = df_tp[(df_tp['samp_day']==day)][keep_cols].reset_index(drop=True)\n",
    "    tpn = df_tpn[(df_tpn['samp_day']==day)][keep_cols].reset_index(drop=True)\n",
    "\n",
    "    # ensure that the daily replicates have a mean 't(h)' column\n",
    "    for df in  [tap, tapn, tp, tpn]:\n",
    "        df['t(h)'] = int(df['t(h)'].mean())\n",
    "        \n",
    "    tap = tap.rename({'measure':'A750','corrected_measure':'A750c'}, axis=1)\n",
    "    tapn = tapn.rename({'measure':'A750','corrected_measure':'A750c'}, axis=1)\n",
    "    tp = tp.rename({'measure':'A750','corrected_measure':'A750c'}, axis=1)\n",
    "    tpn = tpn.rename({'measure':'A750','corrected_measure':'A750c'}, axis=1)\n",
    "    \n",
    "    daily_tap_reps_dfs_750.append(tap)\n",
    "    daily_tapn_reps_dfs_750.append(tapn)\n",
    "    daily_tp_reps_dfs_750.append(tp)\n",
    "    daily_tpn_reps_dfs_750.append(tpn)"
   ]
  },
  {
   "cell_type": "code",
   "execution_count": 20,
   "metadata": {},
   "outputs": [
    {
     "data": {
      "text/plain": [
       "10"
      ]
     },
     "execution_count": 20,
     "metadata": {},
     "output_type": "execute_result"
    },
    {
     "data": {
      "text/html": [
       "<div>\n",
       "<style scoped>\n",
       "    .dataframe tbody tr th:only-of-type {\n",
       "        vertical-align: middle;\n",
       "    }\n",
       "\n",
       "    .dataframe tbody tr th {\n",
       "        vertical-align: top;\n",
       "    }\n",
       "\n",
       "    .dataframe thead th {\n",
       "        text-align: right;\n",
       "    }\n",
       "</style>\n",
       "<table border=\"1\" class=\"dataframe\">\n",
       "  <thead>\n",
       "    <tr style=\"text-align: right;\">\n",
       "      <th></th>\n",
       "      <th>t(h)</th>\n",
       "      <th>well</th>\n",
       "      <th>plate</th>\n",
       "      <th>content</th>\n",
       "      <th>A750</th>\n",
       "      <th>A750c</th>\n",
       "    </tr>\n",
       "  </thead>\n",
       "  <tbody>\n",
       "    <tr>\n",
       "      <th>0</th>\n",
       "      <td>0</td>\n",
       "      <td>A1</td>\n",
       "      <td>1</td>\n",
       "      <td>204</td>\n",
       "      <td>0.1275</td>\n",
       "      <td>0.010165</td>\n",
       "    </tr>\n",
       "    <tr>\n",
       "      <th>1</th>\n",
       "      <td>0</td>\n",
       "      <td>B1</td>\n",
       "      <td>1</td>\n",
       "      <td>161B</td>\n",
       "      <td>0.1264</td>\n",
       "      <td>0.009065</td>\n",
       "    </tr>\n",
       "    <tr>\n",
       "      <th>2</th>\n",
       "      <td>0</td>\n",
       "      <td>C1</td>\n",
       "      <td>1</td>\n",
       "      <td>202B</td>\n",
       "      <td>0.1223</td>\n",
       "      <td>0.004965</td>\n",
       "    </tr>\n",
       "    <tr>\n",
       "      <th>3</th>\n",
       "      <td>0</td>\n",
       "      <td>D1</td>\n",
       "      <td>1</td>\n",
       "      <td>Chlamy</td>\n",
       "      <td>0.1255</td>\n",
       "      <td>0.008165</td>\n",
       "    </tr>\n",
       "    <tr>\n",
       "      <th>4</th>\n",
       "      <td>0</td>\n",
       "      <td>E1</td>\n",
       "      <td>1</td>\n",
       "      <td>129A</td>\n",
       "      <td>0.1215</td>\n",
       "      <td>0.004165</td>\n",
       "    </tr>\n",
       "  </tbody>\n",
       "</table>\n",
       "</div>"
      ],
      "text/plain": [
       "   t(h) well plate content    A750     A750c\n",
       "0     0   A1     1     204  0.1275  0.010165\n",
       "1     0   B1     1    161B  0.1264  0.009065\n",
       "2     0   C1     1    202B  0.1223  0.004965\n",
       "3     0   D1     1  Chlamy  0.1255  0.008165\n",
       "4     0   E1     1    129A  0.1215  0.004165"
      ]
     },
     "execution_count": 20,
     "metadata": {},
     "output_type": "execute_result"
    }
   ],
   "source": [
    "len(daily_tapn_reps_dfs_750)\n",
    "for df in daily_tap_reps_dfs_750:\n",
    "    df.head()\n",
    "    break"
   ]
  },
  {
   "cell_type": "markdown",
   "metadata": {},
   "source": [
    "# Concatenate B+C 6-day DFs "
   ]
  },
  {
   "cell_type": "code",
   "execution_count": 21,
   "metadata": {},
   "outputs": [],
   "source": [
    "# zip ensure that only lists of mathching size get put together, thus even though A750 DFs\n",
    "# have 10 days worth of data they are limited by the length of A600 data, this matters\n",
    "# because it makes no sense to apply the models to non-existing A600 data\n",
    "\n",
    "\n",
    "############\n",
    "### TAP ###\n",
    "############\n",
    "tap_final_daily_BC = []\n",
    "for a6,a7 in zip(daily_tap_reps_dfs_600, daily_tap_reps_dfs_750):\n",
    "\n",
    "    a6 = a6.set_index(keys=['t(h)', 'well','plate', 'content'])#, drop=True)\n",
    "    a7 = a7.set_index(keys=['t(h)', 'well','plate', 'content'])#, drop=True)\n",
    "    \n",
    "    df = pd.concat([a6, a7], join='outer', axis=1).reset_index()\n",
    "    \n",
    "    tap_final_daily_BC.append(df)\n",
    "    \n",
    "tap_bc_df = pd.concat(tap_final_daily_BC)\n",
    "\n",
    "############\n",
    "### TAPN ###\n",
    "############\n",
    "tapn_final_daily_BC = []\n",
    "for a6,a7 in zip(daily_tapn_reps_dfs_600, daily_tapn_reps_dfs_750):\n",
    "\n",
    "    a6 = a6.set_index(keys=['t(h)', 'well','plate', 'content'])#, drop=True)\n",
    "    a7 = a7.set_index(keys=['t(h)', 'well','plate', 'content'])#, drop=True)\n",
    "    \n",
    "    df = pd.concat([a6, a7], join='outer', axis=1).reset_index()\n",
    "    \n",
    "    tapn_final_daily_BC.append(df)\n",
    "\n",
    "tapn_bc_df = pd.concat(tapn_final_daily_BC)\n",
    "\n",
    "\n",
    "############\n",
    "### TP ###\n",
    "############\n",
    "tp_final_daily_BC = []\n",
    "for a6,a7 in zip(daily_tp_reps_dfs_600, daily_tp_reps_dfs_750):\n",
    "\n",
    "    a6 = a6.set_index(keys=['t(h)', 'well','plate', 'content'])#, drop=True)\n",
    "    a7 = a7.set_index(keys=['t(h)', 'well','plate', 'content'])#, drop=True)\n",
    "    \n",
    "    df = pd.concat([a6, a7], join='outer', axis=1).reset_index()\n",
    "    \n",
    "    tp_final_daily_BC.append(df)\n",
    "\n",
    "tp_bc_df = pd.concat(tp_final_daily_BC)\n",
    "\n",
    "\n",
    "############\n",
    "### TPN ###\n",
    "############\n",
    "tpn_final_daily_BC = []\n",
    "for a6,a7 in zip(daily_tpn_reps_dfs_600, daily_tpn_reps_dfs_750):\n",
    "\n",
    "    a6 = a6.set_index(keys=['t(h)', 'well','plate', 'content'])#, drop=True)\n",
    "    a7 = a7.set_index(keys=['t(h)', 'well','plate', 'content'])#, drop=True)\n",
    "    \n",
    "    df = pd.concat([a6, a7], join='outer', axis=1).reset_index()\n",
    "    \n",
    "    tpn_final_daily_BC.append(df)\n",
    "\n",
    "    \n",
    "tpn_bc_df = pd.concat(tpn_final_daily_BC)\n"
   ]
  },
  {
   "cell_type": "code",
   "execution_count": 22,
   "metadata": {},
   "outputs": [],
   "source": [
    "tap_bc_df['media'] = 'tap'\n",
    "tapn_bc_df['media'] = 'tapn'\n",
    "tp_bc_df['media'] = 'tp'\n",
    "tpn_bc_df['media'] = 'tpn'"
   ]
  },
  {
   "cell_type": "code",
   "execution_count": 23,
   "metadata": {},
   "outputs": [],
   "source": [
    "bc_dfs = [tap_bc_df, tapn_bc_df, tp_bc_df, tpn_bc_df]\n",
    "\n",
    "bcdfs = pd.concat(bc_dfs).reset_index(drop=True)\n",
    "\n",
    "bcdfs = bcdfs[['media', 'plate', 'well', 't(h)', 'content', 'A600', 'A600c', 'A750', 'A750c']]"
   ]
  },
  {
   "cell_type": "code",
   "execution_count": 24,
   "metadata": {},
   "outputs": [],
   "source": [
    "path = '../data_o/screens/screens_preprocessed_data'\n",
    "\n",
    "\n",
    "# bcdfs.to_csv(pjoin(path, 'sc1_condition_bc.csv'))"
   ]
  },
  {
   "cell_type": "markdown",
   "metadata": {},
   "source": [
    "# CONDITION: B"
   ]
  },
  {
   "cell_type": "markdown",
   "metadata": {},
   "source": [
    "### A600 B"
   ]
  },
  {
   "cell_type": "code",
   "execution_count": 25,
   "metadata": {},
   "outputs": [],
   "source": [
    "# media-partioned A600 data: condition = 'bc'\n",
    "df_tap = A600[(A600['media']=='tap')&(A600['condition'] == 'b')]\n",
    "df_tapn = A600[(A600['media']=='tapn')&(A600['condition'] == 'b')]\n",
    "df_tp = A600[(A600['media']=='tp')&(A600['condition'] == 'b')]\n",
    "df_tpn = A600[(A600['media']=='tpn')&(A600['condition'] == 'b')]"
   ]
  },
  {
   "cell_type": "code",
   "execution_count": 26,
   "metadata": {},
   "outputs": [],
   "source": [
    "# there are 6 DFs in the lists below, each houses 3 different sets of strains ('plates')\n",
    "daily_tap_reps_dfs_600 = []\n",
    "daily_tapn_reps_dfs_600 = []\n",
    "daily_tp_reps_dfs_600 = []\n",
    "daily_tpn_reps_dfs_600 = []\n",
    "for day in A600['samp_day'].unique():\n",
    "    \n",
    "    \n",
    "    keep_cols = ['t(h)', 'well', 'plate', 'content', 'measure', 'corrected_measure']\n",
    "    tap = df_tap[(df_tap['samp_day']==day)][keep_cols].reset_index(drop=True)\n",
    "    tapn = df_tapn[(df_tapn['samp_day']==day)][keep_cols].reset_index(drop=True)\n",
    "    tp = df_tp[(df_tp['samp_day']==day)][keep_cols].reset_index(drop=True)\n",
    "    tpn = df_tpn[(df_tpn['samp_day']==day)][keep_cols].reset_index(drop=True)\n",
    "    \n",
    "    \n",
    "    # ensure that the daily replicates have a mean 't(h)' column\n",
    "    for df in  [tap, tapn, tp, tpn]:\n",
    "        df['t(h)'] = int(df['t(h)'].mean())\n",
    "    \n",
    "    \n",
    "    tap = tap.rename({'measure':'A600', 'corrected_measure':'A600c'}, axis=1)\n",
    "    tapn = tapn.rename({'measure':'A600', 'corrected_measure':'A600c'}, axis=1)\n",
    "    tp = tp.rename({'measure':'A600', 'corrected_measure':'A600c'}, axis=1)\n",
    "    tpn = tpn.rename({'measure':'A600', 'corrected_measure':'A600c'}, axis=1)\n",
    "\n",
    "    daily_tap_reps_dfs_600.append(tap)\n",
    "    daily_tapn_reps_dfs_600.append(tapn)\n",
    "    daily_tp_reps_dfs_600.append(tp)\n",
    "    daily_tpn_reps_dfs_600.append(tpn)"
   ]
  },
  {
   "cell_type": "code",
   "execution_count": 27,
   "metadata": {},
   "outputs": [
    {
     "data": {
      "text/plain": [
       "6"
      ]
     },
     "execution_count": 27,
     "metadata": {},
     "output_type": "execute_result"
    },
    {
     "data": {
      "text/html": [
       "<div>\n",
       "<style scoped>\n",
       "    .dataframe tbody tr th:only-of-type {\n",
       "        vertical-align: middle;\n",
       "    }\n",
       "\n",
       "    .dataframe tbody tr th {\n",
       "        vertical-align: top;\n",
       "    }\n",
       "\n",
       "    .dataframe thead th {\n",
       "        text-align: right;\n",
       "    }\n",
       "</style>\n",
       "<table border=\"1\" class=\"dataframe\">\n",
       "  <thead>\n",
       "    <tr style=\"text-align: right;\">\n",
       "      <th></th>\n",
       "      <th>t(h)</th>\n",
       "      <th>well</th>\n",
       "      <th>plate</th>\n",
       "      <th>content</th>\n",
       "      <th>A600</th>\n",
       "      <th>A600c</th>\n",
       "    </tr>\n",
       "  </thead>\n",
       "  <tbody>\n",
       "    <tr>\n",
       "      <th>0</th>\n",
       "      <td>0</td>\n",
       "      <td>A1</td>\n",
       "      <td>1</td>\n",
       "      <td>204</td>\n",
       "      <td>0.1177</td>\n",
       "      <td>-0.001969</td>\n",
       "    </tr>\n",
       "    <tr>\n",
       "      <th>1</th>\n",
       "      <td>0</td>\n",
       "      <td>B1</td>\n",
       "      <td>1</td>\n",
       "      <td>161B</td>\n",
       "      <td>0.1104</td>\n",
       "      <td>-0.009269</td>\n",
       "    </tr>\n",
       "    <tr>\n",
       "      <th>2</th>\n",
       "      <td>0</td>\n",
       "      <td>C1</td>\n",
       "      <td>1</td>\n",
       "      <td>202B</td>\n",
       "      <td>0.1114</td>\n",
       "      <td>-0.008269</td>\n",
       "    </tr>\n",
       "    <tr>\n",
       "      <th>3</th>\n",
       "      <td>0</td>\n",
       "      <td>D1</td>\n",
       "      <td>1</td>\n",
       "      <td>BLANK</td>\n",
       "      <td>0.1129</td>\n",
       "      <td>-0.006769</td>\n",
       "    </tr>\n",
       "    <tr>\n",
       "      <th>4</th>\n",
       "      <td>0</td>\n",
       "      <td>E1</td>\n",
       "      <td>1</td>\n",
       "      <td>129A</td>\n",
       "      <td>0.1165</td>\n",
       "      <td>-0.003169</td>\n",
       "    </tr>\n",
       "  </tbody>\n",
       "</table>\n",
       "</div>"
      ],
      "text/plain": [
       "   t(h) well plate content    A600     A600c\n",
       "0     0   A1     1     204  0.1177 -0.001969\n",
       "1     0   B1     1    161B  0.1104 -0.009269\n",
       "2     0   C1     1    202B  0.1114 -0.008269\n",
       "3     0   D1     1   BLANK  0.1129 -0.006769\n",
       "4     0   E1     1    129A  0.1165 -0.003169"
      ]
     },
     "execution_count": 27,
     "metadata": {},
     "output_type": "execute_result"
    }
   ],
   "source": [
    "len(daily_tapn_reps_dfs_600)\n",
    "for df in daily_tap_reps_dfs_600:\n",
    "    df.head()\n",
    "    break"
   ]
  },
  {
   "cell_type": "code",
   "execution_count": null,
   "metadata": {},
   "outputs": [],
   "source": []
  },
  {
   "cell_type": "markdown",
   "metadata": {},
   "source": [
    "### A750 B"
   ]
  },
  {
   "cell_type": "code",
   "execution_count": 28,
   "metadata": {},
   "outputs": [],
   "source": [
    "# media-partioned absorbance dfs: condition 'bc'\n",
    "df_tap = A750[(A750['media']=='tap')&(A750['condition'] == 'b')]\n",
    "df_tapn = A750[(A750['media']=='tapn')&(A750['condition'] == 'b')]\n",
    "df_tp = A750[(A750['media']=='tp')&(A750['condition'] == 'b')]\n",
    "df_tpn = A750[(A750['media']=='tpn')&(A750['condition'] == 'b')]"
   ]
  },
  {
   "cell_type": "code",
   "execution_count": 29,
   "metadata": {},
   "outputs": [],
   "source": [
    "# there are 12 DFs in the lists below, each houses 3 different sets of strains ('plates')\n",
    "\n",
    "daily_tap_reps_dfs_750 = []\n",
    "daily_tapn_reps_dfs_750 = []\n",
    "daily_tp_reps_dfs_750 = []\n",
    "daily_tpn_reps_dfs_750 = []\n",
    "for day in A750['samp_day'].unique():\n",
    "    \n",
    "    keep_cols = ['t(h)', 'well', 'plate', 'content', 'measure', 'corrected_measure']\n",
    "    tap = df_tap[(df_tap['samp_day']==day)][keep_cols].reset_index(drop=True)\n",
    "    tapn = df_tapn[(df_tapn['samp_day']==day)][keep_cols].reset_index(drop=True)\n",
    "    tp = df_tp[(df_tp['samp_day']==day)][keep_cols].reset_index(drop=True)\n",
    "    tpn = df_tpn[(df_tpn['samp_day']==day)][keep_cols].reset_index(drop=True)\n",
    "\n",
    "    # ensure that the daily replicates have a mean 't(h)' column\n",
    "    for df in  [tap, tapn, tp, tpn]:\n",
    "        df['t(h)'] = int(df['t(h)'].mean())\n",
    "        \n",
    "    tap = tap.rename({'measure':'A750','corrected_measure':'A750c'}, axis=1)\n",
    "    tapn = tapn.rename({'measure':'A750','corrected_measure':'A750c'}, axis=1)\n",
    "    tp = tp.rename({'measure':'A750','corrected_measure':'A750c'}, axis=1)\n",
    "    tpn = tpn.rename({'measure':'A750','corrected_measure':'A750c'}, axis=1)\n",
    "    \n",
    "    daily_tap_reps_dfs_750.append(tap)\n",
    "    daily_tapn_reps_dfs_750.append(tapn)\n",
    "    daily_tp_reps_dfs_750.append(tp)\n",
    "    daily_tpn_reps_dfs_750.append(tpn)"
   ]
  },
  {
   "cell_type": "code",
   "execution_count": 30,
   "metadata": {},
   "outputs": [
    {
     "data": {
      "text/plain": [
       "10"
      ]
     },
     "execution_count": 30,
     "metadata": {},
     "output_type": "execute_result"
    },
    {
     "data": {
      "text/html": [
       "<div>\n",
       "<style scoped>\n",
       "    .dataframe tbody tr th:only-of-type {\n",
       "        vertical-align: middle;\n",
       "    }\n",
       "\n",
       "    .dataframe tbody tr th {\n",
       "        vertical-align: top;\n",
       "    }\n",
       "\n",
       "    .dataframe thead th {\n",
       "        text-align: right;\n",
       "    }\n",
       "</style>\n",
       "<table border=\"1\" class=\"dataframe\">\n",
       "  <thead>\n",
       "    <tr style=\"text-align: right;\">\n",
       "      <th></th>\n",
       "      <th>t(h)</th>\n",
       "      <th>well</th>\n",
       "      <th>plate</th>\n",
       "      <th>content</th>\n",
       "      <th>A750</th>\n",
       "      <th>A750c</th>\n",
       "    </tr>\n",
       "  </thead>\n",
       "  <tbody>\n",
       "    <tr>\n",
       "      <th>0</th>\n",
       "      <td>0</td>\n",
       "      <td>A1</td>\n",
       "      <td>1</td>\n",
       "      <td>204</td>\n",
       "      <td>0.1162</td>\n",
       "      <td>-0.001135</td>\n",
       "    </tr>\n",
       "    <tr>\n",
       "      <th>1</th>\n",
       "      <td>0</td>\n",
       "      <td>B1</td>\n",
       "      <td>1</td>\n",
       "      <td>161B</td>\n",
       "      <td>0.1105</td>\n",
       "      <td>-0.006835</td>\n",
       "    </tr>\n",
       "    <tr>\n",
       "      <th>2</th>\n",
       "      <td>0</td>\n",
       "      <td>C1</td>\n",
       "      <td>1</td>\n",
       "      <td>202B</td>\n",
       "      <td>0.1106</td>\n",
       "      <td>-0.006735</td>\n",
       "    </tr>\n",
       "    <tr>\n",
       "      <th>3</th>\n",
       "      <td>0</td>\n",
       "      <td>D1</td>\n",
       "      <td>1</td>\n",
       "      <td>BLANK</td>\n",
       "      <td>0.1114</td>\n",
       "      <td>-0.005935</td>\n",
       "    </tr>\n",
       "    <tr>\n",
       "      <th>4</th>\n",
       "      <td>0</td>\n",
       "      <td>E1</td>\n",
       "      <td>1</td>\n",
       "      <td>129A</td>\n",
       "      <td>0.1139</td>\n",
       "      <td>-0.003435</td>\n",
       "    </tr>\n",
       "  </tbody>\n",
       "</table>\n",
       "</div>"
      ],
      "text/plain": [
       "   t(h) well plate content    A750     A750c\n",
       "0     0   A1     1     204  0.1162 -0.001135\n",
       "1     0   B1     1    161B  0.1105 -0.006835\n",
       "2     0   C1     1    202B  0.1106 -0.006735\n",
       "3     0   D1     1   BLANK  0.1114 -0.005935\n",
       "4     0   E1     1    129A  0.1139 -0.003435"
      ]
     },
     "execution_count": 30,
     "metadata": {},
     "output_type": "execute_result"
    }
   ],
   "source": [
    "len(daily_tapn_reps_dfs_750)\n",
    "for df in daily_tap_reps_dfs_750:\n",
    "    df.head()\n",
    "    break"
   ]
  },
  {
   "cell_type": "markdown",
   "metadata": {},
   "source": [
    "# Concatenate 'B' 6-day DFs "
   ]
  },
  {
   "cell_type": "code",
   "execution_count": 31,
   "metadata": {},
   "outputs": [],
   "source": [
    "# zip ensure that only lists of mathching size get put together, thus even though A750 DFs\n",
    "# have 10 days worth of data they are limited by the length of A600 data, this matters\n",
    "# because it makes no sense to apply the models to non-existing A600 data\n",
    "\n",
    "\n",
    "############\n",
    "### TAP ###\n",
    "############\n",
    "tap_final_daily_B = []\n",
    "for a6,a7 in zip(daily_tap_reps_dfs_600, daily_tap_reps_dfs_750):\n",
    "\n",
    "    a6 = a6.set_index(keys=['t(h)', 'well','plate', 'content'])#, drop=True)\n",
    "    a7 = a7.set_index(keys=['t(h)', 'well','plate', 'content'])#, drop=True)\n",
    "    \n",
    "    df = pd.concat([a6, a7], join='outer', axis=1).reset_index()\n",
    "    \n",
    "    tap_final_daily_B.append(df)\n",
    "    \n",
    "tap_b_df = pd.concat(tap_final_daily_B)\n",
    "\n",
    "############\n",
    "### TAPN ###\n",
    "############\n",
    "tapn_final_daily_B = []\n",
    "for a6,a7 in zip(daily_tapn_reps_dfs_600, daily_tapn_reps_dfs_750):\n",
    "\n",
    "    a6 = a6.set_index(keys=['t(h)', 'well','plate', 'content'])#, drop=True)\n",
    "    a7 = a7.set_index(keys=['t(h)', 'well','plate', 'content'])#, drop=True)\n",
    "    \n",
    "    df = pd.concat([a6, a7], join='outer', axis=1).reset_index()\n",
    "    \n",
    "    tapn_final_daily_B.append(df)\n",
    "\n",
    "tapn_b_df = pd.concat(tapn_final_daily_B)\n",
    "\n",
    "\n",
    "############\n",
    "### TP ###\n",
    "############\n",
    "tp_final_daily_B = []\n",
    "for a6,a7 in zip(daily_tp_reps_dfs_600, daily_tp_reps_dfs_750):\n",
    "\n",
    "    a6 = a6.set_index(keys=['t(h)', 'well','plate', 'content'])#, drop=True)\n",
    "    a7 = a7.set_index(keys=['t(h)', 'well','plate', 'content'])#, drop=True)\n",
    "    \n",
    "    df = pd.concat([a6, a7], join='outer', axis=1).reset_index()\n",
    "    \n",
    "    tp_final_daily_B.append(df)\n",
    "\n",
    "tp_b_df = pd.concat(tp_final_daily_B)\n",
    "\n",
    "\n",
    "############\n",
    "### TPN ###\n",
    "############\n",
    "tpn_final_daily_B = []\n",
    "for a6,a7 in zip(daily_tpn_reps_dfs_600, daily_tpn_reps_dfs_750):\n",
    "\n",
    "    a6 = a6.set_index(keys=['t(h)', 'well','plate', 'content'])#, drop=True)\n",
    "    a7 = a7.set_index(keys=['t(h)', 'well','plate', 'content'])#, drop=True)\n",
    "    \n",
    "    df = pd.concat([a6, a7], join='outer', axis=1).reset_index()\n",
    "    \n",
    "    tpn_final_daily_B.append(df)\n",
    "\n",
    "    \n",
    "tpn_b_df = pd.concat(tpn_final_daily_B)"
   ]
  },
  {
   "cell_type": "code",
   "execution_count": 32,
   "metadata": {},
   "outputs": [],
   "source": [
    "tap_b_df['media'] = 'tap'\n",
    "tapn_b_df['media'] = 'tapn'\n",
    "tp_b_df['media'] = 'tp'\n",
    "tpn_b_df['media'] = 'tpn'\n",
    "\n",
    "b_dfs = [tap_b_df, tapn_b_df, tp_b_df, tpn_b_df]\n",
    "\n",
    "bdfs = pd.concat(b_dfs).reset_index(drop=True)\n",
    "\n",
    "bdfs = bdfs[['media', 'plate', 'well', 't(h)', 'content', 'A600', 'A600c', 'A750', 'A750c']]\n",
    "\n",
    "path = '../data_o/screens/screens_preprocessed_data'\n",
    "bdfs.to_csv(pjoin(path, 'sc1_condition_b.csv'))"
   ]
  },
  {
   "cell_type": "code",
   "execution_count": null,
   "metadata": {},
   "outputs": [],
   "source": []
  }
 ],
 "metadata": {
  "kernelspec": {
   "display_name": "Python 3",
   "language": "python",
   "name": "python3"
  },
  "language_info": {
   "codemirror_mode": {
    "name": "ipython",
    "version": 3
   },
   "file_extension": ".py",
   "mimetype": "text/x-python",
   "name": "python",
   "nbconvert_exporter": "python",
   "pygments_lexer": "ipython3",
   "version": "3.7.3"
  }
 },
 "nbformat": 4,
 "nbformat_minor": 4
}
