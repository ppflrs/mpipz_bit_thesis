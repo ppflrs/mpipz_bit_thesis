{
 "cells": [
  {
   "cell_type": "code",
   "execution_count": 20,
   "metadata": {},
   "outputs": [],
   "source": [
    "import numpy as np\n",
    "import pandas as pd\n",
    "import os\n",
    "import scipy\n",
    "\n",
    "import matplotlib.pyplot as plt\n",
    "%matplotlib inline\n",
    "\n",
    "import matplotlib.gridspec as gridspec\n",
    "\n",
    "import seaborn as sns\n",
    "sns.set(style='whitegrid')\n",
    "\n",
    "import itertools as it\n",
    "\n",
    "from os.path import join as pjoin\n",
    "\n",
    "%config InteractiveShell.ast_node_interactivity='all'\n",
    "%config InlineBackend.figure_format = 'svg'"
   ]
  },
  {
   "cell_type": "markdown",
   "metadata": {},
   "source": [
    "# Community Model DataFrame"
   ]
  },
  {
   "cell_type": "code",
   "execution_count": 21,
   "metadata": {},
   "outputs": [],
   "source": [
    "path = '/home/rdmtinez/Desktop/MScThesis/data_o/calibration/community_calibration/parsed_data/'\n",
    "fname = 'community_calibration_dataframe.csv'\n",
    "\n",
    "mdf = pd.read_csv(pjoin(path,fname), sep=',', index_col='well')\n",
    "\n",
    "######################################\n",
    "# correct values used for regression #\n",
    "######################################\n",
    "for col in [i for i in mdf.columns[4:].values if 'sdv' not in i]:\n",
    "    #subtract 'blank' well values\n",
    "    mdf.loc[:,col] = mdf.loc[:,col] - mdf.loc['H12',col]"
   ]
  },
  {
   "cell_type": "code",
   "execution_count": 22,
   "metadata": {},
   "outputs": [
    {
     "data": {
      "text/plain": [
       "array(['row', 'col', 'B_lbl', 'C_lbl', 'A600', 'A600_sdv', 'A680',\n",
       "       'A680_sdv', 'A720', 'A720_sdv', 'A750', 'A750_sdv', '500', '510',\n",
       "       '520', '530', '540', '550', '560', '570', '580', '590', '600',\n",
       "       '610', '620', '630', '640', '650', '660', '670', '680', '690',\n",
       "       '700', '710', '720', '730', '740', '750'], dtype=object)"
      ]
     },
     "execution_count": 22,
     "metadata": {},
     "output_type": "execute_result"
    }
   ],
   "source": [
    "mdf.columns.values"
   ]
  },
  {
   "cell_type": "markdown",
   "metadata": {},
   "source": [
    "# Helper Functions"
   ]
  },
  {
   "cell_type": "code",
   "execution_count": 23,
   "metadata": {},
   "outputs": [],
   "source": [
    "def absfluo_extractor(typ, abs_lmda, dframe):\n",
    "    \"\"\"This function returns a df which can be merged\n",
    "    with temp df append the measurements\"\"\"\n",
    "    typ = typ\n",
    "    \n",
    "    abs_lmda = abs_lmda\n",
    "    \n",
    "    tdf =  df.loc[(df['type']==typ) & (df['wavelen']==abs_lmda)][['well','measurement']].set_index(keys='well')     \n",
    "    \n",
    "    return tdf.rename({'measurement':typ[0]+abs_lmda[0:3]}, axis=1)\n",
    "\n",
    "\n",
    "def get_row_col_values(df, plate_row_or_col='row', df_col_name='A680'):\n",
    "    \"\"\"This function returns the values of either a row or column of the 96 well\n",
    "    as given in the dataframe. These values are later used to perform a linear \n",
    "    regression using scipy.optimize function ROW refers to the chlamy related \n",
    "    values, and COL to the bacteria related ones\"\"\"\n",
    "    \n",
    "    rows = df['row'].unique()\n",
    "    cols = df['col'].unique()\n",
    "    \n",
    "    values_list = []\n",
    "    if plate_row_or_col=='row':\n",
    "        for row in rows:\n",
    "            values_list.append(df.loc[df['row']==row, df_col_name].to_list())\n",
    "    \n",
    "    else:\n",
    "        for col in cols:\n",
    "            values_list.append(df.loc[df['col']==col, df_col_name].to_list())\n",
    "                               \n",
    "    \n",
    "    return values_list\n",
    "\n",
    "\n",
    "# linear curve\n",
    "def linear_curve(parameters, xdata):\n",
    "    \"\"\"\n",
    "    A680 & A750 show a linear relationship:\n",
    "    y = m*x + b\n",
    "    \n",
    "    m = slope\n",
    "    b = y-intercept\n",
    "    \"\"\"\n",
    "    m = parameters[0]\n",
    "    b = parameters[1]\n",
    "    \n",
    "    return m*xdata + b\n",
    "\n",
    "\n",
    "def linear_curve_residuals(parameters, xdata, ydata, function):\n",
    "    \"\"\"\n",
    "    xdata = [C] || [B]  (Regresso)\n",
    "    \n",
    "    ydata = A680 || A750\n",
    "    \n",
    "    Computes the residuals of y_pred -y_obs, where:\n",
    "        y_pred = line(parameters, xdata)\n",
    "    \"\"\"\n",
    "    \n",
    "    return linear_curve(parameters,xdata) - ydata\n",
    "\n",
    "\n",
    "def root_curve(parameters, xdata):\n",
    "    \"\"\"\n",
    "    F680 shows an obvious root-function relationship:\n",
    "    \n",
    "    y = a√(b*x)\n",
    "    \n",
    "    'a' and 'b' control area under the curve with\n",
    "    'b' doing so much more slowly\n",
    "    \n",
    "    NOTE: \n",
    "        \n",
    "        the following permutations of this model were\n",
    "        also made :\n",
    "            y = √(b*x)\n",
    "            y = a√(x)\n",
    "        \n",
    "        however these mono-parameter models produce large\n",
    "        coefficients thus the best model to use is below:\n",
    "            y = a√(b*x)\n",
    "    \n",
    "    \"\"\"\n",
    "    \n",
    "    a = parameters[0]\n",
    "    b = parameters[1]\n",
    "    \n",
    "    return a*np.sqrt(b*xdata)\n",
    "\n",
    "\n",
    "def root_curve_residuals(parameters, xdata, ydata, function):\n",
    "    \"\"\"\n",
    "    xdata = [chlamy] or [bacter]\n",
    "    \n",
    "    ydata = observed F680\n",
    "    \n",
    "    Computes the residuals of y_pred - y_obs, where\n",
    "    y_pred = root_curve(parameters, xdata)\n",
    "    \n",
    "    \"\"\"\n",
    "    \n",
    "    return root_curve(parameters, xdata) - ydata\n",
    "\n",
    "\n",
    "def scipy_optfit_caller(regressor, regressand, x0=[0,0], abfl='abs'):\n",
    "    \"\"\"This function returns the fitted parameter for every pair of regressor\n",
    "    i.e. Concentration/Labels/Absorbance @! 680||720 wavelengths using the\n",
    "    scipy.optimize least squares function and regressand\n",
    "    i.e. the measured signal at the A680 and A750 wavlengths\n",
    "    \"\"\"\n",
    "    parameters = []\n",
    "    if abfl=='fluo':\n",
    "        funk = root_curve_residuals\n",
    "        funk2= root_curve\n",
    "    else:\n",
    "        funk = linear_curve_residuals\n",
    "        funk2= linear_curve\n",
    "        \n",
    "    for ys in regressand:\n",
    "        optmize_result = scipy.optimize.least_squares(funk, x0,\n",
    "                                                     args = (regressor, ys, funk2))\n",
    "        parameters.append(optmize_result.x)\n",
    "    \n",
    "    return parameters\n",
    "\n",
    "def set_B_and_C(tdf, column):\n",
    "    \"\"\"This helper function sets the concentraiton values B and\n",
    "    C on the dataframe for regressiong purposes and so that the \n",
    "    plotting function can plot the right values on the x-axis\"\"\"\n",
    "    \n",
    "    df = tdf.copy()\n",
    "    \n",
    "    rows = df['row'].unique()\n",
    "    cols =  df['col'].unique()\n",
    "    \n",
    "    for row in rows:\n",
    "        value = df.loc[(df['row']==row) & (df['col']==12), column][0]\n",
    "        df.loc[df['row']==row, 'B'] = value\n",
    "\n",
    "    for col in cols:\n",
    "        value = df.loc[(df['row']=='H') & (df['col']==col), column][0]\n",
    "        df.loc[df['col']==col, 'C'] = value\n",
    "    \n",
    "    return df"
   ]
  },
  {
   "cell_type": "code",
   "execution_count": 24,
   "metadata": {},
   "outputs": [],
   "source": [
    "def plot_col_rows(df, kParams, first_regressand='A680', second_regressand='A750', regressor='560', plate_row_or_col='row'):\n",
    "    \"\"\"This function plots the linear regression made on each of the rows\n",
    "    and columns of the 96well plate data. This is done in order to observe\n",
    "    how the addition of bacteria to chlamy and vice versa affects the \n",
    "    absorbance. However only Col12 and RowH are needed to create the regression\n",
    "    curves/calibration curves that are needed for the analysis and development\n",
    "    of the model that will be fitted to the PBR data\n",
    "    \n",
    "    kParams should be a touple of respective 680/720 parameters\n",
    "    kParamsX[0] are the 680 parameters and,\n",
    "    kParmasX[1] are the 750 paramters\n",
    "    \"\"\"\n",
    "    \n",
    "    # one A4 sized figure is created with, but needs to be variable\n",
    "    # on the amount of rows and columns because there are 8 rows\n",
    "    # and 12 columsn on a 96 well plate\n",
    "    \n",
    "    fr = first_regressand\n",
    "    sr = second_regressand\n",
    "    rg = regressor\n",
    "    \n",
    "    mx = max(df[sr].max(), df['A680'].max())\n",
    "    cx = df['C'].max()\n",
    "    bx = df['B'].max()\n",
    "    \n",
    "    if plate_row_or_col=='row':\n",
    "        R=4\n",
    "        fs = (8,11)\n",
    "        xmax= cx+0.05\n",
    "        \n",
    "        # mock data the line using the kX parameter \n",
    "        xmock = np.linspace(-0.02, cx+0.02, 100)\n",
    "    \n",
    "    if plate_row_or_col=='col':\n",
    "        R=6\n",
    "        fs = (8,16)\n",
    "        xmax= bx+0.05\n",
    "        # mock data the line using the kX parameter \n",
    "        xmock = np.linspace(-0.02, bx+0.02, 100)\n",
    "    \n",
    "        \n",
    "  \n",
    "    plt.figure(figsize=fs)\n",
    "    gs = gridspec.GridSpec(R,2)\n",
    "    axes = []\n",
    "    for r in range(0,R):\n",
    "        for c in [0,1]:\n",
    "            axes.append(plt.subplot(gs[r,c]))\n",
    "\n",
    "            \n",
    "    # concentrations from 'labels'\n",
    "    chlamy_cnt_lst = df['C'].unique()\n",
    "    bacter_cnt_lst = df['B'].unique()\n",
    "\n",
    "\n",
    "    # access axes through generator\n",
    "    axes = (ax for ax in axes)\n",
    "     \n",
    "    ymin=-0.1\n",
    "    ymax= mx+0.05*mx\n",
    "    xmin=-0.04\n",
    "    \n",
    "    if plate_row_or_col=='row':\n",
    "        \n",
    "        rows=df['row'].unique()\n",
    "        \n",
    "        i = 0\n",
    "        rows=df['row'].unique()\n",
    "        for row in rows:\n",
    "\n",
    "            ax=next(axes)\n",
    "            \n",
    "            df.loc[df['row']==row].plot(x='C', y=[fr, sr],\n",
    "                                        style='x', ax=ax)\n",
    "            ax.set_ylim(ymin,ymax)\n",
    "            ax.set_xlim(xmin,xmax)\n",
    "            ax.set_xlabel('['+rg+']')\n",
    "            ax.set_ylabel(fr+' || '+sr)\n",
    "            \n",
    "            ax.legend(loc=2, title='@'+'[b]='+str(bacter_cnt_lst[i].round(4)), prop={'size': 8})\n",
    "            ax.plot(xmock, linear_curve(kParams[0][i], xmock))\n",
    "            ax.plot(xmock, linear_curve(kParams[1][i], xmock))\n",
    "\n",
    "            i+=1\n",
    "        plt.tight_layout()\n",
    "        plt.suptitle('Absorbances @ Constant [B]', y=1.02)\n",
    "    \n",
    "        \n",
    "        \n",
    "    if plate_row_or_col=='col':\n",
    "\n",
    "        cols=df['col'].unique()\n",
    "        i=0\n",
    "        for col in cols:\n",
    "\n",
    "            ax=next(axes)\n",
    "            df.loc[df['col']==col].plot(x='B', y=[fr, sr],\n",
    "                                        style='x', ax=ax)\n",
    "            \n",
    "            ax.set_ylim(ymin,ymax)\n",
    "            ax.set_xlim(xmin,xmax)\n",
    "            ax.set_xlabel('['+rg+']')\n",
    "            ax.set_ylabel(fr+' || '+sr)\n",
    "            \n",
    "            ax.legend(loc=2, title='@'+'[c]='+str(chlamy_cnt_lst[i].round(4)), prop={'size': 7})\n",
    "            ax.plot(xmock, linear_curve(kParams[0][i], xmock))\n",
    "            ax.plot(xmock, linear_curve(kParams[1][i], xmock))\n",
    "            \n",
    "            i+=1\n",
    "\n",
    "        plt.tight_layout()\n",
    "        plt.suptitle('Absorbances @ Consant [C]', y=1.02)\n"
   ]
  },
  {
   "cell_type": "markdown",
   "metadata": {},
   "source": [
    "# Data Viz Setup 680 & 750"
   ]
  },
  {
   "cell_type": "code",
   "execution_count": 25,
   "metadata": {},
   "outputs": [
    {
     "name": "stdout",
     "output_type": "stream",
     "text": [
      "kB_A680: \n",
      "1.1386916729635272\n",
      "kC_A680: \n",
      "2.142296556564764\n",
      "kB_A720: \n",
      "1.4909877334057486\n",
      "kC_A720: \n",
      "1.3572473072874822\n"
     ]
    }
   ],
   "source": [
    "# Currently I'm just regressor as 560, but if changed then everything in this\n",
    "# this box should be run so that the values match accordingly\n",
    "\n",
    "regr = '750'\n",
    "mdf = set_B_and_C(mdf, column=regr)\n",
    "\n",
    "fst_regd = '680' # ALWAYS A680, anything else is for testing\n",
    "sec_regd = '540' #'A720' or 'A750' or 'A730' anything else is for testing\n",
    "# this is because the PBR system and data previously collected were\n",
    "# obtained using these lamda.... \n",
    "#################################################\n",
    "\n",
    "# store absorbance values that will be plotted on one figure  [chlamy]\n",
    "A680_C = get_row_col_values(mdf, 'row', df_col_name=fst_regd)\n",
    "A720_C = get_row_col_values(mdf, 'row', df_col_name=sec_regd)\n",
    "\n",
    "# store absorbance values that will be plotted on one figure  [bacteria]\n",
    "A680_B = get_row_col_values(mdf, 'col', df_col_name=fst_regd)\n",
    "A720_B = get_row_col_values(mdf, 'col', df_col_name=sec_regd)\n",
    "\n",
    "chlamy_cnt = mdf['C'].unique()\n",
    "bacter_cnt = mdf['B'].unique()\n",
    "\n",
    "kB_A680 = scipy_optfit_caller(bacter_cnt, A680_B)\n",
    "kC_A680 = scipy_optfit_caller(chlamy_cnt, A680_C)\n",
    "kB_A720 = scipy_optfit_caller(bacter_cnt, A720_B)\n",
    "kC_A720 = scipy_optfit_caller(chlamy_cnt, A720_C)\n",
    "\n",
    "print('kB_A680: ',kB_A680[-1][0],\n",
    "'kC_A680: ',kC_A680[-1][0],\n",
    "'kB_A720: ',kB_A720[-1][0],\n",
    "'kC_A720: ',kC_A720[-1][0], sep='\\n')"
   ]
  },
  {
   "cell_type": "code",
   "execution_count": 26,
   "metadata": {},
   "outputs": [],
   "source": [
    "def find_optimum_pair(df, fst, secd, regr):\n",
    "   \n",
    "    mdf =df.copy()\n",
    "    mdf = set_B_and_C(mdf, column=regr)\n",
    "    \n",
    "    # store absorbance values that will be plotted on one figure  [chlamy]\n",
    "    A680_C = get_row_col_values(mdf, 'row', df_col_name=fst)\n",
    "    A720_C = get_row_col_values(mdf, 'row', df_col_name=secd)\n",
    "\n",
    "    # store absorbance values that will be plotted on one figure  [bacteria]\n",
    "    A680_B = get_row_col_values(mdf, 'col', df_col_name=fst)\n",
    "    A720_B = get_row_col_values(mdf, 'col', df_col_name=secd)\n",
    "\n",
    "    chlamy_cnt = mdf['C'].unique()\n",
    "    bacter_cnt = mdf['B'].unique()\n",
    "\n",
    "    kB68 = scipy_optfit_caller(bacter_cnt, A680_B)[-1][0]\n",
    "    kC68 = scipy_optfit_caller(chlamy_cnt, A680_C)[-1][0]\n",
    "    kB72 = scipy_optfit_caller(bacter_cnt, A720_B)[-1][0]\n",
    "    kC72 = scipy_optfit_caller(chlamy_cnt, A720_C)[-1][0]\n",
    "    \n",
    "    \n",
    "    Bp = kB72*kC68 - kB68*kC72\n",
    "    #Cp =  kB68*kC72 - kB72*kC68\n",
    "    \n",
    "    return Bp"
   ]
  },
  {
   "cell_type": "markdown",
   "metadata": {},
   "source": [
    "# Brute Force Optimal Regressands & Regressor\n",
    "    \n",
    "    Here we brute froce the finding of the optimal regressand and regressor,\n",
    "    it was observed that the certain models provided compoletely irrational\n",
    "    predictions. This observation led me to belive that the difference of\n",
    "    the products of the coefficients in the models (the denominators in \n",
    "    each of the prediction B-hat C-hat models) could point me to a better value.\n",
    "    This meant that there was a space of values which were better than other.\n",
    "    \n",
    "    The optimal model would thus have the largest magnitude in difference."
   ]
  },
  {
   "cell_type": "code",
   "execution_count": 27,
   "metadata": {},
   "outputs": [
    {
     "ename": "KeyboardInterrupt",
     "evalue": "",
     "output_type": "error",
     "traceback": [
      "\u001b[0;31m---------------------------------------------------------------------------\u001b[0m",
      "\u001b[0;31mKeyboardInterrupt\u001b[0m                         Traceback (most recent call last)",
      "\u001b[0;32m<ipython-input-27-e851436ad7a5>\u001b[0m in \u001b[0;36m<module>\u001b[0;34m\u001b[0m\n\u001b[1;32m     10\u001b[0m \u001b[0;32mfor\u001b[0m \u001b[0mitem\u001b[0m \u001b[0;32min\u001b[0m \u001b[0mperm\u001b[0m\u001b[0;34m:\u001b[0m\u001b[0;34m\u001b[0m\u001b[0;34m\u001b[0m\u001b[0m\n\u001b[1;32m     11\u001b[0m     \u001b[0mf\u001b[0m\u001b[0;34m,\u001b[0m \u001b[0ms\u001b[0m\u001b[0;34m,\u001b[0m \u001b[0mr\u001b[0m \u001b[0;34m=\u001b[0m \u001b[0mitem\u001b[0m\u001b[0;34m\u001b[0m\u001b[0;34m\u001b[0m\u001b[0m\n\u001b[0;32m---> 12\u001b[0;31m     \u001b[0mdicky\u001b[0m\u001b[0;34m[\u001b[0m\u001b[0mf\u001b[0m\u001b[0;34m,\u001b[0m \u001b[0ms\u001b[0m\u001b[0;34m,\u001b[0m \u001b[0mr\u001b[0m\u001b[0;34m]\u001b[0m \u001b[0;34m=\u001b[0m \u001b[0mfind_optimum_pair\u001b[0m\u001b[0;34m(\u001b[0m\u001b[0mmdf\u001b[0m\u001b[0;34m,\u001b[0m \u001b[0mfst\u001b[0m\u001b[0;34m=\u001b[0m\u001b[0mf\u001b[0m\u001b[0;34m,\u001b[0m \u001b[0msecd\u001b[0m\u001b[0;34m=\u001b[0m\u001b[0ms\u001b[0m\u001b[0;34m,\u001b[0m \u001b[0mregr\u001b[0m\u001b[0;34m=\u001b[0m\u001b[0mr\u001b[0m\u001b[0;34m)\u001b[0m\u001b[0;34m\u001b[0m\u001b[0;34m\u001b[0m\u001b[0m\n\u001b[0m",
      "\u001b[0;32m<ipython-input-26-db5035113e37>\u001b[0m in \u001b[0;36mfind_optimum_pair\u001b[0;34m(df, fst, secd, regr)\u001b[0m\n\u001b[1;32m      2\u001b[0m \u001b[0;34m\u001b[0m\u001b[0m\n\u001b[1;32m      3\u001b[0m     \u001b[0mmdf\u001b[0m \u001b[0;34m=\u001b[0m\u001b[0mdf\u001b[0m\u001b[0;34m.\u001b[0m\u001b[0mcopy\u001b[0m\u001b[0;34m(\u001b[0m\u001b[0;34m)\u001b[0m\u001b[0;34m\u001b[0m\u001b[0;34m\u001b[0m\u001b[0m\n\u001b[0;32m----> 4\u001b[0;31m     \u001b[0mmdf\u001b[0m \u001b[0;34m=\u001b[0m \u001b[0mset_B_and_C\u001b[0m\u001b[0;34m(\u001b[0m\u001b[0mmdf\u001b[0m\u001b[0;34m,\u001b[0m \u001b[0mcolumn\u001b[0m\u001b[0;34m=\u001b[0m\u001b[0mregr\u001b[0m\u001b[0;34m)\u001b[0m\u001b[0;34m\u001b[0m\u001b[0;34m\u001b[0m\u001b[0m\n\u001b[0m\u001b[1;32m      5\u001b[0m \u001b[0;34m\u001b[0m\u001b[0m\n\u001b[1;32m      6\u001b[0m     \u001b[0;31m# store absorbance values that will be plotted on one figure  [chlamy]\u001b[0m\u001b[0;34m\u001b[0m\u001b[0;34m\u001b[0m\u001b[0;34m\u001b[0m\u001b[0m\n",
      "\u001b[0;32m<ipython-input-23-b10fa73806fd>\u001b[0m in \u001b[0;36mset_B_and_C\u001b[0;34m(tdf, column)\u001b[0m\n\u001b[1;32m    140\u001b[0m     \u001b[0;32mfor\u001b[0m \u001b[0mcol\u001b[0m \u001b[0;32min\u001b[0m \u001b[0mcols\u001b[0m\u001b[0;34m:\u001b[0m\u001b[0;34m\u001b[0m\u001b[0;34m\u001b[0m\u001b[0m\n\u001b[1;32m    141\u001b[0m         \u001b[0mvalue\u001b[0m \u001b[0;34m=\u001b[0m \u001b[0mdf\u001b[0m\u001b[0;34m.\u001b[0m\u001b[0mloc\u001b[0m\u001b[0;34m[\u001b[0m\u001b[0;34m(\u001b[0m\u001b[0mdf\u001b[0m\u001b[0;34m[\u001b[0m\u001b[0;34m'row'\u001b[0m\u001b[0;34m]\u001b[0m\u001b[0;34m==\u001b[0m\u001b[0;34m'H'\u001b[0m\u001b[0;34m)\u001b[0m \u001b[0;34m&\u001b[0m \u001b[0;34m(\u001b[0m\u001b[0mdf\u001b[0m\u001b[0;34m[\u001b[0m\u001b[0;34m'col'\u001b[0m\u001b[0;34m]\u001b[0m\u001b[0;34m==\u001b[0m\u001b[0mcol\u001b[0m\u001b[0;34m)\u001b[0m\u001b[0;34m,\u001b[0m \u001b[0mcolumn\u001b[0m\u001b[0;34m]\u001b[0m\u001b[0;34m[\u001b[0m\u001b[0;36m0\u001b[0m\u001b[0;34m]\u001b[0m\u001b[0;34m\u001b[0m\u001b[0;34m\u001b[0m\u001b[0m\n\u001b[0;32m--> 142\u001b[0;31m         \u001b[0mdf\u001b[0m\u001b[0;34m.\u001b[0m\u001b[0mloc\u001b[0m\u001b[0;34m[\u001b[0m\u001b[0mdf\u001b[0m\u001b[0;34m[\u001b[0m\u001b[0;34m'col'\u001b[0m\u001b[0;34m]\u001b[0m\u001b[0;34m==\u001b[0m\u001b[0mcol\u001b[0m\u001b[0;34m,\u001b[0m \u001b[0;34m'C'\u001b[0m\u001b[0;34m]\u001b[0m \u001b[0;34m=\u001b[0m \u001b[0mvalue\u001b[0m\u001b[0;34m\u001b[0m\u001b[0;34m\u001b[0m\u001b[0m\n\u001b[0m\u001b[1;32m    143\u001b[0m \u001b[0;34m\u001b[0m\u001b[0m\n\u001b[1;32m    144\u001b[0m     \u001b[0;32mreturn\u001b[0m \u001b[0mdf\u001b[0m\u001b[0;34m\u001b[0m\u001b[0;34m\u001b[0m\u001b[0m\n",
      "\u001b[0;32m~/program_files/anaconda3/envs/fluxy/lib/python3.7/site-packages/pandas/core/indexing.py\u001b[0m in \u001b[0;36m__setitem__\u001b[0;34m(self, key, value)\u001b[0m\n\u001b[1;32m    187\u001b[0m         \u001b[0;32melse\u001b[0m\u001b[0;34m:\u001b[0m\u001b[0;34m\u001b[0m\u001b[0;34m\u001b[0m\u001b[0m\n\u001b[1;32m    188\u001b[0m             \u001b[0mkey\u001b[0m \u001b[0;34m=\u001b[0m \u001b[0mcom\u001b[0m\u001b[0;34m.\u001b[0m\u001b[0mapply_if_callable\u001b[0m\u001b[0;34m(\u001b[0m\u001b[0mkey\u001b[0m\u001b[0;34m,\u001b[0m \u001b[0mself\u001b[0m\u001b[0;34m.\u001b[0m\u001b[0mobj\u001b[0m\u001b[0;34m)\u001b[0m\u001b[0;34m\u001b[0m\u001b[0;34m\u001b[0m\u001b[0m\n\u001b[0;32m--> 189\u001b[0;31m         \u001b[0mindexer\u001b[0m \u001b[0;34m=\u001b[0m \u001b[0mself\u001b[0m\u001b[0;34m.\u001b[0m\u001b[0m_get_setitem_indexer\u001b[0m\u001b[0;34m(\u001b[0m\u001b[0mkey\u001b[0m\u001b[0;34m)\u001b[0m\u001b[0;34m\u001b[0m\u001b[0;34m\u001b[0m\u001b[0m\n\u001b[0m\u001b[1;32m    190\u001b[0m         \u001b[0mself\u001b[0m\u001b[0;34m.\u001b[0m\u001b[0m_setitem_with_indexer\u001b[0m\u001b[0;34m(\u001b[0m\u001b[0mindexer\u001b[0m\u001b[0;34m,\u001b[0m \u001b[0mvalue\u001b[0m\u001b[0;34m)\u001b[0m\u001b[0;34m\u001b[0m\u001b[0;34m\u001b[0m\u001b[0m\n\u001b[1;32m    191\u001b[0m \u001b[0;34m\u001b[0m\u001b[0m\n",
      "\u001b[0;32m~/program_files/anaconda3/envs/fluxy/lib/python3.7/site-packages/pandas/core/indexing.py\u001b[0m in \u001b[0;36m_get_setitem_indexer\u001b[0;34m(self, key)\u001b[0m\n\u001b[1;32m    165\u001b[0m         \u001b[0;32mif\u001b[0m \u001b[0misinstance\u001b[0m\u001b[0;34m(\u001b[0m\u001b[0mkey\u001b[0m\u001b[0;34m,\u001b[0m \u001b[0mtuple\u001b[0m\u001b[0;34m)\u001b[0m\u001b[0;34m:\u001b[0m\u001b[0;34m\u001b[0m\u001b[0;34m\u001b[0m\u001b[0m\n\u001b[1;32m    166\u001b[0m             \u001b[0;32mtry\u001b[0m\u001b[0;34m:\u001b[0m\u001b[0;34m\u001b[0m\u001b[0;34m\u001b[0m\u001b[0m\n\u001b[0;32m--> 167\u001b[0;31m                 \u001b[0;32mreturn\u001b[0m \u001b[0mself\u001b[0m\u001b[0;34m.\u001b[0m\u001b[0m_convert_tuple\u001b[0m\u001b[0;34m(\u001b[0m\u001b[0mkey\u001b[0m\u001b[0;34m,\u001b[0m \u001b[0mis_setter\u001b[0m\u001b[0;34m=\u001b[0m\u001b[0;32mTrue\u001b[0m\u001b[0;34m)\u001b[0m\u001b[0;34m\u001b[0m\u001b[0;34m\u001b[0m\u001b[0m\n\u001b[0m\u001b[1;32m    168\u001b[0m             \u001b[0;32mexcept\u001b[0m \u001b[0mIndexingError\u001b[0m\u001b[0;34m:\u001b[0m\u001b[0;34m\u001b[0m\u001b[0;34m\u001b[0m\u001b[0m\n\u001b[1;32m    169\u001b[0m                 \u001b[0;32mpass\u001b[0m\u001b[0;34m\u001b[0m\u001b[0;34m\u001b[0m\u001b[0m\n",
      "\u001b[0;32m~/program_files/anaconda3/envs/fluxy/lib/python3.7/site-packages/pandas/core/indexing.py\u001b[0m in \u001b[0;36m_convert_tuple\u001b[0;34m(self, key, is_setter)\u001b[0m\n\u001b[1;32m    246\u001b[0m                 \u001b[0;32mif\u001b[0m \u001b[0mi\u001b[0m \u001b[0;34m>=\u001b[0m \u001b[0mself\u001b[0m\u001b[0;34m.\u001b[0m\u001b[0mobj\u001b[0m\u001b[0;34m.\u001b[0m\u001b[0mndim\u001b[0m\u001b[0;34m:\u001b[0m\u001b[0;34m\u001b[0m\u001b[0;34m\u001b[0m\u001b[0m\n\u001b[1;32m    247\u001b[0m                     \u001b[0;32mraise\u001b[0m \u001b[0mIndexingError\u001b[0m\u001b[0;34m(\u001b[0m\u001b[0;34m'Too many indexers'\u001b[0m\u001b[0;34m)\u001b[0m\u001b[0;34m\u001b[0m\u001b[0;34m\u001b[0m\u001b[0m\n\u001b[0;32m--> 248\u001b[0;31m                 \u001b[0midx\u001b[0m \u001b[0;34m=\u001b[0m \u001b[0mself\u001b[0m\u001b[0;34m.\u001b[0m\u001b[0m_convert_to_indexer\u001b[0m\u001b[0;34m(\u001b[0m\u001b[0mk\u001b[0m\u001b[0;34m,\u001b[0m \u001b[0maxis\u001b[0m\u001b[0;34m=\u001b[0m\u001b[0mi\u001b[0m\u001b[0;34m,\u001b[0m \u001b[0mis_setter\u001b[0m\u001b[0;34m=\u001b[0m\u001b[0mis_setter\u001b[0m\u001b[0;34m)\u001b[0m\u001b[0;34m\u001b[0m\u001b[0;34m\u001b[0m\u001b[0m\n\u001b[0m\u001b[1;32m    249\u001b[0m                 \u001b[0mkeyidx\u001b[0m\u001b[0;34m.\u001b[0m\u001b[0mappend\u001b[0m\u001b[0;34m(\u001b[0m\u001b[0midx\u001b[0m\u001b[0;34m)\u001b[0m\u001b[0;34m\u001b[0m\u001b[0;34m\u001b[0m\u001b[0m\n\u001b[1;32m    250\u001b[0m         \u001b[0;32mreturn\u001b[0m \u001b[0mtuple\u001b[0m\u001b[0;34m(\u001b[0m\u001b[0mkeyidx\u001b[0m\u001b[0;34m)\u001b[0m\u001b[0;34m\u001b[0m\u001b[0;34m\u001b[0m\u001b[0m\n",
      "\u001b[0;32m~/program_files/anaconda3/envs/fluxy/lib/python3.7/site-packages/pandas/core/indexing.py\u001b[0m in \u001b[0;36m_convert_to_indexer\u001b[0;34m(self, obj, axis, is_setter, raise_missing)\u001b[0m\n\u001b[1;32m   1308\u001b[0m         \u001b[0;31m# if we are a label return me\u001b[0m\u001b[0;34m\u001b[0m\u001b[0;34m\u001b[0m\u001b[0;34m\u001b[0m\u001b[0m\n\u001b[1;32m   1309\u001b[0m         \u001b[0;32mtry\u001b[0m\u001b[0;34m:\u001b[0m\u001b[0;34m\u001b[0m\u001b[0;34m\u001b[0m\u001b[0m\n\u001b[0;32m-> 1310\u001b[0;31m             \u001b[0;32mreturn\u001b[0m \u001b[0mlabels\u001b[0m\u001b[0;34m.\u001b[0m\u001b[0mget_loc\u001b[0m\u001b[0;34m(\u001b[0m\u001b[0mobj\u001b[0m\u001b[0;34m)\u001b[0m\u001b[0;34m\u001b[0m\u001b[0;34m\u001b[0m\u001b[0m\n\u001b[0m\u001b[1;32m   1311\u001b[0m         \u001b[0;32mexcept\u001b[0m \u001b[0mLookupError\u001b[0m\u001b[0;34m:\u001b[0m\u001b[0;34m\u001b[0m\u001b[0;34m\u001b[0m\u001b[0m\n\u001b[1;32m   1312\u001b[0m             \u001b[0;32mif\u001b[0m \u001b[0misinstance\u001b[0m\u001b[0;34m(\u001b[0m\u001b[0mobj\u001b[0m\u001b[0;34m,\u001b[0m \u001b[0mtuple\u001b[0m\u001b[0;34m)\u001b[0m \u001b[0;32mand\u001b[0m \u001b[0misinstance\u001b[0m\u001b[0;34m(\u001b[0m\u001b[0mlabels\u001b[0m\u001b[0;34m,\u001b[0m \u001b[0mMultiIndex\u001b[0m\u001b[0;34m)\u001b[0m\u001b[0;34m:\u001b[0m\u001b[0;34m\u001b[0m\u001b[0;34m\u001b[0m\u001b[0m\n",
      "\u001b[0;32m~/program_files/anaconda3/envs/fluxy/lib/python3.7/site-packages/pandas/core/indexes/base.py\u001b[0m in \u001b[0;36mget_loc\u001b[0;34m(self, key, method, tolerance)\u001b[0m\n\u001b[1;32m   2655\u001b[0m                                  'backfill or nearest lookups')\n\u001b[1;32m   2656\u001b[0m             \u001b[0;32mtry\u001b[0m\u001b[0;34m:\u001b[0m\u001b[0;34m\u001b[0m\u001b[0;34m\u001b[0m\u001b[0m\n\u001b[0;32m-> 2657\u001b[0;31m                 \u001b[0;32mreturn\u001b[0m \u001b[0mself\u001b[0m\u001b[0;34m.\u001b[0m\u001b[0m_engine\u001b[0m\u001b[0;34m.\u001b[0m\u001b[0mget_loc\u001b[0m\u001b[0;34m(\u001b[0m\u001b[0mkey\u001b[0m\u001b[0;34m)\u001b[0m\u001b[0;34m\u001b[0m\u001b[0;34m\u001b[0m\u001b[0m\n\u001b[0m\u001b[1;32m   2658\u001b[0m             \u001b[0;32mexcept\u001b[0m \u001b[0mKeyError\u001b[0m\u001b[0;34m:\u001b[0m\u001b[0;34m\u001b[0m\u001b[0;34m\u001b[0m\u001b[0m\n\u001b[1;32m   2659\u001b[0m                 \u001b[0;32mreturn\u001b[0m \u001b[0mself\u001b[0m\u001b[0;34m.\u001b[0m\u001b[0m_engine\u001b[0m\u001b[0;34m.\u001b[0m\u001b[0mget_loc\u001b[0m\u001b[0;34m(\u001b[0m\u001b[0mself\u001b[0m\u001b[0;34m.\u001b[0m\u001b[0m_maybe_cast_indexer\u001b[0m\u001b[0;34m(\u001b[0m\u001b[0mkey\u001b[0m\u001b[0;34m)\u001b[0m\u001b[0;34m)\u001b[0m\u001b[0;34m\u001b[0m\u001b[0;34m\u001b[0m\u001b[0m\n",
      "\u001b[0;32mpandas/_libs/index.pyx\u001b[0m in \u001b[0;36mpandas._libs.index.IndexEngine.get_loc\u001b[0;34m()\u001b[0m\n",
      "\u001b[0;32mpandas/_libs/index.pyx\u001b[0m in \u001b[0;36mpandas._libs.index.IndexEngine.get_loc\u001b[0;34m()\u001b[0m\n",
      "\u001b[0;31mKeyboardInterrupt\u001b[0m: "
     ]
    }
   ],
   "source": [
    "# wavs = ['A600','A680','A720',  'A750', '500', '510',\n",
    "#        '520', '530', '540', '550', '560', '570', '580', '590', '600',\n",
    "#        '610', '620', '630', '640', '650', '660', '670', '680', '690',\n",
    "#        '700', '710', '720', '730', '740', '750']\n",
    "\n",
    "# perm = permutations(wavs, 3)\n",
    "\n",
    "\n",
    "# dicky = {}\n",
    "# for item in perm:\n",
    "#     f, s, r = item\n",
    "#     dicky[f, s, r] = find_optimum_pair(mdf, fst=f, secd=s, regr=r)"
   ]
  },
  {
   "cell_type": "code",
   "execution_count": null,
   "metadata": {},
   "outputs": [],
   "source": [
    "# 30 min run\n",
    "len(wavs)"
   ]
  },
  {
   "cell_type": "code",
   "execution_count": null,
   "metadata": {},
   "outputs": [],
   "source": [
    "dif = pd.DataFrame.from_dict(dicky, orient='index')\n",
    "\n",
    "# these create the biggest difference which is relevant insofar as being furthest away from\n",
    "# zero as close to zero values either represent the same regressands, or that the\n",
    "# multiplication of the coefficients\n",
    "dif.loc[dif.idxmax()]\n",
    "dif.loc[dif.idxmin()]"
   ]
  },
  {
   "cell_type": "code",
   "execution_count": null,
   "metadata": {},
   "outputs": [],
   "source": [
    "dif2 = dif[dif[0]!=0]"
   ]
  },
  {
   "cell_type": "code",
   "execution_count": null,
   "metadata": {},
   "outputs": [],
   "source": [
    "dif2[1] = np.sqrt(np.power(dif2[0], 2))"
   ]
  },
  {
   "cell_type": "code",
   "execution_count": null,
   "metadata": {},
   "outputs": [],
   "source": [
    "dif2.loc[dif2.idxmin()]\n",
    "dif2.loc[dif2.idxmax()]"
   ]
  },
  {
   "cell_type": "code",
   "execution_count": null,
   "metadata": {},
   "outputs": [],
   "source": [
    "dif.to_csv('dicky.csv')"
   ]
  },
  {
   "cell_type": "code",
   "execution_count": null,
   "metadata": {},
   "outputs": [],
   "source": [
    "kB680\n",
    "kC720 are similar..."
   ]
  },
  {
   "cell_type": "markdown",
   "metadata": {},
   "source": [
    "# Plot Viz"
   ]
  },
  {
   "cell_type": "code",
   "execution_count": null,
   "metadata": {},
   "outputs": [],
   "source": [
    "plot_col_rows(mdf, kParams=(kB_A680, kB_A720), first_regressand=fst_regd, \n",
    "              second_regressand=sec_regd, regressor=regr, plate_row_or_col='col')\n",
    "\n",
    "plot_col_rows(mdf, kParams=(kC_A680, kC_A720), first_regressand=fst_regd, \n",
    "              second_regressand=sec_regd, regressor=regr, plate_row_or_col='row')"
   ]
  },
  {
   "cell_type": "code",
   "execution_count": null,
   "metadata": {},
   "outputs": [],
   "source": []
  },
  {
   "cell_type": "markdown",
   "metadata": {},
   "source": [
    "In the following graphs I have plotted the measurements of the columns a 96-well plate (12 total graphs) where A750 and A680 are the regressands and A560 is the regressor. Along the x-axis we have increasing concentration. A560 is chosen because it is the wavelength which has the least colinearity with every other wavelength used in these experiments. As we move from right-to-left on the 96-well plate there is an increasing gradient of chlamydomonas concentration. \n",
    "\n",
    "We note that when there is no chlamy in the solution that measurements at 680 and 750 are fairly identical. However as soons as the concentration of chlamy increases we see a clear elevation in signal for all wells in that column and a clear separation between the curves while still maintaining their parallelity. \n",
    "\n",
    "The overall signal always increases regardless of the "
   ]
  },
  {
   "cell_type": "markdown",
   "metadata": {},
   "source": [
    "# Parameter Analysis"
   ]
  },
  {
   "cell_type": "code",
   "execution_count": null,
   "metadata": {},
   "outputs": [],
   "source": [
    "# After building the models, perhaps create a new model in which\n",
    "# we take make our coefficients the average"
   ]
  },
  {
   "cell_type": "code",
   "execution_count": null,
   "metadata": {},
   "outputs": [],
   "source": [
    "#kB_A680 \n",
    "\n",
    "#for \n",
    "\n",
    "b = [i[1] for i in kB_A680]\n",
    "kB = [i[0]for i in kB_A680]\n",
    "C = get_row_col_values(mdf, plate_row_or_col='row', df_col_name='560')[-1]\n",
    "\n",
    "'kB6'\n",
    "kB[-1]\n",
    "'kBb6'\n",
    "(np.array(b[:-1]) / np.array(C[:-1])).mean()\n",
    "sns.regplot(x=C, y=b)\n",
    "\n",
    "\n",
    "\n",
    "\n",
    "\n",
    "#kC_A680 \n",
    "b = [i[1] for i in kC_A680]\n",
    "kC = [i[0] for i in kC_A680]\n",
    "\n",
    "B = get_row_col_values(mdf, plate_row_or_col='col', df_col_name='560')[-1]\n",
    "\n",
    "'kC6'\n",
    "kC[-1]\n",
    "'kCb6'\n",
    "(np.array(b[:-1]) / np.array(B[:-1])).mean()\n",
    "sns.regplot(x=B, y=b)\n",
    "\n",
    "#kB_A720 \n",
    "\n",
    "#for \n",
    "\n",
    "b = [i[1] for i in kB_A720]\n",
    "kB = [i[0] for i in kB_A720]\n",
    "C = get_row_col_values(mdf, plate_row_or_col='row', df_col_name='560')[-1]\n",
    "\n",
    "'kB7'\n",
    "kB[-1]\n",
    "'kBb6'\n",
    "(np.array(b[:-1]) / np.array(C[:-1])).mean()\n",
    "sns.regplot(x=C, y=b)\n",
    "\n",
    "#kC_A720 \n",
    "\n",
    "b = [i[1] for i in kC_A720]\n",
    "kC = [i[0] for i in kC_A720]\n",
    "\n",
    "B = get_row_col_values(mdf, plate_row_or_col='col', df_col_name='560')[-1]\n",
    "\n",
    "'kC7'\n",
    "kC[-1]\n",
    "'kCb6'\n",
    "(np.array(b[:-1]) / np.array(B[:-1])).mean()\n",
    "sns.regplot(x=B, y=b)\n",
    "\n",
    "\n",
    "\n",
    "np.array((0.9113521739152892,0.9096859210445235, 0.8809601556921456)).mean()"
   ]
  },
  {
   "cell_type": "code",
   "execution_count": null,
   "metadata": {},
   "outputs": [],
   "source": [
    "r1, g1, p2, t2\n"
   ]
  },
  {
   "cell_type": "code",
   "execution_count": null,
   "metadata": {},
   "outputs": [],
   "source": [
    "#kB_A720 \n",
    "\n",
    "#for \n",
    "\n",
    "b = [i[1] for i in kB_A720]\n",
    "kB = [i[0] for i in kB_A720]\n",
    "C = get_row_col_values(mdf, plate_row_or_col='row', df_col_name='560')[-1]\n",
    "\n",
    "'kB7'\n",
    "kB[-1]\n",
    "'kBb6'\n",
    "(np.array(b[:-1]) / np.array(C[:-1])).mean()\n",
    "sns.regplot(x=C, y=b)\n",
    "\n",
    "#kC_A720 \n",
    "\n",
    "b = [i[1] for i in kC_A720]\n",
    "kC = [i[0] for i in kC_A720]\n",
    "\n",
    "B = get_row_col_values(mdf, plate_row_or_col='col', df_col_name='560')[-1]\n",
    "\n",
    "'kC7'\n",
    "kC[-1]\n",
    "'kCb6'\n",
    "(np.array(b[:-1]) / np.array(B[:-1])).mean()\n",
    "sns.regplot(x=B, y=b)"
   ]
  },
  {
   "cell_type": "code",
   "execution_count": null,
   "metadata": {},
   "outputs": [],
   "source": [
    "kB\n",
    "kC"
   ]
  },
  {
   "cell_type": "code",
   "execution_count": null,
   "metadata": {},
   "outputs": [],
   "source": [
    "#kC_A680 \n",
    "\n",
    "b = [i[1] for i in kC_A680]\n",
    "\n",
    "B = get_row_col_values(mdf, plate_row_or_col='col', df_col_name='560')[-1]\n",
    "\n",
    "b,C\n",
    "\n",
    "sns.regplot(x=B, y=b)"
   ]
  },
  {
   "cell_type": "code",
   "execution_count": null,
   "metadata": {},
   "outputs": [],
   "source": [
    "#kB_A720\n",
    "\n",
    "b = [i[1] for i in kB_A680]\n",
    "\n",
    "C = get_row_col_values(mdf, plate_row_or_col='row', df_col_name='560')[-1]\n",
    "\n",
    "b\n",
    "C\n",
    "\n",
    "sns.regplot(x=C, y=b, ).ax.text()"
   ]
  },
  {
   "cell_type": "code",
   "execution_count": null,
   "metadata": {},
   "outputs": [],
   "source": [
    "#kC_A720\n",
    "\n",
    "b = [i[1] for i in kB_A680]\n",
    "\n",
    "C = get_row_col_values(mdf, plate_row_or_col='row', df_col_name='560')[-1]\n",
    "\n",
    "b\n",
    "C\n",
    "\n",
    "sns.regplot(x=C, y=b, ).ax.text()"
   ]
  },
  {
   "cell_type": "code",
   "execution_count": null,
   "metadata": {},
   "outputs": [],
   "source": [
    "\n",
    "\n",
    "(np.array(b)/np.array(C))[:-1].mean()"
   ]
  },
  {
   "cell_type": "code",
   "execution_count": null,
   "metadata": {},
   "outputs": [],
   "source": [
    "kB_A680"
   ]
  },
  {
   "cell_type": "code",
   "execution_count": null,
   "metadata": {},
   "outputs": [],
   "source": [
    "kB_A680[0]\n",
    "kC_A680\n",
    "kB_A720\n",
    "kC_A720"
   ]
  },
  {
   "cell_type": "code",
   "execution_count": null,
   "metadata": {},
   "outputs": [],
   "source": [
    "[]"
   ]
  },
  {
   "cell_type": "code",
   "execution_count": null,
   "metadata": {},
   "outputs": [],
   "source": [
    "kC_A680\n",
    "\n",
    "kC_A750"
   ]
  },
  {
   "cell_type": "code",
   "execution_count": null,
   "metadata": {},
   "outputs": [],
   "source": [
    "for k in [kB_A680, kB_A750]:\n",
    "    np.mean(k, axis=0)\n",
    "    # note that the \n",
    "\n",
    "    \n",
    "for k in [kC_A680, kC_A750]:\n",
    "    np.mean(k, axis=0)"
   ]
  },
  {
   "cell_type": "code",
   "execution_count": null,
   "metadata": {},
   "outputs": [],
   "source": [
    "kcs=[kB_A680, kB_A750, kC_A680, kC_A750]\n",
    "for kc in kcs:\n",
    "    np.mean(kc, axis=0)[0]"
   ]
  },
  {
   "cell_type": "markdown",
   "metadata": {},
   "source": [
    "# Data Viz Setup 680 & 720"
   ]
  },
  {
   "cell_type": "code",
   "execution_count": null,
   "metadata": {},
   "outputs": [],
   "source": [
    "# Currently I'm just regressor as 560, but if changed then everything in this\n",
    "# this box should be run so that the values match accordingly\n",
    "mdf = set_B_and_C(mdf, column='560')\n",
    "\n",
    "#################################################\n",
    "\n",
    "# store absorbance values that will be plotted on one figure  [chlamy]\n",
    "A680_C = get_row_col_values(mdf, 'row', df_col_name='A680')\n",
    "A720_C = get_row_col_values(mdf, 'row', df_col_name='A720')\n",
    "\n",
    "# store absorbance values that will be plotted on one figure  [bacteria]\n",
    "A680_B = get_row_col_values(mdf, 'col', df_col_name='A680')\n",
    "A720_B = get_row_col_values(mdf, 'col', df_col_name='A720')\n",
    "\n",
    "chlamy_cnt = mdf['C'].unique()\n",
    "bacter_cnt = mdf['B'].unique()\n",
    "\n",
    "kB_A680 = scipy_optfit_caller(bacter_cnt, A680_B)\n",
    "kC_A680 = scipy_optfit_caller(chlamy_cnt, A680_C)\n",
    "kB_A720 = scipy_optfit_caller(bacter_cnt, A720_B)\n",
    "kC_A720 = scipy_optfit_caller(chlamy_cnt, A720_C)"
   ]
  },
  {
   "cell_type": "code",
   "execution_count": null,
   "metadata": {},
   "outputs": [],
   "source": [
    "plot_col_rows(mdf, kParams=(kB_A680, kB_A720), second_regressand='A720', regressor='510', plate_row_or_col='col')\n",
    "plot_col_rows(mdf, kParams=(kC_A680, kC_A720), second_regressand='A720', regressor='510', plate_row_or_col='row')\n",
    "\n",
    "# change the plotting function to accept the wavelength that you want to use"
   ]
  },
  {
   "cell_type": "code",
   "execution_count": null,
   "metadata": {},
   "outputs": [],
   "source": [
    "kB_A680\n",
    "kC_A680\n",
    "kB_A720\n",
    "kC_A720"
   ]
  },
  {
   "cell_type": "code",
   "execution_count": null,
   "metadata": {},
   "outputs": [],
   "source": [
    "def get_vals(tdf, column):\n",
    "    \"\"\"This helper function sets the concentraiton values B and\n",
    "    C on the dataframe for regressiong purposes and so that the \n",
    "    plotting function can plot the right values on the x-axis\"\"\"\n",
    "    \n",
    "    df = tdf.copy()\n",
    "    \n",
    "    rows = df['row'].unique()\n",
    "    cols =  df['col'].unique()\n",
    "    \n",
    "    \n",
    "    r = []\n",
    "    for row in rows:\n",
    "        value = df.loc[(df['row']==row) & (df['col']==12), column][0]\n",
    "        r.append(value)\n",
    "\n",
    "    c = []\n",
    "    for col in cols:\n",
    "        \n",
    "        value = df.loc[(df['row']=='H') & (df['col']==col), column][0]\n",
    "        c.append(value)\n",
    "    \n",
    "    return r"
   ]
  },
  {
   "cell_type": "code",
   "execution_count": null,
   "metadata": {},
   "outputs": [],
   "source": [
    "mdf.columns[12:-2]"
   ]
  },
  {
   "cell_type": "code",
   "execution_count": null,
   "metadata": {},
   "outputs": [],
   "source": [
    "for col in mdf.columns[12:-2]:\n",
    "    col, vals\n",
    "    vals = get_vals(mdf,col)\n",
    "    plt.plot(range(len(vals)), vals)"
   ]
  },
  {
   "cell_type": "code",
   "execution_count": null,
   "metadata": {},
   "outputs": [],
   "source": []
  }
 ],
 "metadata": {
  "kernelspec": {
   "display_name": "Python 3",
   "language": "python",
   "name": "python3"
  },
  "language_info": {
   "codemirror_mode": {
    "name": "ipython",
    "version": 3
   },
   "file_extension": ".py",
   "mimetype": "text/x-python",
   "name": "python",
   "nbconvert_exporter": "python",
   "pygments_lexer": "ipython3",
   "version": "3.7.3"
  }
 },
 "nbformat": 4,
 "nbformat_minor": 4
}
