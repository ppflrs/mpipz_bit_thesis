{
 "cells": [
  {
   "cell_type": "code",
   "execution_count": 1,
   "metadata": {},
   "outputs": [],
   "source": [
    "import os\n",
    "import pandas as pd\n"
   ]
  },
  {
   "cell_type": "code",
   "execution_count": 2,
   "metadata": {},
   "outputs": [],
   "source": [
    "df = pd.read_clipboard()"
   ]
  },
  {
   "cell_type": "code",
   "execution_count": 3,
   "metadata": {},
   "outputs": [
    {
     "data": {
      "text/html": [
       "<div>\n",
       "<style scoped>\n",
       "    .dataframe tbody tr th:only-of-type {\n",
       "        vertical-align: middle;\n",
       "    }\n",
       "\n",
       "    .dataframe tbody tr th {\n",
       "        vertical-align: top;\n",
       "    }\n",
       "\n",
       "    .dataframe thead th {\n",
       "        text-align: right;\n",
       "    }\n",
       "</style>\n",
       "<table border=\"1\" class=\"dataframe\">\n",
       "  <thead>\n",
       "    <tr style=\"text-align: right;\">\n",
       "      <th></th>\n",
       "      <th>/media/mphome/projects/data/chlamy_sphere/jobs_1.sh</th>\n",
       "    </tr>\n",
       "  </thead>\n",
       "  <tbody>\n",
       "  </tbody>\n",
       "</table>\n",
       "</div>"
      ],
      "text/plain": [
       "Empty DataFrame\n",
       "Columns: [/media/mphome/projects/data/chlamy_sphere/jobs_1.sh]\n",
       "Index: []"
      ]
     },
     "execution_count": 3,
     "metadata": {},
     "output_type": "execute_result"
    }
   ],
   "source": [
    "df.head()"
   ]
  },
  {
   "cell_type": "code",
   "execution_count": 85,
   "metadata": {},
   "outputs": [],
   "source": [
    "alsphere = set(df['alsphere_ID'].unique())"
   ]
  },
  {
   "cell_type": "code",
   "execution_count": 86,
   "metadata": {},
   "outputs": [],
   "source": [
    "needto = alsphere - completed\n"
   ]
  },
  {
   "cell_type": "code",
   "execution_count": 87,
   "metadata": {},
   "outputs": [],
   "source": [
    "needto = needto - syncomm"
   ]
  },
  {
   "cell_type": "code",
   "execution_count": 93,
   "metadata": {},
   "outputs": [
    {
     "data": {
      "text/plain": [
       "139"
      ]
     },
     "execution_count": 93,
     "metadata": {},
     "output_type": "execute_result"
    }
   ],
   "source": [
    "len(needto)"
   ]
  },
  {
   "cell_type": "code",
   "execution_count": 7,
   "metadata": {},
   "outputs": [],
   "source": [
    "lst = ['ICL_100',\n",
    " 'ICL_101',\n",
    " 'ICL_103',\n",
    " 'ICL_108',\n",
    " 'ICL_112',\n",
    " 'ICL_114B',\n",
    " 'ICL_115',\n",
    " 'ICL_116',\n",
    " 'ICL_117',\n",
    " 'ICL_118B',\n",
    " 'ICL_129A',\n",
    " 'ICL_129B',\n",
    " 'ICL_132',\n",
    " 'ICL_139A',\n",
    " 'ICL_144',\n",
    " 'ICL_160',\n",
    " 'ICL_162',\n",
    " 'ICL_163',\n",
    " 'ICL_170',\n",
    " 'ICL_172',\n",
    " 'ICL_184BA',\n",
    " 'ICL_186B',\n",
    " 'ICL_199',\n",
    " 'ICL_201',\n",
    " 'ICL_208B',\n",
    " 'ICL_20BA',\n",
    " 'ICL_24',\n",
    " 'ICL_41',\n",
    " 'ICL_48',\n",
    " 'ICL_60']"
   ]
  },
  {
   "cell_type": "code",
   "execution_count": 40,
   "metadata": {},
   "outputs": [
    {
     "name": "stdout",
     "output_type": "stream",
     "text": [
      "ICL_100\n",
      "ICL_101\n",
      "ICL_103\n",
      "ICL_108\n",
      "ICL_112\n",
      "ICL_114B\n",
      "ICL_115\n",
      "ICL_116\n",
      "ICL_117\n",
      "ICL_118B\n",
      "ICL_129A\n",
      "ICL_129B\n",
      "ICL_132\n",
      "ICL_139A\n",
      "ICL_144\n",
      "ICL_160\n",
      "ICL_162\n",
      "ICL_163\n",
      "ICL_170\n",
      "ICL_172\n",
      "ICL_184BA\n",
      "ICL_186B\n",
      "ICL_199\n",
      "ICL_201\n",
      "ICL_208B\n",
      "ICL_20BA\n",
      "ICL_24\n",
      "ICL_41\n",
      "ICL_48\n",
      "ICL_60\n"
     ]
    }
   ],
   "source": [
    "chlamyID = {}\n",
    "for s in lst:\n",
    "    print(s)\n",
    "    \n",
    "    try:\n",
    "        chlamyID[s] = list(df[df['ICL_ID']==s]['alsphere_ID'].values)[0]\n",
    "    except:\n",
    "        continue"
   ]
  },
  {
   "cell_type": "code",
   "execution_count": 84,
   "metadata": {},
   "outputs": [],
   "source": [
    "syncomm = set(chlamyID.values())"
   ]
  },
  {
   "cell_type": "code",
   "execution_count": 64,
   "metadata": {},
   "outputs": [],
   "source": [
    "syncomm_todo = syncomm - completed.intersection(syncomm)"
   ]
  },
  {
   "cell_type": "code",
   "execution_count": 82,
   "metadata": {},
   "outputs": [],
   "source": [
    "completed = set(('Chlamy185', 'Chlamy168', 'Chlamy204', 'Chlamy203', \n",
    "          'Chlamy166', 'Chlamy97', 'Chlamy99', 'Chlamy41',\n",
    "          'Chlamy73', 'Chlamy114', 'Chlamy90', 'Chlamy33', \n",
    "          'Chlamy182', 'Chlamy161', 'Chlamy9', 'Chlamy153', \n",
    "          'Chlamy154', 'Chlamy113', 'Chlamy48', 'Chlamy46',\n",
    "          'Chlamy34', 'Chlamy74', 'Chlamy7'))\n"
   ]
  },
  {
   "cell_type": "code",
   "execution_count": 92,
   "metadata": {},
   "outputs": [
    {
     "data": {
      "text/plain": [
       "{'Chlamy107',\n",
       " 'Chlamy123',\n",
       " 'Chlamy125',\n",
       " 'Chlamy13',\n",
       " 'Chlamy134',\n",
       " 'Chlamy135',\n",
       " 'Chlamy149',\n",
       " 'Chlamy162',\n",
       " 'Chlamy165',\n",
       " 'Chlamy176',\n",
       " 'Chlamy19',\n",
       " 'Chlamy23',\n",
       " 'Chlamy24',\n",
       " 'Chlamy25',\n",
       " 'Chlamy26',\n",
       " 'Chlamy28',\n",
       " 'Chlamy40',\n",
       " 'Chlamy44',\n",
       " 'Chlamy49',\n",
       " 'Chlamy52',\n",
       " 'Chlamy6',\n",
       " 'Chlamy76',\n",
       " 'Chlamy77',\n",
       " 'Chlamy8',\n",
       " 'Chlamy87'}"
      ]
     },
     "execution_count": 92,
     "metadata": {},
     "output_type": "execute_result"
    }
   ],
   "source": [
    "syncomm_todo"
   ]
  },
  {
   "cell_type": "code",
   "execution_count": 94,
   "metadata": {},
   "outputs": [
    {
     "data": {
      "text/plain": [
       "set()"
      ]
     },
     "execution_count": 94,
     "metadata": {},
     "output_type": "execute_result"
    }
   ],
   "source": [
    "syncomm_todo.intersection(needto)"
   ]
  },
  {
   "cell_type": "code",
   "execution_count": 73,
   "metadata": {},
   "outputs": [],
   "source": [
    "txt = 'antismash --clusterblast --subclusterblast --knownclusterblast --asf --smcogs ' #Chlamy33.fna \n",
    "txt2= ' --outputfolder ./as_output/' #Chlamy33"
   ]
  },
  {
   "cell_type": "code",
   "execution_count": 89,
   "metadata": {},
   "outputs": [
    {
     "name": "stdout",
     "output_type": "stream",
     "text": [
      "antismash --clusterblast --subclusterblast --knownclusterblast --asf --smcogs Chlamy135 --outputfolder ./as_output/Chlamy135\n",
      "antismash --clusterblast --subclusterblast --knownclusterblast --asf --smcogs Chlamy6 --outputfolder ./as_output/Chlamy6\n",
      "antismash --clusterblast --subclusterblast --knownclusterblast --asf --smcogs Chlamy77 --outputfolder ./as_output/Chlamy77\n",
      "antismash --clusterblast --subclusterblast --knownclusterblast --asf --smcogs Chlamy26 --outputfolder ./as_output/Chlamy26\n",
      "antismash --clusterblast --subclusterblast --knownclusterblast --asf --smcogs Chlamy49 --outputfolder ./as_output/Chlamy49\n",
      "antismash --clusterblast --subclusterblast --knownclusterblast --asf --smcogs Chlamy40 --outputfolder ./as_output/Chlamy40\n",
      "antismash --clusterblast --subclusterblast --knownclusterblast --asf --smcogs Chlamy176 --outputfolder ./as_output/Chlamy176\n",
      "antismash --clusterblast --subclusterblast --knownclusterblast --asf --smcogs Chlamy28 --outputfolder ./as_output/Chlamy28\n",
      "antismash --clusterblast --subclusterblast --knownclusterblast --asf --smcogs Chlamy8 --outputfolder ./as_output/Chlamy8\n",
      "antismash --clusterblast --subclusterblast --knownclusterblast --asf --smcogs Chlamy23 --outputfolder ./as_output/Chlamy23\n",
      "antismash --clusterblast --subclusterblast --knownclusterblast --asf --smcogs Chlamy134 --outputfolder ./as_output/Chlamy134\n",
      "antismash --clusterblast --subclusterblast --knownclusterblast --asf --smcogs Chlamy24 --outputfolder ./as_output/Chlamy24\n",
      "antismash --clusterblast --subclusterblast --knownclusterblast --asf --smcogs Chlamy123 --outputfolder ./as_output/Chlamy123\n",
      "antismash --clusterblast --subclusterblast --knownclusterblast --asf --smcogs Chlamy44 --outputfolder ./as_output/Chlamy44\n",
      "antismash --clusterblast --subclusterblast --knownclusterblast --asf --smcogs Chlamy19 --outputfolder ./as_output/Chlamy19\n",
      "antismash --clusterblast --subclusterblast --knownclusterblast --asf --smcogs Chlamy165 --outputfolder ./as_output/Chlamy165\n",
      "antismash --clusterblast --subclusterblast --knownclusterblast --asf --smcogs Chlamy125 --outputfolder ./as_output/Chlamy125\n",
      "antismash --clusterblast --subclusterblast --knownclusterblast --asf --smcogs Chlamy107 --outputfolder ./as_output/Chlamy107\n",
      "antismash --clusterblast --subclusterblast --knownclusterblast --asf --smcogs Chlamy87 --outputfolder ./as_output/Chlamy87\n",
      "antismash --clusterblast --subclusterblast --knownclusterblast --asf --smcogs Chlamy76 --outputfolder ./as_output/Chlamy76\n",
      "antismash --clusterblast --subclusterblast --knownclusterblast --asf --smcogs Chlamy13 --outputfolder ./as_output/Chlamy13\n",
      "antismash --clusterblast --subclusterblast --knownclusterblast --asf --smcogs Chlamy149 --outputfolder ./as_output/Chlamy149\n",
      "antismash --clusterblast --subclusterblast --knownclusterblast --asf --smcogs Chlamy25 --outputfolder ./as_output/Chlamy25\n",
      "antismash --clusterblast --subclusterblast --knownclusterblast --asf --smcogs Chlamy162 --outputfolder ./as_output/Chlamy162\n",
      "antismash --clusterblast --subclusterblast --knownclusterblast --asf --smcogs Chlamy52 --outputfolder ./as_output/Chlamy52\n",
      "25\n"
     ]
    }
   ],
   "source": [
    "count = 0\n",
    "for i in syncomm_todo:\n",
    "    count+=1\n",
    "    print(txt+i+txt2+i)\n",
    "print(count)"
   ]
  },
  {
   "cell_type": "code",
   "execution_count": 90,
   "metadata": {},
   "outputs": [
    {
     "name": "stdout",
     "output_type": "stream",
     "text": [
      "antismash --clusterblast --subclusterblast --knownclusterblast --asf --smcogs Chlamy30 --outputfolder ./as_output/Chlamy30\n",
      "antismash --clusterblast --subclusterblast --knownclusterblast --asf --smcogs Chlamy78 --outputfolder ./as_output/Chlamy78\n",
      "antismash --clusterblast --subclusterblast --knownclusterblast --asf --smcogs Chlamy61 --outputfolder ./as_output/Chlamy61\n",
      "antismash --clusterblast --subclusterblast --knownclusterblast --asf --smcogs Chlamy39 --outputfolder ./as_output/Chlamy39\n",
      "antismash --clusterblast --subclusterblast --knownclusterblast --asf --smcogs Chlamy175 --outputfolder ./as_output/Chlamy175\n",
      "antismash --clusterblast --subclusterblast --knownclusterblast --asf --smcogs Chlamy181 --outputfolder ./as_output/Chlamy181\n",
      "antismash --clusterblast --subclusterblast --knownclusterblast --asf --smcogs Chlamy124 --outputfolder ./as_output/Chlamy124\n",
      "antismash --clusterblast --subclusterblast --knownclusterblast --asf --smcogs Chlamy102 --outputfolder ./as_output/Chlamy102\n",
      "antismash --clusterblast --subclusterblast --knownclusterblast --asf --smcogs Chlamy94 --outputfolder ./as_output/Chlamy94\n",
      "antismash --clusterblast --subclusterblast --knownclusterblast --asf --smcogs Chlamy84 --outputfolder ./as_output/Chlamy84\n",
      "antismash --clusterblast --subclusterblast --knownclusterblast --asf --smcogs Chlamy80 --outputfolder ./as_output/Chlamy80\n",
      "antismash --clusterblast --subclusterblast --knownclusterblast --asf --smcogs Chlamy131 --outputfolder ./as_output/Chlamy131\n",
      "antismash --clusterblast --subclusterblast --knownclusterblast --asf --smcogs Chlamy189 --outputfolder ./as_output/Chlamy189\n",
      "antismash --clusterblast --subclusterblast --knownclusterblast --asf --smcogs Chlamy15 --outputfolder ./as_output/Chlamy15\n",
      "antismash --clusterblast --subclusterblast --knownclusterblast --asf --smcogs Chlamy85 --outputfolder ./as_output/Chlamy85\n",
      "antismash --clusterblast --subclusterblast --knownclusterblast --asf --smcogs Chlamy71 --outputfolder ./as_output/Chlamy71\n",
      "antismash --clusterblast --subclusterblast --knownclusterblast --asf --smcogs Chlamy170 --outputfolder ./as_output/Chlamy170\n",
      "antismash --clusterblast --subclusterblast --knownclusterblast --asf --smcogs Chlamy20 --outputfolder ./as_output/Chlamy20\n",
      "antismash --clusterblast --subclusterblast --knownclusterblast --asf --smcogs Chlamy56 --outputfolder ./as_output/Chlamy56\n",
      "antismash --clusterblast --subclusterblast --knownclusterblast --asf --smcogs Chlamy37 --outputfolder ./as_output/Chlamy37\n",
      "antismash --clusterblast --subclusterblast --knownclusterblast --asf --smcogs Chlamy192 --outputfolder ./as_output/Chlamy192\n",
      "antismash --clusterblast --subclusterblast --knownclusterblast --asf --smcogs Chlamy174 --outputfolder ./as_output/Chlamy174\n",
      "antismash --clusterblast --subclusterblast --knownclusterblast --asf --smcogs Chlamy59 --outputfolder ./as_output/Chlamy59\n",
      "antismash --clusterblast --subclusterblast --knownclusterblast --asf --smcogs Chlamy91 --outputfolder ./as_output/Chlamy91\n",
      "antismash --clusterblast --subclusterblast --knownclusterblast --asf --smcogs Chlamy122 --outputfolder ./as_output/Chlamy122\n",
      "antismash --clusterblast --subclusterblast --knownclusterblast --asf --smcogs Chlamy31 --outputfolder ./as_output/Chlamy31\n",
      "antismash --clusterblast --subclusterblast --knownclusterblast --asf --smcogs Chlamy65 --outputfolder ./as_output/Chlamy65\n",
      "antismash --clusterblast --subclusterblast --knownclusterblast --asf --smcogs Chlamy83 --outputfolder ./as_output/Chlamy83\n",
      "antismash --clusterblast --subclusterblast --knownclusterblast --asf --smcogs Chlamy179 --outputfolder ./as_output/Chlamy179\n",
      "antismash --clusterblast --subclusterblast --knownclusterblast --asf --smcogs Chlamy119 --outputfolder ./as_output/Chlamy119\n",
      "antismash --clusterblast --subclusterblast --knownclusterblast --asf --smcogs Chlamy81 --outputfolder ./as_output/Chlamy81\n",
      "antismash --clusterblast --subclusterblast --knownclusterblast --asf --smcogs Chlamy93 --outputfolder ./as_output/Chlamy93\n",
      "antismash --clusterblast --subclusterblast --knownclusterblast --asf --smcogs Chlamy126 --outputfolder ./as_output/Chlamy126\n",
      "antismash --clusterblast --subclusterblast --knownclusterblast --asf --smcogs Chlamy36 --outputfolder ./as_output/Chlamy36\n",
      "antismash --clusterblast --subclusterblast --knownclusterblast --asf --smcogs Chlamy142 --outputfolder ./as_output/Chlamy142\n",
      "antismash --clusterblast --subclusterblast --knownclusterblast --asf --smcogs Chlamy100 --outputfolder ./as_output/Chlamy100\n",
      "antismash --clusterblast --subclusterblast --knownclusterblast --asf --smcogs Chlamy187 --outputfolder ./as_output/Chlamy187\n",
      "antismash --clusterblast --subclusterblast --knownclusterblast --asf --smcogs Chlamy210 --outputfolder ./as_output/Chlamy210\n",
      "antismash --clusterblast --subclusterblast --knownclusterblast --asf --smcogs Chlamy198 --outputfolder ./as_output/Chlamy198\n",
      "antismash --clusterblast --subclusterblast --knownclusterblast --asf --smcogs Chlamy201 --outputfolder ./as_output/Chlamy201\n",
      "antismash --clusterblast --subclusterblast --knownclusterblast --asf --smcogs Chlamy159 --outputfolder ./as_output/Chlamy159\n",
      "antismash --clusterblast --subclusterblast --knownclusterblast --asf --smcogs Chlamy205 --outputfolder ./as_output/Chlamy205\n",
      "antismash --clusterblast --subclusterblast --knownclusterblast --asf --smcogs Chlamy156 --outputfolder ./as_output/Chlamy156\n",
      "antismash --clusterblast --subclusterblast --knownclusterblast --asf --smcogs Chlamy169 --outputfolder ./as_output/Chlamy169\n",
      "antismash --clusterblast --subclusterblast --knownclusterblast --asf --smcogs Chlamy98 --outputfolder ./as_output/Chlamy98\n",
      "antismash --clusterblast --subclusterblast --knownclusterblast --asf --smcogs Chlamy54 --outputfolder ./as_output/Chlamy54\n",
      "antismash --clusterblast --subclusterblast --knownclusterblast --asf --smcogs Chlamy130 --outputfolder ./as_output/Chlamy130\n",
      "antismash --clusterblast --subclusterblast --knownclusterblast --asf --smcogs Chlamy195 --outputfolder ./as_output/Chlamy195\n",
      "antismash --clusterblast --subclusterblast --knownclusterblast --asf --smcogs Chlamy211 --outputfolder ./as_output/Chlamy211\n",
      "antismash --clusterblast --subclusterblast --knownclusterblast --asf --smcogs Chlamy11 --outputfolder ./as_output/Chlamy11\n",
      "antismash --clusterblast --subclusterblast --knownclusterblast --asf --smcogs Chlamy180 --outputfolder ./as_output/Chlamy180\n",
      "antismash --clusterblast --subclusterblast --knownclusterblast --asf --smcogs Chlamy69 --outputfolder ./as_output/Chlamy69\n",
      "antismash --clusterblast --subclusterblast --knownclusterblast --asf --smcogs Chlamy63 --outputfolder ./as_output/Chlamy63\n",
      "antismash --clusterblast --subclusterblast --knownclusterblast --asf --smcogs Chlamy62 --outputfolder ./as_output/Chlamy62\n",
      "antismash --clusterblast --subclusterblast --knownclusterblast --asf --smcogs Chlamy10 --outputfolder ./as_output/Chlamy10\n",
      "antismash --clusterblast --subclusterblast --knownclusterblast --asf --smcogs Chlamy202 --outputfolder ./as_output/Chlamy202\n",
      "antismash --clusterblast --subclusterblast --knownclusterblast --asf --smcogs Chlamy35 --outputfolder ./as_output/Chlamy35\n",
      "antismash --clusterblast --subclusterblast --knownclusterblast --asf --smcogs Chlamy157 --outputfolder ./as_output/Chlamy157\n",
      "antismash --clusterblast --subclusterblast --knownclusterblast --asf --smcogs Chlamy177 --outputfolder ./as_output/Chlamy177\n",
      "antismash --clusterblast --subclusterblast --knownclusterblast --asf --smcogs Chlamy146 --outputfolder ./as_output/Chlamy146\n",
      "antismash --clusterblast --subclusterblast --knownclusterblast --asf --smcogs Chlamy38 --outputfolder ./as_output/Chlamy38\n",
      "antismash --clusterblast --subclusterblast --knownclusterblast --asf --smcogs Chlamy88 --outputfolder ./as_output/Chlamy88\n",
      "antismash --clusterblast --subclusterblast --knownclusterblast --asf --smcogs Chlamy103 --outputfolder ./as_output/Chlamy103\n",
      "antismash --clusterblast --subclusterblast --knownclusterblast --asf --smcogs Chlamy129 --outputfolder ./as_output/Chlamy129\n",
      "antismash --clusterblast --subclusterblast --knownclusterblast --asf --smcogs Chlamy173 --outputfolder ./as_output/Chlamy173\n",
      "antismash --clusterblast --subclusterblast --knownclusterblast --asf --smcogs Chlamy197 --outputfolder ./as_output/Chlamy197\n",
      "antismash --clusterblast --subclusterblast --knownclusterblast --asf --smcogs Chlamy51 --outputfolder ./as_output/Chlamy51\n",
      "antismash --clusterblast --subclusterblast --knownclusterblast --asf --smcogs Chlamy58 --outputfolder ./as_output/Chlamy58\n",
      "antismash --clusterblast --subclusterblast --knownclusterblast --asf --smcogs Chlamy160 --outputfolder ./as_output/Chlamy160\n",
      "antismash --clusterblast --subclusterblast --knownclusterblast --asf --smcogs Chlamy151 --outputfolder ./as_output/Chlamy151\n",
      "antismash --clusterblast --subclusterblast --knownclusterblast --asf --smcogs Chlamy117 --outputfolder ./as_output/Chlamy117\n",
      "antismash --clusterblast --subclusterblast --knownclusterblast --asf --smcogs Chlamy133 --outputfolder ./as_output/Chlamy133\n",
      "antismash --clusterblast --subclusterblast --knownclusterblast --asf --smcogs Chlamy207 --outputfolder ./as_output/Chlamy207\n",
      "antismash --clusterblast --subclusterblast --knownclusterblast --asf --smcogs Chlamy45 --outputfolder ./as_output/Chlamy45\n",
      "antismash --clusterblast --subclusterblast --knownclusterblast --asf --smcogs Chlamy60 --outputfolder ./as_output/Chlamy60\n",
      "antismash --clusterblast --subclusterblast --knownclusterblast --asf --smcogs Chlamy120 --outputfolder ./as_output/Chlamy120\n",
      "antismash --clusterblast --subclusterblast --knownclusterblast --asf --smcogs Chlamy186 --outputfolder ./as_output/Chlamy186\n",
      "antismash --clusterblast --subclusterblast --knownclusterblast --asf --smcogs Chlamy183 --outputfolder ./as_output/Chlamy183\n",
      "antismash --clusterblast --subclusterblast --knownclusterblast --asf --smcogs Chlamy178 --outputfolder ./as_output/Chlamy178\n",
      "antismash --clusterblast --subclusterblast --knownclusterblast --asf --smcogs Chlamy86 --outputfolder ./as_output/Chlamy86\n",
      "antismash --clusterblast --subclusterblast --knownclusterblast --asf --smcogs Chlamy116 --outputfolder ./as_output/Chlamy116\n",
      "antismash --clusterblast --subclusterblast --knownclusterblast --asf --smcogs Chlamy95 --outputfolder ./as_output/Chlamy95\n",
      "antismash --clusterblast --subclusterblast --knownclusterblast --asf --smcogs Chlamy150 --outputfolder ./as_output/Chlamy150\n",
      "antismash --clusterblast --subclusterblast --knownclusterblast --asf --smcogs Chlamy111 --outputfolder ./as_output/Chlamy111\n",
      "antismash --clusterblast --subclusterblast --knownclusterblast --asf --smcogs Chlamy50 --outputfolder ./as_output/Chlamy50\n",
      "antismash --clusterblast --subclusterblast --knownclusterblast --asf --smcogs Chlamy22 --outputfolder ./as_output/Chlamy22\n",
      "antismash --clusterblast --subclusterblast --knownclusterblast --asf --smcogs Chlamy75 --outputfolder ./as_output/Chlamy75\n",
      "antismash --clusterblast --subclusterblast --knownclusterblast --asf --smcogs Chlamy138 --outputfolder ./as_output/Chlamy138\n",
      "antismash --clusterblast --subclusterblast --knownclusterblast --asf --smcogs Chlamy143 --outputfolder ./as_output/Chlamy143\n",
      "antismash --clusterblast --subclusterblast --knownclusterblast --asf --smcogs Chlamy104 --outputfolder ./as_output/Chlamy104\n",
      "antismash --clusterblast --subclusterblast --knownclusterblast --asf --smcogs Chlamy43 --outputfolder ./as_output/Chlamy43\n",
      "antismash --clusterblast --subclusterblast --knownclusterblast --asf --smcogs Chlamy115 --outputfolder ./as_output/Chlamy115\n",
      "antismash --clusterblast --subclusterblast --knownclusterblast --asf --smcogs Chlamy109 --outputfolder ./as_output/Chlamy109\n",
      "antismash --clusterblast --subclusterblast --knownclusterblast --asf --smcogs Chlamy158 --outputfolder ./as_output/Chlamy158\n",
      "antismash --clusterblast --subclusterblast --knownclusterblast --asf --smcogs Chlamy184 --outputfolder ./as_output/Chlamy184\n",
      "antismash --clusterblast --subclusterblast --knownclusterblast --asf --smcogs Chlamy190 --outputfolder ./as_output/Chlamy190\n",
      "antismash --clusterblast --subclusterblast --knownclusterblast --asf --smcogs Chlamy148 --outputfolder ./as_output/Chlamy148\n",
      "antismash --clusterblast --subclusterblast --knownclusterblast --asf --smcogs Chlamy70 --outputfolder ./as_output/Chlamy70\n",
      "antismash --clusterblast --subclusterblast --knownclusterblast --asf --smcogs Chlamy171 --outputfolder ./as_output/Chlamy171\n",
      "antismash --clusterblast --subclusterblast --knownclusterblast --asf --smcogs Chlamy208 --outputfolder ./as_output/Chlamy208\n",
      "antismash --clusterblast --subclusterblast --knownclusterblast --asf --smcogs Chlamy118 --outputfolder ./as_output/Chlamy118\n",
      "antismash --clusterblast --subclusterblast --knownclusterblast --asf --smcogs Chlamy137 --outputfolder ./as_output/Chlamy137\n",
      "antismash --clusterblast --subclusterblast --knownclusterblast --asf --smcogs Chlamy206 --outputfolder ./as_output/Chlamy206\n",
      "antismash --clusterblast --subclusterblast --knownclusterblast --asf --smcogs Chlamy29 --outputfolder ./as_output/Chlamy29\n",
      "antismash --clusterblast --subclusterblast --knownclusterblast --asf --smcogs Chlamy196 --outputfolder ./as_output/Chlamy196\n",
      "antismash --clusterblast --subclusterblast --knownclusterblast --asf --smcogs Chlamy152 --outputfolder ./as_output/Chlamy152\n",
      "antismash --clusterblast --subclusterblast --knownclusterblast --asf --smcogs Chlamy72 --outputfolder ./as_output/Chlamy72\n",
      "antismash --clusterblast --subclusterblast --knownclusterblast --asf --smcogs Chlamy144 --outputfolder ./as_output/Chlamy144\n",
      "antismash --clusterblast --subclusterblast --knownclusterblast --asf --smcogs Chlamy191 --outputfolder ./as_output/Chlamy191\n",
      "antismash --clusterblast --subclusterblast --knownclusterblast --asf --smcogs Chlamy167 --outputfolder ./as_output/Chlamy167\n",
      "antismash --clusterblast --subclusterblast --knownclusterblast --asf --smcogs Chlamy64 --outputfolder ./as_output/Chlamy64\n",
      "antismash --clusterblast --subclusterblast --knownclusterblast --asf --smcogs Chlamy200 --outputfolder ./as_output/Chlamy200\n",
      "antismash --clusterblast --subclusterblast --knownclusterblast --asf --smcogs Chlamy14 --outputfolder ./as_output/Chlamy14\n",
      "antismash --clusterblast --subclusterblast --knownclusterblast --asf --smcogs Chlamy82 --outputfolder ./as_output/Chlamy82\n",
      "antismash --clusterblast --subclusterblast --knownclusterblast --asf --smcogs Chlamy106 --outputfolder ./as_output/Chlamy106\n",
      "antismash --clusterblast --subclusterblast --knownclusterblast --asf --smcogs Chlamy132 --outputfolder ./as_output/Chlamy132\n",
      "antismash --clusterblast --subclusterblast --knownclusterblast --asf --smcogs Chlamy92 --outputfolder ./as_output/Chlamy92\n",
      "antismash --clusterblast --subclusterblast --knownclusterblast --asf --smcogs Chlamy53 --outputfolder ./as_output/Chlamy53\n",
      "antismash --clusterblast --subclusterblast --knownclusterblast --asf --smcogs Chlamy16 --outputfolder ./as_output/Chlamy16\n",
      "antismash --clusterblast --subclusterblast --knownclusterblast --asf --smcogs Chlamy42 --outputfolder ./as_output/Chlamy42\n",
      "antismash --clusterblast --subclusterblast --knownclusterblast --asf --smcogs Chlamy140 --outputfolder ./as_output/Chlamy140\n",
      "antismash --clusterblast --subclusterblast --knownclusterblast --asf --smcogs Chlamy172 --outputfolder ./as_output/Chlamy172\n",
      "antismash --clusterblast --subclusterblast --knownclusterblast --asf --smcogs Chlamy163 --outputfolder ./as_output/Chlamy163\n",
      "antismash --clusterblast --subclusterblast --knownclusterblast --asf --smcogs Chlamy209 --outputfolder ./as_output/Chlamy209\n",
      "antismash --clusterblast --subclusterblast --knownclusterblast --asf --smcogs Chlamy121 --outputfolder ./as_output/Chlamy121\n",
      "antismash --clusterblast --subclusterblast --knownclusterblast --asf --smcogs Chlamy194 --outputfolder ./as_output/Chlamy194\n",
      "antismash --clusterblast --subclusterblast --knownclusterblast --asf --smcogs Chlamy155 --outputfolder ./as_output/Chlamy155\n",
      "antismash --clusterblast --subclusterblast --knownclusterblast --asf --smcogs Chlamy188 --outputfolder ./as_output/Chlamy188\n",
      "antismash --clusterblast --subclusterblast --knownclusterblast --asf --smcogs Chlamy199 --outputfolder ./as_output/Chlamy199\n",
      "antismash --clusterblast --subclusterblast --knownclusterblast --asf --smcogs Chlamy47 --outputfolder ./as_output/Chlamy47\n",
      "antismash --clusterblast --subclusterblast --knownclusterblast --asf --smcogs Chlamy139 --outputfolder ./as_output/Chlamy139\n",
      "antismash --clusterblast --subclusterblast --knownclusterblast --asf --smcogs Chlamy145 --outputfolder ./as_output/Chlamy145\n",
      "antismash --clusterblast --subclusterblast --knownclusterblast --asf --smcogs Chlamy55 --outputfolder ./as_output/Chlamy55\n",
      "antismash --clusterblast --subclusterblast --knownclusterblast --asf --smcogs Chlamy12 --outputfolder ./as_output/Chlamy12\n",
      "antismash --clusterblast --subclusterblast --knownclusterblast --asf --smcogs Chlamy193 --outputfolder ./as_output/Chlamy193\n",
      "antismash --clusterblast --subclusterblast --knownclusterblast --asf --smcogs Chlamy164 --outputfolder ./as_output/Chlamy164\n",
      "antismash --clusterblast --subclusterblast --knownclusterblast --asf --smcogs Chlamy32 --outputfolder ./as_output/Chlamy32\n",
      "antismash --clusterblast --subclusterblast --knownclusterblast --asf --smcogs Chlamy147 --outputfolder ./as_output/Chlamy147\n",
      "antismash --clusterblast --subclusterblast --knownclusterblast --asf --smcogs Chlamy141 --outputfolder ./as_output/Chlamy141\n",
      "139\n"
     ]
    }
   ],
   "source": [
    "count = 0\n",
    "for i in needto:\n",
    "    count+=1\n",
    "    \n",
    "    print(txt+i+txt2+i)\n",
    "print(count)"
   ]
  },
  {
   "cell_type": "code",
   "execution_count": null,
   "metadata": {},
   "outputs": [],
   "source": []
  }
 ],
 "metadata": {
  "kernelspec": {
   "display_name": "Python 3",
   "language": "python",
   "name": "python3"
  },
  "language_info": {
   "codemirror_mode": {
    "name": "ipython",
    "version": 3
   },
   "file_extension": ".py",
   "mimetype": "text/x-python",
   "name": "python",
   "nbconvert_exporter": "python",
   "pygments_lexer": "ipython3",
   "version": "3.7.3"
  }
 },
 "nbformat": 4,
 "nbformat_minor": 2
}
